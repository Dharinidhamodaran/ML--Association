{
 "cells": [
  {
   "cell_type": "markdown",
   "metadata": {},
   "source": [
    "#  Market Basket Analysis"
   ]
  },
  {
   "cell_type": "markdown",
   "metadata": {
    "id": "cGpmO57n2-t5"
   },
   "source": [
    "# Importing the libraries"
   ]
  },
  {
   "cell_type": "code",
   "execution_count": 1,
   "metadata": {
    "executionInfo": {
     "elapsed": 1623,
     "status": "ok",
     "timestamp": 1631112190803,
     "user": {
      "displayName": "Sahil Rahman",
      "photoUrl": "https://lh3.googleusercontent.com/a-/AOh14GiJ8lzvw0EAvZyy3OveF6J53a3ecWuQmgHRsF6n6D4=s64",
      "userId": "17212050139887820689"
     },
     "user_tz": -330
    },
    "id": "qE-FFZM2hLCP"
   },
   "outputs": [],
   "source": [
    "import pandas as pd\n",
    "import numpy as np\n",
    "import matplotlib.pyplot as plt\n",
    "import seaborn as sns"
   ]
  },
  {
   "cell_type": "markdown",
   "metadata": {
    "id": "fFakUAE23Tjf"
   },
   "source": [
    "# Installing the apyori to perform the Apriori algorithm"
   ]
  },
  {
   "cell_type": "code",
   "execution_count": 2,
   "metadata": {
    "colab": {
     "base_uri": "https://localhost:8080/"
    },
    "executionInfo": {
     "elapsed": 6262,
     "status": "ok",
     "timestamp": 1631112278798,
     "user": {
      "displayName": "Sahil Rahman",
      "photoUrl": "https://lh3.googleusercontent.com/a-/AOh14GiJ8lzvw0EAvZyy3OveF6J53a3ecWuQmgHRsF6n6D4=s64",
      "userId": "17212050139887820689"
     },
     "user_tz": -330
    },
    "id": "LrwVmGRthMeW",
    "outputId": "faa61aa6-fe8f-4276-d946-e880f91faa60"
   },
   "outputs": [
    {
     "name": "stdout",
     "output_type": "stream",
     "text": [
      "Collecting apyori\n",
      "  Downloading apyori-1.1.2.tar.gz (8.6 kB)\n",
      "  Preparing metadata (setup.py): started\n",
      "  Preparing metadata (setup.py): finished with status 'done'\n",
      "Building wheels for collected packages: apyori\n",
      "  Building wheel for apyori (setup.py): started\n",
      "  Building wheel for apyori (setup.py): finished with status 'done'\n",
      "  Created wheel for apyori: filename=apyori-1.1.2-py3-none-any.whl size=5955 sha256=48015eb3940ad147ce121dc022745f2cf5463984be2596e05d8cdca82c02c6f1\n",
      "  Stored in directory: c:\\users\\dharini\\appdata\\local\\pip\\cache\\wheels\\1b\\02\\6c\\a45230be8603bd95c0a51cd2b289aefdd860c1a100eab73661\n",
      "Successfully built apyori\n",
      "Installing collected packages: apyori\n",
      "Successfully installed apyori-1.1.2\n"
     ]
    },
    {
     "name": "stderr",
     "output_type": "stream",
     "text": [
      "\n",
      "[notice] A new release of pip is available: 23.2.1 -> 24.0\n",
      "[notice] To update, run: python.exe -m pip install --upgrade pip\n"
     ]
    }
   ],
   "source": [
    "!pip install apyori"
   ]
  },
  {
   "cell_type": "code",
   "execution_count": 3,
   "metadata": {
    "executionInfo": {
     "elapsed": 347,
     "status": "ok",
     "timestamp": 1631112299189,
     "user": {
      "displayName": "Sahil Rahman",
      "photoUrl": "https://lh3.googleusercontent.com/a-/AOh14GiJ8lzvw0EAvZyy3OveF6J53a3ecWuQmgHRsF6n6D4=s64",
      "userId": "17212050139887820689"
     },
     "user_tz": -330
    },
    "id": "sZygzbydhMhN"
   },
   "outputs": [],
   "source": [
    "from apyori import apriori"
   ]
  },
  {
   "cell_type": "markdown",
   "metadata": {
    "id": "vgbdFO-I3trw"
   },
   "source": [
    "# Importing the dataset\n"
   ]
  },
  {
   "cell_type": "code",
   "execution_count": 4,
   "metadata": {
    "executionInfo": {
     "elapsed": 1495,
     "status": "ok",
     "timestamp": 1631112357529,
     "user": {
      "displayName": "Sahil Rahman",
      "photoUrl": "https://lh3.googleusercontent.com/a-/AOh14GiJ8lzvw0EAvZyy3OveF6J53a3ecWuQmgHRsF6n6D4=s64",
      "userId": "17212050139887820689"
     },
     "user_tz": -330
    },
    "id": "p5eOIxPlhMkB"
   },
   "outputs": [],
   "source": [
    "df = pd.read_csv(\"C:/Users/Dharini/Downloads/Groceries_dataset.csv/Groceries_dataset.csv\")"
   ]
  },
  {
   "cell_type": "markdown",
   "metadata": {
    "id": "-IBUn8q54HhZ"
   },
   "source": [
    "# Data Analysis"
   ]
  },
  {
   "cell_type": "code",
   "execution_count": 5,
   "metadata": {
    "colab": {
     "base_uri": "https://localhost:8080/",
     "height": 205
    },
    "executionInfo": {
     "elapsed": 357,
     "status": "ok",
     "timestamp": 1631112362089,
     "user": {
      "displayName": "Sahil Rahman",
      "photoUrl": "https://lh3.googleusercontent.com/a-/AOh14GiJ8lzvw0EAvZyy3OveF6J53a3ecWuQmgHRsF6n6D4=s64",
      "userId": "17212050139887820689"
     },
     "user_tz": -330
    },
    "id": "RAsFwfLShMm1",
    "outputId": "e1a9b60b-ed23-4e56-c780-6dcddec4f5cd"
   },
   "outputs": [
    {
     "data": {
      "text/html": [
       "<div>\n",
       "<style scoped>\n",
       "    .dataframe tbody tr th:only-of-type {\n",
       "        vertical-align: middle;\n",
       "    }\n",
       "\n",
       "    .dataframe tbody tr th {\n",
       "        vertical-align: top;\n",
       "    }\n",
       "\n",
       "    .dataframe thead th {\n",
       "        text-align: right;\n",
       "    }\n",
       "</style>\n",
       "<table border=\"1\" class=\"dataframe\">\n",
       "  <thead>\n",
       "    <tr style=\"text-align: right;\">\n",
       "      <th></th>\n",
       "      <th>Member_number</th>\n",
       "      <th>Date</th>\n",
       "      <th>itemDescription</th>\n",
       "    </tr>\n",
       "  </thead>\n",
       "  <tbody>\n",
       "    <tr>\n",
       "      <th>0</th>\n",
       "      <td>1808</td>\n",
       "      <td>21-07-2015</td>\n",
       "      <td>tropical fruit</td>\n",
       "    </tr>\n",
       "    <tr>\n",
       "      <th>1</th>\n",
       "      <td>2552</td>\n",
       "      <td>05-01-2015</td>\n",
       "      <td>whole milk</td>\n",
       "    </tr>\n",
       "    <tr>\n",
       "      <th>2</th>\n",
       "      <td>2300</td>\n",
       "      <td>19-09-2015</td>\n",
       "      <td>pip fruit</td>\n",
       "    </tr>\n",
       "    <tr>\n",
       "      <th>3</th>\n",
       "      <td>1187</td>\n",
       "      <td>12-12-2015</td>\n",
       "      <td>other vegetables</td>\n",
       "    </tr>\n",
       "    <tr>\n",
       "      <th>4</th>\n",
       "      <td>3037</td>\n",
       "      <td>01-02-2015</td>\n",
       "      <td>whole milk</td>\n",
       "    </tr>\n",
       "  </tbody>\n",
       "</table>\n",
       "</div>"
      ],
      "text/plain": [
       "   Member_number        Date   itemDescription\n",
       "0           1808  21-07-2015    tropical fruit\n",
       "1           2552  05-01-2015        whole milk\n",
       "2           2300  19-09-2015         pip fruit\n",
       "3           1187  12-12-2015  other vegetables\n",
       "4           3037  01-02-2015        whole milk"
      ]
     },
     "execution_count": 5,
     "metadata": {},
     "output_type": "execute_result"
    }
   ],
   "source": [
    "df.head()"
   ]
  },
  {
   "cell_type": "code",
   "execution_count": 6,
   "metadata": {
    "colab": {
     "base_uri": "https://localhost:8080/"
    },
    "executionInfo": {
     "elapsed": 356,
     "status": "ok",
     "timestamp": 1631112438939,
     "user": {
      "displayName": "Sahil Rahman",
      "photoUrl": "https://lh3.googleusercontent.com/a-/AOh14GiJ8lzvw0EAvZyy3OveF6J53a3ecWuQmgHRsF6n6D4=s64",
      "userId": "17212050139887820689"
     },
     "user_tz": -330
    },
    "id": "0g11CdfIhMpx",
    "outputId": "e1234120-6bfa-4ffe-e355-11cb98c6dc70"
   },
   "outputs": [
    {
     "name": "stdout",
     "output_type": "stream",
     "text": [
      "<class 'pandas.core.frame.DataFrame'>\n",
      "RangeIndex: 38765 entries, 0 to 38764\n",
      "Data columns (total 3 columns):\n",
      " #   Column           Non-Null Count  Dtype \n",
      "---  ------           --------------  ----- \n",
      " 0   Member_number    38765 non-null  int64 \n",
      " 1   Date             38765 non-null  object\n",
      " 2   itemDescription  38765 non-null  object\n",
      "dtypes: int64(1), object(2)\n",
      "memory usage: 908.7+ KB\n"
     ]
    }
   ],
   "source": [
    "df.info()"
   ]
  },
  {
   "cell_type": "code",
   "execution_count": 7,
   "metadata": {
    "colab": {
     "base_uri": "https://localhost:8080/"
    },
    "executionInfo": {
     "elapsed": 603,
     "status": "ok",
     "timestamp": 1631112495548,
     "user": {
      "displayName": "Sahil Rahman",
      "photoUrl": "https://lh3.googleusercontent.com/a-/AOh14GiJ8lzvw0EAvZyy3OveF6J53a3ecWuQmgHRsF6n6D4=s64",
      "userId": "17212050139887820689"
     },
     "user_tz": -330
    },
    "id": "QQkmLH2GhMtT",
    "outputId": "dfdf6fd2-8d16-4091-fa10-045d4a67a0f6"
   },
   "outputs": [
    {
     "data": {
      "text/plain": [
       "(38765, 3)"
      ]
     },
     "execution_count": 7,
     "metadata": {},
     "output_type": "execute_result"
    }
   ],
   "source": [
    "df.shape"
   ]
  },
  {
   "cell_type": "code",
   "execution_count": 8,
   "metadata": {
    "colab": {
     "base_uri": "https://localhost:8080/"
    },
    "executionInfo": {
     "elapsed": 353,
     "status": "ok",
     "timestamp": 1631112534604,
     "user": {
      "displayName": "Sahil Rahman",
      "photoUrl": "https://lh3.googleusercontent.com/a-/AOh14GiJ8lzvw0EAvZyy3OveF6J53a3ecWuQmgHRsF6n6D4=s64",
      "userId": "17212050139887820689"
     },
     "user_tz": -330
    },
    "id": "jH9N7ErBhMwZ",
    "outputId": "782ffb37-5cbe-4bb1-d930-26393e196040"
   },
   "outputs": [
    {
     "data": {
      "text/plain": [
       "116295"
      ]
     },
     "execution_count": 8,
     "metadata": {},
     "output_type": "execute_result"
    }
   ],
   "source": [
    "df.size"
   ]
  },
  {
   "cell_type": "code",
   "execution_count": 9,
   "metadata": {
    "colab": {
     "base_uri": "https://localhost:8080/"
    },
    "executionInfo": {
     "elapsed": 563,
     "status": "ok",
     "timestamp": 1631112631751,
     "user": {
      "displayName": "Sahil Rahman",
      "photoUrl": "https://lh3.googleusercontent.com/a-/AOh14GiJ8lzvw0EAvZyy3OveF6J53a3ecWuQmgHRsF6n6D4=s64",
      "userId": "17212050139887820689"
     },
     "user_tz": -330
    },
    "id": "pLw7BmLBhMzg",
    "outputId": "f4015ed3-980b-4b0d-e2e3-2561cc0cf31a"
   },
   "outputs": [
    {
     "data": {
      "text/plain": [
       "2"
      ]
     },
     "execution_count": 9,
     "metadata": {},
     "output_type": "execute_result"
    }
   ],
   "source": [
    "df.ndim"
   ]
  },
  {
   "cell_type": "code",
   "execution_count": 10,
   "metadata": {
    "colab": {
     "base_uri": "https://localhost:8080/"
    },
    "executionInfo": {
     "elapsed": 360,
     "status": "ok",
     "timestamp": 1631112679525,
     "user": {
      "displayName": "Sahil Rahman",
      "photoUrl": "https://lh3.googleusercontent.com/a-/AOh14GiJ8lzvw0EAvZyy3OveF6J53a3ecWuQmgHRsF6n6D4=s64",
      "userId": "17212050139887820689"
     },
     "user_tz": -330
    },
    "id": "34VIs8F8hM2p",
    "outputId": "ca65c954-123d-4cfc-c85f-1f2a0d11ce39"
   },
   "outputs": [
    {
     "data": {
      "text/plain": [
       "Member_number      0\n",
       "Date               0\n",
       "itemDescription    0\n",
       "dtype: int64"
      ]
     },
     "execution_count": 10,
     "metadata": {},
     "output_type": "execute_result"
    }
   ],
   "source": [
    "df.isna().sum()"
   ]
  },
  {
   "cell_type": "code",
   "execution_count": 11,
   "metadata": {
    "colab": {
     "base_uri": "https://localhost:8080/",
     "height": 205
    },
    "executionInfo": {
     "elapsed": 340,
     "status": "ok",
     "timestamp": 1631112705743,
     "user": {
      "displayName": "Sahil Rahman",
      "photoUrl": "https://lh3.googleusercontent.com/a-/AOh14GiJ8lzvw0EAvZyy3OveF6J53a3ecWuQmgHRsF6n6D4=s64",
      "userId": "17212050139887820689"
     },
     "user_tz": -330
    },
    "id": "8rtB5upMhM5i",
    "outputId": "96150e57-a6c7-4c17-d290-97d3ece42b0d"
   },
   "outputs": [
    {
     "data": {
      "text/html": [
       "<div>\n",
       "<style scoped>\n",
       "    .dataframe tbody tr th:only-of-type {\n",
       "        vertical-align: middle;\n",
       "    }\n",
       "\n",
       "    .dataframe tbody tr th {\n",
       "        vertical-align: top;\n",
       "    }\n",
       "\n",
       "    .dataframe thead th {\n",
       "        text-align: right;\n",
       "    }\n",
       "</style>\n",
       "<table border=\"1\" class=\"dataframe\">\n",
       "  <thead>\n",
       "    <tr style=\"text-align: right;\">\n",
       "      <th></th>\n",
       "      <th>Member_number</th>\n",
       "      <th>Date</th>\n",
       "      <th>itemDescription</th>\n",
       "    </tr>\n",
       "  </thead>\n",
       "  <tbody>\n",
       "    <tr>\n",
       "      <th>0</th>\n",
       "      <td>1808</td>\n",
       "      <td>21-07-2015</td>\n",
       "      <td>tropical fruit</td>\n",
       "    </tr>\n",
       "    <tr>\n",
       "      <th>1</th>\n",
       "      <td>2552</td>\n",
       "      <td>05-01-2015</td>\n",
       "      <td>whole milk</td>\n",
       "    </tr>\n",
       "    <tr>\n",
       "      <th>2</th>\n",
       "      <td>2300</td>\n",
       "      <td>19-09-2015</td>\n",
       "      <td>pip fruit</td>\n",
       "    </tr>\n",
       "    <tr>\n",
       "      <th>3</th>\n",
       "      <td>1187</td>\n",
       "      <td>12-12-2015</td>\n",
       "      <td>other vegetables</td>\n",
       "    </tr>\n",
       "    <tr>\n",
       "      <th>4</th>\n",
       "      <td>3037</td>\n",
       "      <td>01-02-2015</td>\n",
       "      <td>whole milk</td>\n",
       "    </tr>\n",
       "  </tbody>\n",
       "</table>\n",
       "</div>"
      ],
      "text/plain": [
       "   Member_number        Date   itemDescription\n",
       "0           1808  21-07-2015    tropical fruit\n",
       "1           2552  05-01-2015        whole milk\n",
       "2           2300  19-09-2015         pip fruit\n",
       "3           1187  12-12-2015  other vegetables\n",
       "4           3037  01-02-2015        whole milk"
      ]
     },
     "execution_count": 11,
     "metadata": {},
     "output_type": "execute_result"
    }
   ],
   "source": [
    "df.head()"
   ]
  },
  {
   "cell_type": "code",
   "execution_count": 12,
   "metadata": {
    "colab": {
     "base_uri": "https://localhost:8080/"
    },
    "executionInfo": {
     "elapsed": 350,
     "status": "ok",
     "timestamp": 1631112949046,
     "user": {
      "displayName": "Sahil Rahman",
      "photoUrl": "https://lh3.googleusercontent.com/a-/AOh14GiJ8lzvw0EAvZyy3OveF6J53a3ecWuQmgHRsF6n6D4=s64",
      "userId": "17212050139887820689"
     },
     "user_tz": -330
    },
    "id": "-ZQ-gnO0hM8Y",
    "outputId": "86ea7ac0-843d-477d-97b2-7774254b2305"
   },
   "outputs": [
    {
     "data": {
      "text/plain": [
       "itemDescription\n",
       "whole milk          2502\n",
       "other vegetables    1898\n",
       "rolls/buns          1716\n",
       "soda                1514\n",
       "yogurt              1334\n",
       "root vegetables     1071\n",
       "tropical fruit      1032\n",
       "bottled water        933\n",
       "sausage              924\n",
       "citrus fruit         812\n",
       "Name: count, dtype: int64"
      ]
     },
     "execution_count": 12,
     "metadata": {},
     "output_type": "execute_result"
    }
   ],
   "source": [
    "# Q1. Which of the items are the top 10 selling item?\n",
    "df.itemDescription.value_counts().head(10)"
   ]
  },
  {
   "cell_type": "code",
   "execution_count": 13,
   "metadata": {
    "colab": {
     "base_uri": "https://localhost:8080/",
     "height": 591
    },
    "executionInfo": {
     "elapsed": 724,
     "status": "ok",
     "timestamp": 1631113331142,
     "user": {
      "displayName": "Sahil Rahman",
      "photoUrl": "https://lh3.googleusercontent.com/a-/AOh14GiJ8lzvw0EAvZyy3OveF6J53a3ecWuQmgHRsF6n6D4=s64",
      "userId": "17212050139887820689"
     },
     "user_tz": -330
    },
    "id": "SONMj7G56bxC",
    "outputId": "346f1674-d52e-4af5-fb97-96169a11b0d6"
   },
   "outputs": [
    {
     "data": {
      "text/plain": [
       "Text(0.5, 1.0, 'Top 10 selling items')"
      ]
     },
     "execution_count": 13,
     "metadata": {},
     "output_type": "execute_result"
    },
    {
     "data": {
      "image/png": "[encoded data removed]",
      "text/plain": [
       "<Figure size 800x800 with 1 Axes>"
      ]
     },
     "metadata": {},
     "output_type": "display_data"
    }
   ],
   "source": [
    "plt.figure(figsize=(8,8))\n",
    "df.itemDescription.value_counts().head(10).plot.bar()\n",
    "plt.title('Top 10 selling items')"
   ]
  },
  {
   "cell_type": "code",
   "execution_count": 14,
   "metadata": {
    "colab": {
     "base_uri": "https://localhost:8080/"
    },
    "executionInfo": {
     "elapsed": 340,
     "status": "ok",
     "timestamp": 1631113549013,
     "user": {
      "displayName": "Sahil Rahman",
      "photoUrl": "https://lh3.googleusercontent.com/a-/AOh14GiJ8lzvw0EAvZyy3OveF6J53a3ecWuQmgHRsF6n6D4=s64",
      "userId": "17212050139887820689"
     },
     "user_tz": -330
    },
    "id": "rllw2Fi5hM_q",
    "outputId": "6d31070b-87d5-4cc8-f782-dc438ccbc196"
   },
   "outputs": [
    {
     "data": {
      "text/plain": [
       "itemDescription\n",
       "kitchen utensil          1\n",
       "preservation products    1\n",
       "baby cosmetics           3\n",
       "bags                     4\n",
       "make up remover          5\n",
       "toilet cleaner           5\n",
       "frozen chicken           5\n",
       "rubbing alcohol          5\n",
       "salad dressing           6\n",
       "whisky                   8\n",
       "Name: count, dtype: int64"
      ]
     },
     "execution_count": 14,
     "metadata": {},
     "output_type": "execute_result"
    }
   ],
   "source": [
    "# Q2. Which of the item is the least 10 selling item?\n",
    "df.itemDescription.value_counts().tail(10).sort_values()"
   ]
  },
  {
   "cell_type": "code",
   "execution_count": 15,
   "metadata": {
    "colab": {
     "base_uri": "https://localhost:8080/",
     "height": 383
    },
    "executionInfo": {
     "elapsed": 690,
     "status": "ok",
     "timestamp": 1631113613827,
     "user": {
      "displayName": "Sahil Rahman",
      "photoUrl": "https://lh3.googleusercontent.com/a-/AOh14GiJ8lzvw0EAvZyy3OveF6J53a3ecWuQmgHRsF6n6D4=s64",
      "userId": "17212050139887820689"
     },
     "user_tz": -330
    },
    "id": "BqaM67xJhNCv",
    "outputId": "69101dd3-c2e6-4b3a-c7ac-3060db41c982"
   },
   "outputs": [
    {
     "data": {
      "text/plain": [
       "<AxesSubplot: xlabel='itemDescription'>"
      ]
     },
     "execution_count": 15,
     "metadata": {},
     "output_type": "execute_result"
    },
    {
     "data": {
      "image/png": "[encoded data removed]",
      "text/plain": [
       "<Figure size 640x480 with 1 Axes>"
      ]
     },
     "metadata": {},
     "output_type": "display_data"
    }
   ],
   "source": [
    "df.itemDescription.value_counts().tail(10).sort_values().plot.bar()"
   ]
  },
  {
   "cell_type": "code",
   "execution_count": 16,
   "metadata": {
    "colab": {
     "base_uri": "https://localhost:8080/",
     "height": 205
    },
    "executionInfo": {
     "elapsed": 354,
     "status": "ok",
     "timestamp": 1631113638451,
     "user": {
      "displayName": "Sahil Rahman",
      "photoUrl": "https://lh3.googleusercontent.com/a-/AOh14GiJ8lzvw0EAvZyy3OveF6J53a3ecWuQmgHRsF6n6D4=s64",
      "userId": "17212050139887820689"
     },
     "user_tz": -330
    },
    "id": "WcvL2ZzVhNE4",
    "outputId": "4de4eb78-ea2a-4716-c905-f161808ef591"
   },
   "outputs": [
    {
     "data": {
      "text/html": [
       "<div>\n",
       "<style scoped>\n",
       "    .dataframe tbody tr th:only-of-type {\n",
       "        vertical-align: middle;\n",
       "    }\n",
       "\n",
       "    .dataframe tbody tr th {\n",
       "        vertical-align: top;\n",
       "    }\n",
       "\n",
       "    .dataframe thead th {\n",
       "        text-align: right;\n",
       "    }\n",
       "</style>\n",
       "<table border=\"1\" class=\"dataframe\">\n",
       "  <thead>\n",
       "    <tr style=\"text-align: right;\">\n",
       "      <th></th>\n",
       "      <th>Member_number</th>\n",
       "      <th>Date</th>\n",
       "      <th>itemDescription</th>\n",
       "    </tr>\n",
       "  </thead>\n",
       "  <tbody>\n",
       "    <tr>\n",
       "      <th>0</th>\n",
       "      <td>1808</td>\n",
       "      <td>21-07-2015</td>\n",
       "      <td>tropical fruit</td>\n",
       "    </tr>\n",
       "    <tr>\n",
       "      <th>1</th>\n",
       "      <td>2552</td>\n",
       "      <td>05-01-2015</td>\n",
       "      <td>whole milk</td>\n",
       "    </tr>\n",
       "    <tr>\n",
       "      <th>2</th>\n",
       "      <td>2300</td>\n",
       "      <td>19-09-2015</td>\n",
       "      <td>pip fruit</td>\n",
       "    </tr>\n",
       "    <tr>\n",
       "      <th>3</th>\n",
       "      <td>1187</td>\n",
       "      <td>12-12-2015</td>\n",
       "      <td>other vegetables</td>\n",
       "    </tr>\n",
       "    <tr>\n",
       "      <th>4</th>\n",
       "      <td>3037</td>\n",
       "      <td>01-02-2015</td>\n",
       "      <td>whole milk</td>\n",
       "    </tr>\n",
       "  </tbody>\n",
       "</table>\n",
       "</div>"
      ],
      "text/plain": [
       "   Member_number        Date   itemDescription\n",
       "0           1808  21-07-2015    tropical fruit\n",
       "1           2552  05-01-2015        whole milk\n",
       "2           2300  19-09-2015         pip fruit\n",
       "3           1187  12-12-2015  other vegetables\n",
       "4           3037  01-02-2015        whole milk"
      ]
     },
     "execution_count": 16,
     "metadata": {},
     "output_type": "execute_result"
    }
   ],
   "source": [
    "df.head()"
   ]
  },
  {
   "cell_type": "code",
   "execution_count": 17,
   "metadata": {
    "colab": {
     "base_uri": "https://localhost:8080/"
    },
    "executionInfo": {
     "elapsed": 365,
     "status": "ok",
     "timestamp": 1631113703427,
     "user": {
      "displayName": "Sahil Rahman",
      "photoUrl": "https://lh3.googleusercontent.com/a-/AOh14GiJ8lzvw0EAvZyy3OveF6J53a3ecWuQmgHRsF6n6D4=s64",
      "userId": "17212050139887820689"
     },
     "user_tz": -330
    },
    "id": "Ozc-EIQ9hNHh",
    "outputId": "250a0293-61a3-464d-e7c5-4c317e6169a8"
   },
   "outputs": [
    {
     "data": {
      "text/plain": [
       "Member_number\n",
       "3180    36\n",
       "3737    33\n",
       "3050    33\n",
       "2051    33\n",
       "2625    31\n",
       "3915    31\n",
       "2433    31\n",
       "2271    31\n",
       "3872    30\n",
       "3289    29\n",
       "Name: count, dtype: int64"
      ]
     },
     "execution_count": 17,
     "metadata": {},
     "output_type": "execute_result"
    }
   ],
   "source": [
    "# Q3. Top 10 customers\n",
    "df.Member_number.value_counts().head(10)"
   ]
  },
  {
   "cell_type": "code",
   "execution_count": 18,
   "metadata": {
    "colab": {
     "base_uri": "https://localhost:8080/",
     "height": 299
    },
    "executionInfo": {
     "elapsed": 394,
     "status": "ok",
     "timestamp": 1631113746378,
     "user": {
      "displayName": "Sahil Rahman",
      "photoUrl": "https://lh3.googleusercontent.com/a-/AOh14GiJ8lzvw0EAvZyy3OveF6J53a3ecWuQmgHRsF6n6D4=s64",
      "userId": "17212050139887820689"
     },
     "user_tz": -330
    },
    "id": "11CdE1sAhNNC",
    "outputId": "91305d0f-1907-4b2a-8429-13e66f5e8e24"
   },
   "outputs": [
    {
     "data": {
      "text/plain": [
       "<AxesSubplot: xlabel='Member_number'>"
      ]
     },
     "execution_count": 18,
     "metadata": {},
     "output_type": "execute_result"
    },
    {
     "data": {
      "image/png": "[encoded data removed]",
      "text/plain": [
       "<Figure size 640x480 with 1 Axes>"
      ]
     },
     "metadata": {},
     "output_type": "display_data"
    }
   ],
   "source": [
    "df.Member_number.value_counts().head(10).plot.bar()"
   ]
  },
  {
   "cell_type": "code",
   "execution_count": 19,
   "metadata": {
    "colab": {
     "base_uri": "https://localhost:8080/",
     "height": 112
    },
    "executionInfo": {
     "elapsed": 1559,
     "status": "ok",
     "timestamp": 1631114072509,
     "user": {
      "displayName": "Sahil Rahman",
      "photoUrl": "https://lh3.googleusercontent.com/a-/AOh14GiJ8lzvw0EAvZyy3OveF6J53a3ecWuQmgHRsF6n6D4=s64",
      "userId": "17212050139887820689"
     },
     "user_tz": -330
    },
    "id": "dVnZwKDghNQD",
    "outputId": "29527e68-6294-425d-952d-cb9c67d995fe"
   },
   "outputs": [
    {
     "data": {
      "text/html": [
       "<div>\n",
       "<style scoped>\n",
       "    .dataframe tbody tr th:only-of-type {\n",
       "        vertical-align: middle;\n",
       "    }\n",
       "\n",
       "    .dataframe tbody tr th {\n",
       "        vertical-align: top;\n",
       "    }\n",
       "\n",
       "    .dataframe thead th {\n",
       "        text-align: right;\n",
       "    }\n",
       "</style>\n",
       "<table border=\"1\" class=\"dataframe\">\n",
       "  <thead>\n",
       "    <tr style=\"text-align: right;\">\n",
       "      <th></th>\n",
       "      <th>Member_number</th>\n",
       "      <th>Date</th>\n",
       "      <th>itemDescription</th>\n",
       "    </tr>\n",
       "  </thead>\n",
       "  <tbody>\n",
       "    <tr>\n",
       "      <th>0</th>\n",
       "      <td>1808</td>\n",
       "      <td>21-07-2015</td>\n",
       "      <td>tropical fruit</td>\n",
       "    </tr>\n",
       "    <tr>\n",
       "      <th>1</th>\n",
       "      <td>2552</td>\n",
       "      <td>05-01-2015</td>\n",
       "      <td>whole milk</td>\n",
       "    </tr>\n",
       "  </tbody>\n",
       "</table>\n",
       "</div>"
      ],
      "text/plain": [
       "   Member_number        Date itemDescription\n",
       "0           1808  21-07-2015  tropical fruit\n",
       "1           2552  05-01-2015      whole milk"
      ]
     },
     "execution_count": 19,
     "metadata": {},
     "output_type": "execute_result"
    }
   ],
   "source": [
    "df.head(2)"
   ]
  },
  {
   "cell_type": "code",
   "execution_count": 20,
   "metadata": {
    "executionInfo": {
     "elapsed": 343,
     "status": "ok",
     "timestamp": 1631114442331,
     "user": {
      "displayName": "Sahil Rahman",
      "photoUrl": "https://lh3.googleusercontent.com/a-/AOh14GiJ8lzvw0EAvZyy3OveF6J53a3ecWuQmgHRsF6n6D4=s64",
      "userId": "17212050139887820689"
     },
     "user_tz": -330
    },
    "id": "TBX0opYI_GEj"
   },
   "outputs": [],
   "source": [
    "df['Year'] = pd.DatetimeIndex(df['Date']).year\n",
    "df['Month'] = pd.DatetimeIndex(df['Date']).month\n",
    "df['Day'] = pd.DatetimeIndex(df['Date']).day"
   ]
  },
  {
   "cell_type": "code",
   "execution_count": 21,
   "metadata": {
    "colab": {
     "base_uri": "https://localhost:8080/",
     "height": 112
    },
    "executionInfo": {
     "elapsed": 407,
     "status": "ok",
     "timestamp": 1631114450435,
     "user": {
      "displayName": "Sahil Rahman",
      "photoUrl": "https://lh3.googleusercontent.com/a-/AOh14GiJ8lzvw0EAvZyy3OveF6J53a3ecWuQmgHRsF6n6D4=s64",
      "userId": "17212050139887820689"
     },
     "user_tz": -330
    },
    "id": "bi6ffe1c_0QD",
    "outputId": "011840cf-4634-46a3-aad9-00d01fcd52fe"
   },
   "outputs": [
    {
     "data": {
      "text/html": [
       "<div>\n",
       "<style scoped>\n",
       "    .dataframe tbody tr th:only-of-type {\n",
       "        vertical-align: middle;\n",
       "    }\n",
       "\n",
       "    .dataframe tbody tr th {\n",
       "        vertical-align: top;\n",
       "    }\n",
       "\n",
       "    .dataframe thead th {\n",
       "        text-align: right;\n",
       "    }\n",
       "</style>\n",
       "<table border=\"1\" class=\"dataframe\">\n",
       "  <thead>\n",
       "    <tr style=\"text-align: right;\">\n",
       "      <th></th>\n",
       "      <th>Member_number</th>\n",
       "      <th>Date</th>\n",
       "      <th>itemDescription</th>\n",
       "      <th>Year</th>\n",
       "      <th>Month</th>\n",
       "      <th>Day</th>\n",
       "    </tr>\n",
       "  </thead>\n",
       "  <tbody>\n",
       "    <tr>\n",
       "      <th>0</th>\n",
       "      <td>1808</td>\n",
       "      <td>21-07-2015</td>\n",
       "      <td>tropical fruit</td>\n",
       "      <td>2015</td>\n",
       "      <td>7</td>\n",
       "      <td>21</td>\n",
       "    </tr>\n",
       "    <tr>\n",
       "      <th>1</th>\n",
       "      <td>2552</td>\n",
       "      <td>05-01-2015</td>\n",
       "      <td>whole milk</td>\n",
       "      <td>2015</td>\n",
       "      <td>5</td>\n",
       "      <td>1</td>\n",
       "    </tr>\n",
       "  </tbody>\n",
       "</table>\n",
       "</div>"
      ],
      "text/plain": [
       "   Member_number        Date itemDescription  Year  Month  Day\n",
       "0           1808  21-07-2015  tropical fruit  2015      7   21\n",
       "1           2552  05-01-2015      whole milk  2015      5    1"
      ]
     },
     "execution_count": 21,
     "metadata": {},
     "output_type": "execute_result"
    }
   ],
   "source": [
    "df.head(2)"
   ]
  },
  {
   "cell_type": "code",
   "execution_count": 22,
   "metadata": {
    "colab": {
     "base_uri": "https://localhost:8080/"
    },
    "executionInfo": {
     "elapsed": 353,
     "status": "ok",
     "timestamp": 1631114486208,
     "user": {
      "displayName": "Sahil Rahman",
      "photoUrl": "https://lh3.googleusercontent.com/a-/AOh14GiJ8lzvw0EAvZyy3OveF6J53a3ecWuQmgHRsF6n6D4=s64",
      "userId": "17212050139887820689"
     },
     "user_tz": -330
    },
    "id": "n2myiyIzhNSz",
    "outputId": "637f15d2-8f9e-4fea-dc3a-64353658dfe0"
   },
   "outputs": [
    {
     "data": {
      "text/plain": [
       "Year\n",
       "2015    20488\n",
       "2014    18277\n",
       "Name: count, dtype: int64"
      ]
     },
     "execution_count": 22,
     "metadata": {},
     "output_type": "execute_result"
    }
   ],
   "source": [
    "# Q4. In which year, the majority of the transactions has happened?\n",
    "df.Year.value_counts()"
   ]
  },
  {
   "cell_type": "code",
   "execution_count": 23,
   "metadata": {
    "colab": {
     "base_uri": "https://localhost:8080/"
    },
    "executionInfo": {
     "elapsed": 351,
     "status": "ok",
     "timestamp": 1631114531125,
     "user": {
      "displayName": "Sahil Rahman",
      "photoUrl": "https://lh3.googleusercontent.com/a-/AOh14GiJ8lzvw0EAvZyy3OveF6J53a3ecWuQmgHRsF6n6D4=s64",
      "userId": "17212050139887820689"
     },
     "user_tz": -330
    },
    "id": "p2Eg-rUghNV4",
    "outputId": "57b370fe-4efa-4e37-b236-4e2b3493373d"
   },
   "outputs": [
    {
     "data": {
      "text/plain": [
       "Month\n",
       "8     3498\n",
       "5     3335\n",
       "1     3333\n",
       "6     3316\n",
       "3     3283\n",
       "11    3273\n",
       "7     3268\n",
       "10    3218\n",
       "4     3172\n",
       "12    3074\n",
       "2     3032\n",
       "9     2963\n",
       "Name: count, dtype: int64"
      ]
     },
     "execution_count": 23,
     "metadata": {},
     "output_type": "execute_result"
    }
   ],
   "source": [
    "df.Month.value_counts()"
   ]
  },
  {
   "cell_type": "code",
   "execution_count": 24,
   "metadata": {
    "colab": {
     "base_uri": "https://localhost:8080/"
    },
    "executionInfo": {
     "elapsed": 355,
     "status": "ok",
     "timestamp": 1631114558195,
     "user": {
      "displayName": "Sahil Rahman",
      "photoUrl": "https://lh3.googleusercontent.com/a-/AOh14GiJ8lzvw0EAvZyy3OveF6J53a3ecWuQmgHRsF6n6D4=s64",
      "userId": "17212050139887820689"
     },
     "user_tz": -330
    },
    "id": "zG6oXcyuhNZf",
    "outputId": "e85c7608-3e17-4155-ac00-b3371f7b0bd7"
   },
   "outputs": [
    {
     "data": {
      "text/plain": [
       "Day\n",
       "28    1375\n",
       "21    1354\n",
       "26    1351\n",
       "8     1349\n",
       "14    1341\n",
       "13    1341\n",
       "27    1327\n",
       "4     1308\n",
       "10    1308\n",
       "11    1297\n",
       "5     1290\n",
       "24    1290\n",
       "18    1285\n",
       "7     1277\n",
       "23    1277\n",
       "22    1272\n",
       "19    1272\n",
       "9     1271\n",
       "2     1252\n",
       "1     1250\n",
       "15    1245\n",
       "3     1243\n",
       "6     1232\n",
       "25    1229\n",
       "20    1214\n",
       "30    1201\n",
       "17    1181\n",
       "12    1179\n",
       "16    1158\n",
       "29    1124\n",
       "31     672\n",
       "Name: count, dtype: int64"
      ]
     },
     "execution_count": 24,
     "metadata": {},
     "output_type": "execute_result"
    }
   ],
   "source": [
    "df.Day.value_counts()"
   ]
  },
  {
   "cell_type": "code",
   "execution_count": 25,
   "metadata": {
    "colab": {
     "base_uri": "https://localhost:8080/"
    },
    "executionInfo": {
     "elapsed": 353,
     "status": "ok",
     "timestamp": 1631114855645,
     "user": {
      "displayName": "Sahil Rahman",
      "photoUrl": "https://lh3.googleusercontent.com/a-/AOh14GiJ8lzvw0EAvZyy3OveF6J53a3ecWuQmgHRsF6n6D4=s64",
      "userId": "17212050139887820689"
     },
     "user_tz": -330
    },
    "id": "FEx0HjDohNcS",
    "outputId": "44493f49-9320-4b13-d0a8-1a5b62094508"
   },
   "outputs": [
    {
     "data": {
      "text/plain": [
       "Month\n",
       "8     1963\n",
       "1     1829\n",
       "3     1792\n",
       "6     1791\n",
       "11    1777\n",
       "5     1710\n",
       "4     1666\n",
       "10    1663\n",
       "7     1645\n",
       "9     1613\n",
       "12    1554\n",
       "2     1485\n",
       "Name: count, dtype: int64"
      ]
     },
     "execution_count": 25,
     "metadata": {},
     "output_type": "execute_result"
    }
   ],
   "source": [
    "df[df['Year']==2015]['Month'].value_counts()"
   ]
  },
  {
   "cell_type": "code",
   "execution_count": 56,
   "metadata": {},
   "outputs": [
    {
     "name": "stdout",
     "output_type": "stream",
     "text": [
      "The majority of transactions occurred in the year: 2015\n"
     ]
    }
   ],
   "source": [
    "df['Date'] = pd.to_datetime(df['Date'], format='%d-%m-%Y')\n",
    "df['Year'] = df['Date'].dt.year\n",
    "transaction_counts = df['Year'].value_counts()\n",
    "most_transactions_year = transaction_counts.idxmax()\n",
    "print(\"The majority of transactions occurred in the year:\", most_transactions_year)\n"
   ]
  },
  {
   "cell_type": "code",
   "execution_count": 57,
   "metadata": {},
   "outputs": [
    {
     "data": {
      "image/png": "[encoded data removed]",
      "text/plain": [
       "<Figure size 1000x600 with 1 Axes>"
      ]
     },
     "metadata": {},
     "output_type": "display_data"
    }
   ],
   "source": [
    "# Plotting\n",
    "plt.figure(figsize=(10, 6))\n",
    "transaction_counts.plot(kind='bar', color='skyblue')\n",
    "plt.title('Number of Transactions by Year')\n",
    "plt.xlabel('Year')\n",
    "plt.ylabel('Number of Transactions')\n",
    "plt.xticks(rotation=45)\n",
    "plt.grid(axis='y', linestyle='--', alpha=0.7)\n",
    "plt.show()"
   ]
  },
  {
   "cell_type": "markdown",
   "metadata": {
    "id": "loJw7w9GDTT5"
   },
   "source": [
    "# Aprori Implementation"
   ]
  },
  {
   "cell_type": "code",
   "execution_count": 27,
   "metadata": {
    "colab": {
     "base_uri": "https://localhost:8080/",
     "height": 112
    },
    "executionInfo": {
     "elapsed": 348,
     "status": "ok",
     "timestamp": 1631115386389,
     "user": {
      "displayName": "Sahil Rahman",
      "photoUrl": "https://lh3.googleusercontent.com/a-/AOh14GiJ8lzvw0EAvZyy3OveF6J53a3ecWuQmgHRsF6n6D4=s64",
      "userId": "17212050139887820689"
     },
     "user_tz": -330
    },
    "id": "w7xyyqkzhNiE",
    "outputId": "2cb8564c-bd88-479e-a584-035998bc18f0"
   },
   "outputs": [
    {
     "data": {
      "text/html": [
       "<div>\n",
       "<style scoped>\n",
       "    .dataframe tbody tr th:only-of-type {\n",
       "        vertical-align: middle;\n",
       "    }\n",
       "\n",
       "    .dataframe tbody tr th {\n",
       "        vertical-align: top;\n",
       "    }\n",
       "\n",
       "    .dataframe thead th {\n",
       "        text-align: right;\n",
       "    }\n",
       "</style>\n",
       "<table border=\"1\" class=\"dataframe\">\n",
       "  <thead>\n",
       "    <tr style=\"text-align: right;\">\n",
       "      <th></th>\n",
       "      <th>Member_number</th>\n",
       "      <th>Date</th>\n",
       "      <th>itemDescription</th>\n",
       "      <th>Year</th>\n",
       "      <th>Month</th>\n",
       "      <th>Day</th>\n",
       "    </tr>\n",
       "  </thead>\n",
       "  <tbody>\n",
       "    <tr>\n",
       "      <th>0</th>\n",
       "      <td>1808</td>\n",
       "      <td>21-07-2015</td>\n",
       "      <td>tropical fruit</td>\n",
       "      <td>2015</td>\n",
       "      <td>7</td>\n",
       "      <td>21</td>\n",
       "    </tr>\n",
       "    <tr>\n",
       "      <th>1</th>\n",
       "      <td>2552</td>\n",
       "      <td>05-01-2015</td>\n",
       "      <td>whole milk</td>\n",
       "      <td>2015</td>\n",
       "      <td>5</td>\n",
       "      <td>1</td>\n",
       "    </tr>\n",
       "  </tbody>\n",
       "</table>\n",
       "</div>"
      ],
      "text/plain": [
       "   Member_number        Date itemDescription  Year  Month  Day\n",
       "0           1808  21-07-2015  tropical fruit  2015      7   21\n",
       "1           2552  05-01-2015      whole milk  2015      5    1"
      ]
     },
     "execution_count": 27,
     "metadata": {},
     "output_type": "execute_result"
    }
   ],
   "source": [
    "df.head(2)"
   ]
  },
  {
   "cell_type": "code",
   "execution_count": 28,
   "metadata": {
    "executionInfo": {
     "elapsed": 336,
     "status": "ok",
     "timestamp": 1631115550359,
     "user": {
      "displayName": "Sahil Rahman",
      "photoUrl": "https://lh3.googleusercontent.com/a-/AOh14GiJ8lzvw0EAvZyy3OveF6J53a3ecWuQmgHRsF6n6D4=s64",
      "userId": "17212050139887820689"
     },
     "user_tz": -330
    },
    "id": "xg8yU9KXhNlI"
   },
   "outputs": [],
   "source": [
    "data = df.copy()\n",
    "data1 = data.copy()"
   ]
  },
  {
   "cell_type": "code",
   "execution_count": 29,
   "metadata": {
    "executionInfo": {
     "elapsed": 377,
     "status": "ok",
     "timestamp": 1631115554585,
     "user": {
      "displayName": "Sahil Rahman",
      "photoUrl": "https://lh3.googleusercontent.com/a-/AOh14GiJ8lzvw0EAvZyy3OveF6J53a3ecWuQmgHRsF6n6D4=s64",
      "userId": "17212050139887820689"
     },
     "user_tz": -330
    },
    "id": "LmDecF8ShNoK"
   },
   "outputs": [],
   "source": [
    "data = pd.get_dummies(data['itemDescription'])\n"
   ]
  },
  {
   "cell_type": "code",
   "execution_count": 30,
   "metadata": {
    "colab": {
     "base_uri": "https://localhost:8080/",
     "height": 195
    },
    "executionInfo": {
     "elapsed": 436,
     "status": "ok",
     "timestamp": 1631115558778,
     "user": {
      "displayName": "Sahil Rahman",
      "photoUrl": "https://lh3.googleusercontent.com/a-/AOh14GiJ8lzvw0EAvZyy3OveF6J53a3ecWuQmgHRsF6n6D4=s64",
      "userId": "17212050139887820689"
     },
     "user_tz": -330
    },
    "id": "V0CariN-hNrE",
    "outputId": "9f3ba384-6beb-43b2-9949-ed67eb400d56"
   },
   "outputs": [
    {
     "data": {
      "text/html": [
       "<div>\n",
       "<style scoped>\n",
       "    .dataframe tbody tr th:only-of-type {\n",
       "        vertical-align: middle;\n",
       "    }\n",
       "\n",
       "    .dataframe tbody tr th {\n",
       "        vertical-align: top;\n",
       "    }\n",
       "\n",
       "    .dataframe thead th {\n",
       "        text-align: right;\n",
       "    }\n",
       "</style>\n",
       "<table border=\"1\" class=\"dataframe\">\n",
       "  <thead>\n",
       "    <tr style=\"text-align: right;\">\n",
       "      <th></th>\n",
       "      <th>Instant food products</th>\n",
       "      <th>UHT-milk</th>\n",
       "      <th>abrasive cleaner</th>\n",
       "      <th>artif. sweetener</th>\n",
       "      <th>baby cosmetics</th>\n",
       "      <th>bags</th>\n",
       "      <th>baking powder</th>\n",
       "      <th>bathroom cleaner</th>\n",
       "      <th>beef</th>\n",
       "      <th>berries</th>\n",
       "      <th>...</th>\n",
       "      <th>turkey</th>\n",
       "      <th>vinegar</th>\n",
       "      <th>waffles</th>\n",
       "      <th>whipped/sour cream</th>\n",
       "      <th>whisky</th>\n",
       "      <th>white bread</th>\n",
       "      <th>white wine</th>\n",
       "      <th>whole milk</th>\n",
       "      <th>yogurt</th>\n",
       "      <th>zwieback</th>\n",
       "    </tr>\n",
       "  </thead>\n",
       "  <tbody>\n",
       "    <tr>\n",
       "      <th>0</th>\n",
       "      <td>False</td>\n",
       "      <td>False</td>\n",
       "      <td>False</td>\n",
       "      <td>False</td>\n",
       "      <td>False</td>\n",
       "      <td>False</td>\n",
       "      <td>False</td>\n",
       "      <td>False</td>\n",
       "      <td>False</td>\n",
       "      <td>False</td>\n",
       "      <td>...</td>\n",
       "      <td>False</td>\n",
       "      <td>False</td>\n",
       "      <td>False</td>\n",
       "      <td>False</td>\n",
       "      <td>False</td>\n",
       "      <td>False</td>\n",
       "      <td>False</td>\n",
       "      <td>False</td>\n",
       "      <td>False</td>\n",
       "      <td>False</td>\n",
       "    </tr>\n",
       "    <tr>\n",
       "      <th>1</th>\n",
       "      <td>False</td>\n",
       "      <td>False</td>\n",
       "      <td>False</td>\n",
       "      <td>False</td>\n",
       "      <td>False</td>\n",
       "      <td>False</td>\n",
       "      <td>False</td>\n",
       "      <td>False</td>\n",
       "      <td>False</td>\n",
       "      <td>False</td>\n",
       "      <td>...</td>\n",
       "      <td>False</td>\n",
       "      <td>False</td>\n",
       "      <td>False</td>\n",
       "      <td>False</td>\n",
       "      <td>False</td>\n",
       "      <td>False</td>\n",
       "      <td>False</td>\n",
       "      <td>True</td>\n",
       "      <td>False</td>\n",
       "      <td>False</td>\n",
       "    </tr>\n",
       "  </tbody>\n",
       "</table>\n",
       "<p>2 rows × 167 columns</p>\n",
       "</div>"
      ],
      "text/plain": [
       "   Instant food products  UHT-milk  abrasive cleaner  artif. sweetener  \\\n",
       "0                  False     False             False             False   \n",
       "1                  False     False             False             False   \n",
       "\n",
       "   baby cosmetics   bags  baking powder  bathroom cleaner   beef  berries  \\\n",
       "0           False  False          False             False  False    False   \n",
       "1           False  False          False             False  False    False   \n",
       "\n",
       "   ...  turkey  vinegar  waffles  whipped/sour cream  whisky  white bread  \\\n",
       "0  ...   False    False    False               False   False        False   \n",
       "1  ...   False    False    False               False   False        False   \n",
       "\n",
       "   white wine  whole milk  yogurt  zwieback  \n",
       "0       False       False   False     False  \n",
       "1       False        True   False     False  \n",
       "\n",
       "[2 rows x 167 columns]"
      ]
     },
     "execution_count": 30,
     "metadata": {},
     "output_type": "execute_result"
    }
   ],
   "source": [
    "data.head(2)"
   ]
  },
  {
   "cell_type": "code",
   "execution_count": 31,
   "metadata": {
    "executionInfo": {
     "elapsed": 356,
     "status": "ok",
     "timestamp": 1631115590734,
     "user": {
      "displayName": "Sahil Rahman",
      "photoUrl": "https://lh3.googleusercontent.com/a-/AOh14GiJ8lzvw0EAvZyy3OveF6J53a3ecWuQmgHRsF6n6D4=s64",
      "userId": "17212050139887820689"
     },
     "user_tz": -330
    },
    "id": "tvhoPK1_EJaB"
   },
   "outputs": [],
   "source": [
    "data1.drop(['itemDescription'], axis=1, inplace=True)"
   ]
  },
  {
   "cell_type": "code",
   "execution_count": 32,
   "metadata": {
    "executionInfo": {
     "elapsed": 2,
     "status": "ok",
     "timestamp": 1631115593334,
     "user": {
      "displayName": "Sahil Rahman",
      "photoUrl": "https://lh3.googleusercontent.com/a-/AOh14GiJ8lzvw0EAvZyy3OveF6J53a3ecWuQmgHRsF6n6D4=s64",
      "userId": "17212050139887820689"
     },
     "user_tz": -330
    },
    "id": "PpQ0pNaGhNtx"
   },
   "outputs": [],
   "source": [
    "data1 = data1.join(data)"
   ]
  },
  {
   "cell_type": "code",
   "execution_count": 33,
   "metadata": {
    "colab": {
     "base_uri": "https://localhost:8080/",
     "height": 462
    },
    "executionInfo": {
     "elapsed": 350,
     "status": "ok",
     "timestamp": 1631115599314,
     "user": {
      "displayName": "Sahil Rahman",
      "photoUrl": "https://lh3.googleusercontent.com/a-/AOh14GiJ8lzvw0EAvZyy3OveF6J53a3ecWuQmgHRsF6n6D4=s64",
      "userId": "17212050139887820689"
     },
     "user_tz": -330
    },
    "id": "CywAF9oChNxO",
    "outputId": "ef842b8e-984f-44ad-d56b-90336034ae74"
   },
   "outputs": [
    {
     "data": {
      "text/html": [
       "<div>\n",
       "<style scoped>\n",
       "    .dataframe tbody tr th:only-of-type {\n",
       "        vertical-align: middle;\n",
       "    }\n",
       "\n",
       "    .dataframe tbody tr th {\n",
       "        vertical-align: top;\n",
       "    }\n",
       "\n",
       "    .dataframe thead th {\n",
       "        text-align: right;\n",
       "    }\n",
       "</style>\n",
       "<table border=\"1\" class=\"dataframe\">\n",
       "  <thead>\n",
       "    <tr style=\"text-align: right;\">\n",
       "      <th></th>\n",
       "      <th>Member_number</th>\n",
       "      <th>Date</th>\n",
       "      <th>Year</th>\n",
       "      <th>Month</th>\n",
       "      <th>Day</th>\n",
       "      <th>Instant food products</th>\n",
       "      <th>UHT-milk</th>\n",
       "      <th>abrasive cleaner</th>\n",
       "      <th>artif. sweetener</th>\n",
       "      <th>baby cosmetics</th>\n",
       "      <th>...</th>\n",
       "      <th>turkey</th>\n",
       "      <th>vinegar</th>\n",
       "      <th>waffles</th>\n",
       "      <th>whipped/sour cream</th>\n",
       "      <th>whisky</th>\n",
       "      <th>white bread</th>\n",
       "      <th>white wine</th>\n",
       "      <th>whole milk</th>\n",
       "      <th>yogurt</th>\n",
       "      <th>zwieback</th>\n",
       "    </tr>\n",
       "  </thead>\n",
       "  <tbody>\n",
       "    <tr>\n",
       "      <th>0</th>\n",
       "      <td>1808</td>\n",
       "      <td>21-07-2015</td>\n",
       "      <td>2015</td>\n",
       "      <td>7</td>\n",
       "      <td>21</td>\n",
       "      <td>False</td>\n",
       "      <td>False</td>\n",
       "      <td>False</td>\n",
       "      <td>False</td>\n",
       "      <td>False</td>\n",
       "      <td>...</td>\n",
       "      <td>False</td>\n",
       "      <td>False</td>\n",
       "      <td>False</td>\n",
       "      <td>False</td>\n",
       "      <td>False</td>\n",
       "      <td>False</td>\n",
       "      <td>False</td>\n",
       "      <td>False</td>\n",
       "      <td>False</td>\n",
       "      <td>False</td>\n",
       "    </tr>\n",
       "    <tr>\n",
       "      <th>1</th>\n",
       "      <td>2552</td>\n",
       "      <td>05-01-2015</td>\n",
       "      <td>2015</td>\n",
       "      <td>5</td>\n",
       "      <td>1</td>\n",
       "      <td>False</td>\n",
       "      <td>False</td>\n",
       "      <td>False</td>\n",
       "      <td>False</td>\n",
       "      <td>False</td>\n",
       "      <td>...</td>\n",
       "      <td>False</td>\n",
       "      <td>False</td>\n",
       "      <td>False</td>\n",
       "      <td>False</td>\n",
       "      <td>False</td>\n",
       "      <td>False</td>\n",
       "      <td>False</td>\n",
       "      <td>True</td>\n",
       "      <td>False</td>\n",
       "      <td>False</td>\n",
       "    </tr>\n",
       "    <tr>\n",
       "      <th>2</th>\n",
       "      <td>2300</td>\n",
       "      <td>19-09-2015</td>\n",
       "      <td>2015</td>\n",
       "      <td>9</td>\n",
       "      <td>19</td>\n",
       "      <td>False</td>\n",
       "      <td>False</td>\n",
       "      <td>False</td>\n",
       "      <td>False</td>\n",
       "      <td>False</td>\n",
       "      <td>...</td>\n",
       "      <td>False</td>\n",
       "      <td>False</td>\n",
       "      <td>False</td>\n",
       "      <td>False</td>\n",
       "      <td>False</td>\n",
       "      <td>False</td>\n",
       "      <td>False</td>\n",
       "      <td>False</td>\n",
       "      <td>False</td>\n",
       "      <td>False</td>\n",
       "    </tr>\n",
       "    <tr>\n",
       "      <th>3</th>\n",
       "      <td>1187</td>\n",
       "      <td>12-12-2015</td>\n",
       "      <td>2015</td>\n",
       "      <td>12</td>\n",
       "      <td>12</td>\n",
       "      <td>False</td>\n",
       "      <td>False</td>\n",
       "      <td>False</td>\n",
       "      <td>False</td>\n",
       "      <td>False</td>\n",
       "      <td>...</td>\n",
       "      <td>False</td>\n",
       "      <td>False</td>\n",
       "      <td>False</td>\n",
       "      <td>False</td>\n",
       "      <td>False</td>\n",
       "      <td>False</td>\n",
       "      <td>False</td>\n",
       "      <td>False</td>\n",
       "      <td>False</td>\n",
       "      <td>False</td>\n",
       "    </tr>\n",
       "    <tr>\n",
       "      <th>4</th>\n",
       "      <td>3037</td>\n",
       "      <td>01-02-2015</td>\n",
       "      <td>2015</td>\n",
       "      <td>1</td>\n",
       "      <td>2</td>\n",
       "      <td>False</td>\n",
       "      <td>False</td>\n",
       "      <td>False</td>\n",
       "      <td>False</td>\n",
       "      <td>False</td>\n",
       "      <td>...</td>\n",
       "      <td>False</td>\n",
       "      <td>False</td>\n",
       "      <td>False</td>\n",
       "      <td>False</td>\n",
       "      <td>False</td>\n",
       "      <td>False</td>\n",
       "      <td>False</td>\n",
       "      <td>True</td>\n",
       "      <td>False</td>\n",
       "      <td>False</td>\n",
       "    </tr>\n",
       "  </tbody>\n",
       "</table>\n",
       "<p>5 rows × 172 columns</p>\n",
       "</div>"
      ],
      "text/plain": [
       "   Member_number        Date  Year  Month  Day  Instant food products  \\\n",
       "0           1808  21-07-2015  2015      7   21                  False   \n",
       "1           2552  05-01-2015  2015      5    1                  False   \n",
       "2           2300  19-09-2015  2015      9   19                  False   \n",
       "3           1187  12-12-2015  2015     12   12                  False   \n",
       "4           3037  01-02-2015  2015      1    2                  False   \n",
       "\n",
       "   UHT-milk  abrasive cleaner  artif. sweetener  baby cosmetics  ...  turkey  \\\n",
       "0     False             False             False           False  ...   False   \n",
       "1     False             False             False           False  ...   False   \n",
       "2     False             False             False           False  ...   False   \n",
       "3     False             False             False           False  ...   False   \n",
       "4     False             False             False           False  ...   False   \n",
       "\n",
       "   vinegar  waffles  whipped/sour cream  whisky  white bread  white wine  \\\n",
       "0    False    False               False   False        False       False   \n",
       "1    False    False               False   False        False       False   \n",
       "2    False    False               False   False        False       False   \n",
       "3    False    False               False   False        False       False   \n",
       "4    False    False               False   False        False       False   \n",
       "\n",
       "   whole milk  yogurt  zwieback  \n",
       "0       False   False     False  \n",
       "1        True   False     False  \n",
       "2       False   False     False  \n",
       "3       False   False     False  \n",
       "4        True   False     False  \n",
       "\n",
       "[5 rows x 172 columns]"
      ]
     },
     "execution_count": 33,
     "metadata": {},
     "output_type": "execute_result"
    }
   ],
   "source": [
    "data1.head()"
   ]
  },
  {
   "cell_type": "code",
   "execution_count": 34,
   "metadata": {
    "executionInfo": {
     "elapsed": 344,
     "status": "ok",
     "timestamp": 1631115696812,
     "user": {
      "displayName": "Sahil Rahman",
      "photoUrl": "https://lh3.googleusercontent.com/a-/AOh14GiJ8lzvw0EAvZyy3OveF6J53a3ecWuQmgHRsF6n6D4=s64",
      "userId": "17212050139887820689"
     },
     "user_tz": -330
    },
    "id": "GHhfVfj5EdgQ"
   },
   "outputs": [],
   "source": [
    "products = df['itemDescription'].unique()"
   ]
  },
  {
   "cell_type": "code",
   "execution_count": 35,
   "metadata": {
    "colab": {
     "base_uri": "https://localhost:8080/"
    },
    "executionInfo": {
     "elapsed": 350,
     "status": "ok",
     "timestamp": 1631115702090,
     "user": {
      "displayName": "Sahil Rahman",
      "photoUrl": "https://lh3.googleusercontent.com/a-/AOh14GiJ8lzvw0EAvZyy3OveF6J53a3ecWuQmgHRsF6n6D4=s64",
      "userId": "17212050139887820689"
     },
     "user_tz": -330
    },
    "id": "PFAGfFnZEmAs",
    "outputId": "da5c193f-2a84-4ea7-c29b-971ef152b10a"
   },
   "outputs": [
    {
     "data": {
      "text/plain": [
       "array(['tropical fruit', 'whole milk', 'pip fruit', 'other vegetables',\n",
       "       'rolls/buns', 'pot plants', 'citrus fruit', 'beef', 'frankfurter',\n",
       "       'chicken', 'butter', 'fruit/vegetable juice',\n",
       "       'packaged fruit/vegetables', 'chocolate', 'specialty bar',\n",
       "       'butter milk', 'bottled water', 'yogurt', 'sausage', 'brown bread',\n",
       "       'hamburger meat', 'root vegetables', 'pork', 'pastry',\n",
       "       'canned beer', 'berries', 'coffee', 'misc. beverages', 'ham',\n",
       "       'turkey', 'curd cheese', 'red/blush wine',\n",
       "       'frozen potato products', 'flour', 'sugar', 'frozen meals',\n",
       "       'herbs', 'soda', 'detergent', 'grapes', 'processed cheese', 'fish',\n",
       "       'sparkling wine', 'newspapers', 'curd', 'pasta', 'popcorn',\n",
       "       'finished products', 'beverages', 'bottled beer', 'dessert',\n",
       "       'dog food', 'specialty chocolate', 'condensed milk', 'cleaner',\n",
       "       'white wine', 'meat', 'ice cream', 'hard cheese', 'cream cheese ',\n",
       "       'liquor', 'pickled vegetables', 'liquor (appetizer)', 'UHT-milk',\n",
       "       'candy', 'onions', 'hair spray', 'photo/film', 'domestic eggs',\n",
       "       'margarine', 'shopping bags', 'salt', 'oil', 'whipped/sour cream',\n",
       "       'frozen vegetables', 'sliced cheese', 'dish cleaner',\n",
       "       'baking powder', 'specialty cheese', 'salty snack',\n",
       "       'Instant food products', 'pet care', 'white bread',\n",
       "       'female sanitary products', 'cling film/bags', 'soap',\n",
       "       'frozen chicken', 'house keeping products', 'spread cheese',\n",
       "       'decalcifier', 'frozen dessert', 'vinegar', 'nuts/prunes',\n",
       "       'potato products', 'frozen fish', 'hygiene articles',\n",
       "       'artif. sweetener', 'light bulbs', 'canned vegetables',\n",
       "       'chewing gum', 'canned fish', 'cookware', 'semi-finished bread',\n",
       "       'cat food', 'bathroom cleaner', 'prosecco', 'liver loaf',\n",
       "       'zwieback', 'canned fruit', 'frozen fruits', 'brandy',\n",
       "       'baby cosmetics', 'spices', 'napkins', 'waffles', 'sauces', 'rum',\n",
       "       'chocolate marshmallow', 'long life bakery product', 'bags',\n",
       "       'sweet spreads', 'soups', 'mustard', 'specialty fat',\n",
       "       'instant coffee', 'snack products', 'organic sausage',\n",
       "       'soft cheese', 'mayonnaise', 'dental care', 'roll products ',\n",
       "       'kitchen towels', 'flower soil/fertilizer', 'cereals',\n",
       "       'meat spreads', 'dishes', 'male cosmetics', 'candles', 'whisky',\n",
       "       'tidbits', 'cooking chocolate', 'seasonal products', 'liqueur',\n",
       "       'abrasive cleaner', 'syrup', 'ketchup', 'cream', 'skin care',\n",
       "       'rubbing alcohol', 'nut snack', 'cocoa drinks', 'softener',\n",
       "       'organic products', 'cake bar', 'honey', 'jam', 'kitchen utensil',\n",
       "       'flower (seeds)', 'rice', 'tea', 'salad dressing',\n",
       "       'specialty vegetables', 'pudding powder', 'ready soups',\n",
       "       'make up remover', 'toilet cleaner', 'preservation products'],\n",
       "      dtype=object)"
      ]
     },
     "execution_count": 35,
     "metadata": {},
     "output_type": "execute_result"
    }
   ],
   "source": [
    "products"
   ]
  },
  {
   "cell_type": "code",
   "execution_count": 36,
   "metadata": {
    "executionInfo": {
     "elapsed": 5,
     "status": "ok",
     "timestamp": 1631115788861,
     "user": {
      "displayName": "Sahil Rahman",
      "photoUrl": "https://lh3.googleusercontent.com/a-/AOh14GiJ8lzvw0EAvZyy3OveF6J53a3ecWuQmgHRsF6n6D4=s64",
      "userId": "17212050139887820689"
     },
     "user_tz": -330
    },
    "id": "Bzkd02CUhN0H"
   },
   "outputs": [],
   "source": [
    "data2 = data1.groupby(['Member_number', 'Date'])[products[:]].sum()"
   ]
  },
  {
   "cell_type": "code",
   "execution_count": 37,
   "metadata": {
    "colab": {
     "base_uri": "https://localhost:8080/",
     "height": 853
    },
    "executionInfo": {
     "elapsed": 1260,
     "status": "ok",
     "timestamp": 1631115755003,
     "user": {
      "displayName": "Sahil Rahman",
      "photoUrl": "https://lh3.googleusercontent.com/a-/AOh14GiJ8lzvw0EAvZyy3OveF6J53a3ecWuQmgHRsF6n6D4=s64",
      "userId": "17212050139887820689"
     },
     "user_tz": -330
    },
    "id": "AYTiYqofhN31",
    "outputId": "bc92e957-9d1c-4f5a-bf08-a1f1cca1e5bf"
   },
   "outputs": [
    {
     "data": {
      "text/html": [
       "<div>\n",
       "<style scoped>\n",
       "    .dataframe tbody tr th:only-of-type {\n",
       "        vertical-align: middle;\n",
       "    }\n",
       "\n",
       "    .dataframe tbody tr th {\n",
       "        vertical-align: top;\n",
       "    }\n",
       "\n",
       "    .dataframe thead th {\n",
       "        text-align: right;\n",
       "    }\n",
       "</style>\n",
       "<table border=\"1\" class=\"dataframe\">\n",
       "  <thead>\n",
       "    <tr style=\"text-align: right;\">\n",
       "      <th></th>\n",
       "      <th></th>\n",
       "      <th>tropical fruit</th>\n",
       "      <th>whole milk</th>\n",
       "      <th>pip fruit</th>\n",
       "      <th>other vegetables</th>\n",
       "      <th>rolls/buns</th>\n",
       "      <th>pot plants</th>\n",
       "      <th>citrus fruit</th>\n",
       "      <th>beef</th>\n",
       "      <th>frankfurter</th>\n",
       "      <th>chicken</th>\n",
       "      <th>...</th>\n",
       "      <th>flower (seeds)</th>\n",
       "      <th>rice</th>\n",
       "      <th>tea</th>\n",
       "      <th>salad dressing</th>\n",
       "      <th>specialty vegetables</th>\n",
       "      <th>pudding powder</th>\n",
       "      <th>ready soups</th>\n",
       "      <th>make up remover</th>\n",
       "      <th>toilet cleaner</th>\n",
       "      <th>preservation products</th>\n",
       "    </tr>\n",
       "    <tr>\n",
       "      <th>Member_number</th>\n",
       "      <th>Date</th>\n",
       "      <th></th>\n",
       "      <th></th>\n",
       "      <th></th>\n",
       "      <th></th>\n",
       "      <th></th>\n",
       "      <th></th>\n",
       "      <th></th>\n",
       "      <th></th>\n",
       "      <th></th>\n",
       "      <th></th>\n",
       "      <th></th>\n",
       "      <th></th>\n",
       "      <th></th>\n",
       "      <th></th>\n",
       "      <th></th>\n",
       "      <th></th>\n",
       "      <th></th>\n",
       "      <th></th>\n",
       "      <th></th>\n",
       "      <th></th>\n",
       "      <th></th>\n",
       "    </tr>\n",
       "  </thead>\n",
       "  <tbody>\n",
       "    <tr>\n",
       "      <th rowspan=\"5\" valign=\"top\">1000</th>\n",
       "      <th>15-03-2015</th>\n",
       "      <td>0</td>\n",
       "      <td>1</td>\n",
       "      <td>0</td>\n",
       "      <td>0</td>\n",
       "      <td>0</td>\n",
       "      <td>0</td>\n",
       "      <td>0</td>\n",
       "      <td>0</td>\n",
       "      <td>0</td>\n",
       "      <td>0</td>\n",
       "      <td>...</td>\n",
       "      <td>0</td>\n",
       "      <td>0</td>\n",
       "      <td>0</td>\n",
       "      <td>0</td>\n",
       "      <td>0</td>\n",
       "      <td>0</td>\n",
       "      <td>0</td>\n",
       "      <td>0</td>\n",
       "      <td>0</td>\n",
       "      <td>0</td>\n",
       "    </tr>\n",
       "    <tr>\n",
       "      <th>24-06-2014</th>\n",
       "      <td>0</td>\n",
       "      <td>1</td>\n",
       "      <td>0</td>\n",
       "      <td>0</td>\n",
       "      <td>0</td>\n",
       "      <td>0</td>\n",
       "      <td>0</td>\n",
       "      <td>0</td>\n",
       "      <td>0</td>\n",
       "      <td>0</td>\n",
       "      <td>...</td>\n",
       "      <td>0</td>\n",
       "      <td>0</td>\n",
       "      <td>0</td>\n",
       "      <td>0</td>\n",
       "      <td>0</td>\n",
       "      <td>0</td>\n",
       "      <td>0</td>\n",
       "      <td>0</td>\n",
       "      <td>0</td>\n",
       "      <td>0</td>\n",
       "    </tr>\n",
       "    <tr>\n",
       "      <th>24-07-2015</th>\n",
       "      <td>0</td>\n",
       "      <td>0</td>\n",
       "      <td>0</td>\n",
       "      <td>0</td>\n",
       "      <td>0</td>\n",
       "      <td>0</td>\n",
       "      <td>0</td>\n",
       "      <td>0</td>\n",
       "      <td>0</td>\n",
       "      <td>0</td>\n",
       "      <td>...</td>\n",
       "      <td>0</td>\n",
       "      <td>0</td>\n",
       "      <td>0</td>\n",
       "      <td>0</td>\n",
       "      <td>0</td>\n",
       "      <td>0</td>\n",
       "      <td>0</td>\n",
       "      <td>0</td>\n",
       "      <td>0</td>\n",
       "      <td>0</td>\n",
       "    </tr>\n",
       "    <tr>\n",
       "      <th>25-11-2015</th>\n",
       "      <td>0</td>\n",
       "      <td>0</td>\n",
       "      <td>0</td>\n",
       "      <td>0</td>\n",
       "      <td>0</td>\n",
       "      <td>0</td>\n",
       "      <td>0</td>\n",
       "      <td>0</td>\n",
       "      <td>0</td>\n",
       "      <td>0</td>\n",
       "      <td>...</td>\n",
       "      <td>0</td>\n",
       "      <td>0</td>\n",
       "      <td>0</td>\n",
       "      <td>0</td>\n",
       "      <td>0</td>\n",
       "      <td>0</td>\n",
       "      <td>0</td>\n",
       "      <td>0</td>\n",
       "      <td>0</td>\n",
       "      <td>0</td>\n",
       "    </tr>\n",
       "    <tr>\n",
       "      <th>27-05-2015</th>\n",
       "      <td>0</td>\n",
       "      <td>0</td>\n",
       "      <td>0</td>\n",
       "      <td>0</td>\n",
       "      <td>0</td>\n",
       "      <td>0</td>\n",
       "      <td>0</td>\n",
       "      <td>0</td>\n",
       "      <td>0</td>\n",
       "      <td>0</td>\n",
       "      <td>...</td>\n",
       "      <td>0</td>\n",
       "      <td>0</td>\n",
       "      <td>0</td>\n",
       "      <td>0</td>\n",
       "      <td>0</td>\n",
       "      <td>0</td>\n",
       "      <td>0</td>\n",
       "      <td>0</td>\n",
       "      <td>0</td>\n",
       "      <td>0</td>\n",
       "    </tr>\n",
       "    <tr>\n",
       "      <th>...</th>\n",
       "      <th>...</th>\n",
       "      <td>...</td>\n",
       "      <td>...</td>\n",
       "      <td>...</td>\n",
       "      <td>...</td>\n",
       "      <td>...</td>\n",
       "      <td>...</td>\n",
       "      <td>...</td>\n",
       "      <td>...</td>\n",
       "      <td>...</td>\n",
       "      <td>...</td>\n",
       "      <td>...</td>\n",
       "      <td>...</td>\n",
       "      <td>...</td>\n",
       "      <td>...</td>\n",
       "      <td>...</td>\n",
       "      <td>...</td>\n",
       "      <td>...</td>\n",
       "      <td>...</td>\n",
       "      <td>...</td>\n",
       "      <td>...</td>\n",
       "      <td>...</td>\n",
       "    </tr>\n",
       "    <tr>\n",
       "      <th rowspan=\"2\" valign=\"top\">4999</th>\n",
       "      <th>24-01-2015</th>\n",
       "      <td>1</td>\n",
       "      <td>0</td>\n",
       "      <td>0</td>\n",
       "      <td>1</td>\n",
       "      <td>0</td>\n",
       "      <td>0</td>\n",
       "      <td>0</td>\n",
       "      <td>0</td>\n",
       "      <td>0</td>\n",
       "      <td>0</td>\n",
       "      <td>...</td>\n",
       "      <td>0</td>\n",
       "      <td>0</td>\n",
       "      <td>0</td>\n",
       "      <td>0</td>\n",
       "      <td>0</td>\n",
       "      <td>0</td>\n",
       "      <td>0</td>\n",
       "      <td>0</td>\n",
       "      <td>0</td>\n",
       "      <td>0</td>\n",
       "    </tr>\n",
       "    <tr>\n",
       "      <th>26-12-2015</th>\n",
       "      <td>0</td>\n",
       "      <td>0</td>\n",
       "      <td>0</td>\n",
       "      <td>0</td>\n",
       "      <td>0</td>\n",
       "      <td>0</td>\n",
       "      <td>0</td>\n",
       "      <td>0</td>\n",
       "      <td>0</td>\n",
       "      <td>0</td>\n",
       "      <td>...</td>\n",
       "      <td>0</td>\n",
       "      <td>0</td>\n",
       "      <td>0</td>\n",
       "      <td>0</td>\n",
       "      <td>0</td>\n",
       "      <td>0</td>\n",
       "      <td>0</td>\n",
       "      <td>0</td>\n",
       "      <td>0</td>\n",
       "      <td>0</td>\n",
       "    </tr>\n",
       "    <tr>\n",
       "      <th rowspan=\"3\" valign=\"top\">5000</th>\n",
       "      <th>09-03-2014</th>\n",
       "      <td>0</td>\n",
       "      <td>0</td>\n",
       "      <td>0</td>\n",
       "      <td>0</td>\n",
       "      <td>0</td>\n",
       "      <td>0</td>\n",
       "      <td>0</td>\n",
       "      <td>0</td>\n",
       "      <td>0</td>\n",
       "      <td>0</td>\n",
       "      <td>...</td>\n",
       "      <td>0</td>\n",
       "      <td>0</td>\n",
       "      <td>0</td>\n",
       "      <td>0</td>\n",
       "      <td>0</td>\n",
       "      <td>0</td>\n",
       "      <td>0</td>\n",
       "      <td>0</td>\n",
       "      <td>0</td>\n",
       "      <td>0</td>\n",
       "    </tr>\n",
       "    <tr>\n",
       "      <th>10-02-2015</th>\n",
       "      <td>0</td>\n",
       "      <td>0</td>\n",
       "      <td>0</td>\n",
       "      <td>0</td>\n",
       "      <td>0</td>\n",
       "      <td>0</td>\n",
       "      <td>0</td>\n",
       "      <td>0</td>\n",
       "      <td>0</td>\n",
       "      <td>0</td>\n",
       "      <td>...</td>\n",
       "      <td>0</td>\n",
       "      <td>0</td>\n",
       "      <td>0</td>\n",
       "      <td>0</td>\n",
       "      <td>0</td>\n",
       "      <td>0</td>\n",
       "      <td>0</td>\n",
       "      <td>0</td>\n",
       "      <td>0</td>\n",
       "      <td>0</td>\n",
       "    </tr>\n",
       "    <tr>\n",
       "      <th>16-11-2014</th>\n",
       "      <td>0</td>\n",
       "      <td>0</td>\n",
       "      <td>0</td>\n",
       "      <td>1</td>\n",
       "      <td>0</td>\n",
       "      <td>0</td>\n",
       "      <td>0</td>\n",
       "      <td>0</td>\n",
       "      <td>0</td>\n",
       "      <td>0</td>\n",
       "      <td>...</td>\n",
       "      <td>0</td>\n",
       "      <td>0</td>\n",
       "      <td>0</td>\n",
       "      <td>0</td>\n",
       "      <td>0</td>\n",
       "      <td>0</td>\n",
       "      <td>0</td>\n",
       "      <td>0</td>\n",
       "      <td>0</td>\n",
       "      <td>0</td>\n",
       "    </tr>\n",
       "  </tbody>\n",
       "</table>\n",
       "<p>14963 rows × 167 columns</p>\n",
       "</div>"
      ],
      "text/plain": [
       "                          tropical fruit  whole milk  pip fruit  \\\n",
       "Member_number Date                                                \n",
       "1000          15-03-2015               0           1          0   \n",
       "              24-06-2014               0           1          0   \n",
       "              24-07-2015               0           0          0   \n",
       "              25-11-2015               0           0          0   \n",
       "              27-05-2015               0           0          0   \n",
       "...                                  ...         ...        ...   \n",
       "4999          24-01-2015               1           0          0   \n",
       "              26-12-2015               0           0          0   \n",
       "5000          09-03-2014               0           0          0   \n",
       "              10-02-2015               0           0          0   \n",
       "              16-11-2014               0           0          0   \n",
       "\n",
       "                          other vegetables  rolls/buns  pot plants  \\\n",
       "Member_number Date                                                   \n",
       "1000          15-03-2015                 0           0           0   \n",
       "              24-06-2014                 0           0           0   \n",
       "              24-07-2015                 0           0           0   \n",
       "              25-11-2015                 0           0           0   \n",
       "              27-05-2015                 0           0           0   \n",
       "...                                    ...         ...         ...   \n",
       "4999          24-01-2015                 1           0           0   \n",
       "              26-12-2015                 0           0           0   \n",
       "5000          09-03-2014                 0           0           0   \n",
       "              10-02-2015                 0           0           0   \n",
       "              16-11-2014                 1           0           0   \n",
       "\n",
       "                          citrus fruit  beef  frankfurter  chicken  ...  \\\n",
       "Member_number Date                                                  ...   \n",
       "1000          15-03-2015             0     0            0        0  ...   \n",
       "              24-06-2014             0     0            0        0  ...   \n",
       "              24-07-2015             0     0            0        0  ...   \n",
       "              25-11-2015             0     0            0        0  ...   \n",
       "              27-05-2015             0     0            0        0  ...   \n",
       "...                                ...   ...          ...      ...  ...   \n",
       "4999          24-01-2015             0     0            0        0  ...   \n",
       "              26-12-2015             0     0            0        0  ...   \n",
       "5000          09-03-2014             0     0            0        0  ...   \n",
       "              10-02-2015             0     0            0        0  ...   \n",
       "              16-11-2014             0     0            0        0  ...   \n",
       "\n",
       "                          flower (seeds)  rice  tea  salad dressing  \\\n",
       "Member_number Date                                                    \n",
       "1000          15-03-2015               0     0    0               0   \n",
       "              24-06-2014               0     0    0               0   \n",
       "              24-07-2015               0     0    0               0   \n",
       "              25-11-2015               0     0    0               0   \n",
       "              27-05-2015               0     0    0               0   \n",
       "...                                  ...   ...  ...             ...   \n",
       "4999          24-01-2015               0     0    0               0   \n",
       "              26-12-2015               0     0    0               0   \n",
       "5000          09-03-2014               0     0    0               0   \n",
       "              10-02-2015               0     0    0               0   \n",
       "              16-11-2014               0     0    0               0   \n",
       "\n",
       "                          specialty vegetables  pudding powder  ready soups  \\\n",
       "Member_number Date                                                            \n",
       "1000          15-03-2015                     0               0            0   \n",
       "              24-06-2014                     0               0            0   \n",
       "              24-07-2015                     0               0            0   \n",
       "              25-11-2015                     0               0            0   \n",
       "              27-05-2015                     0               0            0   \n",
       "...                                        ...             ...          ...   \n",
       "4999          24-01-2015                     0               0            0   \n",
       "              26-12-2015                     0               0            0   \n",
       "5000          09-03-2014                     0               0            0   \n",
       "              10-02-2015                     0               0            0   \n",
       "              16-11-2014                     0               0            0   \n",
       "\n",
       "                          make up remover  toilet cleaner  \\\n",
       "Member_number Date                                          \n",
       "1000          15-03-2015                0               0   \n",
       "              24-06-2014                0               0   \n",
       "              24-07-2015                0               0   \n",
       "              25-11-2015                0               0   \n",
       "              27-05-2015                0               0   \n",
       "...                                   ...             ...   \n",
       "4999          24-01-2015                0               0   \n",
       "              26-12-2015                0               0   \n",
       "5000          09-03-2014                0               0   \n",
       "              10-02-2015                0               0   \n",
       "              16-11-2014                0               0   \n",
       "\n",
       "                          preservation products  \n",
       "Member_number Date                               \n",
       "1000          15-03-2015                      0  \n",
       "              24-06-2014                      0  \n",
       "              24-07-2015                      0  \n",
       "              25-11-2015                      0  \n",
       "              27-05-2015                      0  \n",
       "...                                         ...  \n",
       "4999          24-01-2015                      0  \n",
       "              26-12-2015                      0  \n",
       "5000          09-03-2014                      0  \n",
       "              10-02-2015                      0  \n",
       "              16-11-2014                      0  \n",
       "\n",
       "[14963 rows x 167 columns]"
      ]
     },
     "execution_count": 37,
     "metadata": {},
     "output_type": "execute_result"
    }
   ],
   "source": [
    "data1.groupby(['Member_number', 'Date'])[products[:]].sum()"
   ]
  },
  {
   "cell_type": "code",
   "execution_count": 38,
   "metadata": {
    "colab": {
     "base_uri": "https://localhost:8080/",
     "height": 493
    },
    "executionInfo": {
     "elapsed": 392,
     "status": "ok",
     "timestamp": 1631115798962,
     "user": {
      "displayName": "Sahil Rahman",
      "photoUrl": "https://lh3.googleusercontent.com/a-/AOh14GiJ8lzvw0EAvZyy3OveF6J53a3ecWuQmgHRsF6n6D4=s64",
      "userId": "17212050139887820689"
     },
     "user_tz": -330
    },
    "id": "oFo52ZS2hN6h",
    "outputId": "de61994f-ed7a-4dc4-d8dd-c22028ca190f"
   },
   "outputs": [
    {
     "data": {
      "text/html": [
       "<div>\n",
       "<style scoped>\n",
       "    .dataframe tbody tr th:only-of-type {\n",
       "        vertical-align: middle;\n",
       "    }\n",
       "\n",
       "    .dataframe tbody tr th {\n",
       "        vertical-align: top;\n",
       "    }\n",
       "\n",
       "    .dataframe thead th {\n",
       "        text-align: right;\n",
       "    }\n",
       "</style>\n",
       "<table border=\"1\" class=\"dataframe\">\n",
       "  <thead>\n",
       "    <tr style=\"text-align: right;\">\n",
       "      <th></th>\n",
       "      <th></th>\n",
       "      <th>tropical fruit</th>\n",
       "      <th>whole milk</th>\n",
       "      <th>pip fruit</th>\n",
       "      <th>other vegetables</th>\n",
       "      <th>rolls/buns</th>\n",
       "      <th>pot plants</th>\n",
       "      <th>citrus fruit</th>\n",
       "      <th>beef</th>\n",
       "      <th>frankfurter</th>\n",
       "      <th>chicken</th>\n",
       "      <th>...</th>\n",
       "      <th>flower (seeds)</th>\n",
       "      <th>rice</th>\n",
       "      <th>tea</th>\n",
       "      <th>salad dressing</th>\n",
       "      <th>specialty vegetables</th>\n",
       "      <th>pudding powder</th>\n",
       "      <th>ready soups</th>\n",
       "      <th>make up remover</th>\n",
       "      <th>toilet cleaner</th>\n",
       "      <th>preservation products</th>\n",
       "    </tr>\n",
       "    <tr>\n",
       "      <th>Member_number</th>\n",
       "      <th>Date</th>\n",
       "      <th></th>\n",
       "      <th></th>\n",
       "      <th></th>\n",
       "      <th></th>\n",
       "      <th></th>\n",
       "      <th></th>\n",
       "      <th></th>\n",
       "      <th></th>\n",
       "      <th></th>\n",
       "      <th></th>\n",
       "      <th></th>\n",
       "      <th></th>\n",
       "      <th></th>\n",
       "      <th></th>\n",
       "      <th></th>\n",
       "      <th></th>\n",
       "      <th></th>\n",
       "      <th></th>\n",
       "      <th></th>\n",
       "      <th></th>\n",
       "      <th></th>\n",
       "    </tr>\n",
       "  </thead>\n",
       "  <tbody>\n",
       "    <tr>\n",
       "      <th rowspan=\"5\" valign=\"top\">1000</th>\n",
       "      <th>15-03-2015</th>\n",
       "      <td>0</td>\n",
       "      <td>1</td>\n",
       "      <td>0</td>\n",
       "      <td>0</td>\n",
       "      <td>0</td>\n",
       "      <td>0</td>\n",
       "      <td>0</td>\n",
       "      <td>0</td>\n",
       "      <td>0</td>\n",
       "      <td>0</td>\n",
       "      <td>...</td>\n",
       "      <td>0</td>\n",
       "      <td>0</td>\n",
       "      <td>0</td>\n",
       "      <td>0</td>\n",
       "      <td>0</td>\n",
       "      <td>0</td>\n",
       "      <td>0</td>\n",
       "      <td>0</td>\n",
       "      <td>0</td>\n",
       "      <td>0</td>\n",
       "    </tr>\n",
       "    <tr>\n",
       "      <th>24-06-2014</th>\n",
       "      <td>0</td>\n",
       "      <td>1</td>\n",
       "      <td>0</td>\n",
       "      <td>0</td>\n",
       "      <td>0</td>\n",
       "      <td>0</td>\n",
       "      <td>0</td>\n",
       "      <td>0</td>\n",
       "      <td>0</td>\n",
       "      <td>0</td>\n",
       "      <td>...</td>\n",
       "      <td>0</td>\n",
       "      <td>0</td>\n",
       "      <td>0</td>\n",
       "      <td>0</td>\n",
       "      <td>0</td>\n",
       "      <td>0</td>\n",
       "      <td>0</td>\n",
       "      <td>0</td>\n",
       "      <td>0</td>\n",
       "      <td>0</td>\n",
       "    </tr>\n",
       "    <tr>\n",
       "      <th>24-07-2015</th>\n",
       "      <td>0</td>\n",
       "      <td>0</td>\n",
       "      <td>0</td>\n",
       "      <td>0</td>\n",
       "      <td>0</td>\n",
       "      <td>0</td>\n",
       "      <td>0</td>\n",
       "      <td>0</td>\n",
       "      <td>0</td>\n",
       "      <td>0</td>\n",
       "      <td>...</td>\n",
       "      <td>0</td>\n",
       "      <td>0</td>\n",
       "      <td>0</td>\n",
       "      <td>0</td>\n",
       "      <td>0</td>\n",
       "      <td>0</td>\n",
       "      <td>0</td>\n",
       "      <td>0</td>\n",
       "      <td>0</td>\n",
       "      <td>0</td>\n",
       "    </tr>\n",
       "    <tr>\n",
       "      <th>25-11-2015</th>\n",
       "      <td>0</td>\n",
       "      <td>0</td>\n",
       "      <td>0</td>\n",
       "      <td>0</td>\n",
       "      <td>0</td>\n",
       "      <td>0</td>\n",
       "      <td>0</td>\n",
       "      <td>0</td>\n",
       "      <td>0</td>\n",
       "      <td>0</td>\n",
       "      <td>...</td>\n",
       "      <td>0</td>\n",
       "      <td>0</td>\n",
       "      <td>0</td>\n",
       "      <td>0</td>\n",
       "      <td>0</td>\n",
       "      <td>0</td>\n",
       "      <td>0</td>\n",
       "      <td>0</td>\n",
       "      <td>0</td>\n",
       "      <td>0</td>\n",
       "    </tr>\n",
       "    <tr>\n",
       "      <th>27-05-2015</th>\n",
       "      <td>0</td>\n",
       "      <td>0</td>\n",
       "      <td>0</td>\n",
       "      <td>0</td>\n",
       "      <td>0</td>\n",
       "      <td>0</td>\n",
       "      <td>0</td>\n",
       "      <td>0</td>\n",
       "      <td>0</td>\n",
       "      <td>0</td>\n",
       "      <td>...</td>\n",
       "      <td>0</td>\n",
       "      <td>0</td>\n",
       "      <td>0</td>\n",
       "      <td>0</td>\n",
       "      <td>0</td>\n",
       "      <td>0</td>\n",
       "      <td>0</td>\n",
       "      <td>0</td>\n",
       "      <td>0</td>\n",
       "      <td>0</td>\n",
       "    </tr>\n",
       "  </tbody>\n",
       "</table>\n",
       "<p>5 rows × 167 columns</p>\n",
       "</div>"
      ],
      "text/plain": [
       "                          tropical fruit  whole milk  pip fruit  \\\n",
       "Member_number Date                                                \n",
       "1000          15-03-2015               0           1          0   \n",
       "              24-06-2014               0           1          0   \n",
       "              24-07-2015               0           0          0   \n",
       "              25-11-2015               0           0          0   \n",
       "              27-05-2015               0           0          0   \n",
       "\n",
       "                          other vegetables  rolls/buns  pot plants  \\\n",
       "Member_number Date                                                   \n",
       "1000          15-03-2015                 0           0           0   \n",
       "              24-06-2014                 0           0           0   \n",
       "              24-07-2015                 0           0           0   \n",
       "              25-11-2015                 0           0           0   \n",
       "              27-05-2015                 0           0           0   \n",
       "\n",
       "                          citrus fruit  beef  frankfurter  chicken  ...  \\\n",
       "Member_number Date                                                  ...   \n",
       "1000          15-03-2015             0     0            0        0  ...   \n",
       "              24-06-2014             0     0            0        0  ...   \n",
       "              24-07-2015             0     0            0        0  ...   \n",
       "              25-11-2015             0     0            0        0  ...   \n",
       "              27-05-2015             0     0            0        0  ...   \n",
       "\n",
       "                          flower (seeds)  rice  tea  salad dressing  \\\n",
       "Member_number Date                                                    \n",
       "1000          15-03-2015               0     0    0               0   \n",
       "              24-06-2014               0     0    0               0   \n",
       "              24-07-2015               0     0    0               0   \n",
       "              25-11-2015               0     0    0               0   \n",
       "              27-05-2015               0     0    0               0   \n",
       "\n",
       "                          specialty vegetables  pudding powder  ready soups  \\\n",
       "Member_number Date                                                            \n",
       "1000          15-03-2015                     0               0            0   \n",
       "              24-06-2014                     0               0            0   \n",
       "              24-07-2015                     0               0            0   \n",
       "              25-11-2015                     0               0            0   \n",
       "              27-05-2015                     0               0            0   \n",
       "\n",
       "                          make up remover  toilet cleaner  \\\n",
       "Member_number Date                                          \n",
       "1000          15-03-2015                0               0   \n",
       "              24-06-2014                0               0   \n",
       "              24-07-2015                0               0   \n",
       "              25-11-2015                0               0   \n",
       "              27-05-2015                0               0   \n",
       "\n",
       "                          preservation products  \n",
       "Member_number Date                               \n",
       "1000          15-03-2015                      0  \n",
       "              24-06-2014                      0  \n",
       "              24-07-2015                      0  \n",
       "              25-11-2015                      0  \n",
       "              27-05-2015                      0  \n",
       "\n",
       "[5 rows x 167 columns]"
      ]
     },
     "execution_count": 38,
     "metadata": {},
     "output_type": "execute_result"
    }
   ],
   "source": [
    "data2.head()"
   ]
  },
  {
   "cell_type": "code",
   "execution_count": 39,
   "metadata": {
    "executionInfo": {
     "elapsed": 349,
     "status": "ok",
     "timestamp": 1631115911096,
     "user": {
      "displayName": "Sahil Rahman",
      "photoUrl": "https://lh3.googleusercontent.com/a-/AOh14GiJ8lzvw0EAvZyy3OveF6J53a3ecWuQmgHRsF6n6D4=s64",
      "userId": "17212050139887820689"
     },
     "user_tz": -330
    },
    "id": "qhtlyZw_hN9d"
   },
   "outputs": [],
   "source": [
    "data2 = data2.reset_index()[products]"
   ]
  },
  {
   "cell_type": "code",
   "execution_count": 40,
   "metadata": {
    "colab": {
     "base_uri": "https://localhost:8080/",
     "height": 477
    },
    "executionInfo": {
     "elapsed": 355,
     "status": "ok",
     "timestamp": 1631115915776,
     "user": {
      "displayName": "Sahil Rahman",
      "photoUrl": "https://lh3.googleusercontent.com/a-/AOh14GiJ8lzvw0EAvZyy3OveF6J53a3ecWuQmgHRsF6n6D4=s64",
      "userId": "17212050139887820689"
     },
     "user_tz": -330
    },
    "id": "ZSVYfb9-hN_8",
    "outputId": "aa06a534-63e1-4ec6-ca17-00a5f793d521"
   },
   "outputs": [
    {
     "data": {
      "text/html": [
       "<div>\n",
       "<style scoped>\n",
       "    .dataframe tbody tr th:only-of-type {\n",
       "        vertical-align: middle;\n",
       "    }\n",
       "\n",
       "    .dataframe tbody tr th {\n",
       "        vertical-align: top;\n",
       "    }\n",
       "\n",
       "    .dataframe thead th {\n",
       "        text-align: right;\n",
       "    }\n",
       "</style>\n",
       "<table border=\"1\" class=\"dataframe\">\n",
       "  <thead>\n",
       "    <tr style=\"text-align: right;\">\n",
       "      <th></th>\n",
       "      <th>tropical fruit</th>\n",
       "      <th>whole milk</th>\n",
       "      <th>pip fruit</th>\n",
       "      <th>other vegetables</th>\n",
       "      <th>rolls/buns</th>\n",
       "      <th>pot plants</th>\n",
       "      <th>citrus fruit</th>\n",
       "      <th>beef</th>\n",
       "      <th>frankfurter</th>\n",
       "      <th>chicken</th>\n",
       "      <th>...</th>\n",
       "      <th>flower (seeds)</th>\n",
       "      <th>rice</th>\n",
       "      <th>tea</th>\n",
       "      <th>salad dressing</th>\n",
       "      <th>specialty vegetables</th>\n",
       "      <th>pudding powder</th>\n",
       "      <th>ready soups</th>\n",
       "      <th>make up remover</th>\n",
       "      <th>toilet cleaner</th>\n",
       "      <th>preservation products</th>\n",
       "    </tr>\n",
       "  </thead>\n",
       "  <tbody>\n",
       "    <tr>\n",
       "      <th>0</th>\n",
       "      <td>0</td>\n",
       "      <td>1</td>\n",
       "      <td>0</td>\n",
       "      <td>0</td>\n",
       "      <td>0</td>\n",
       "      <td>0</td>\n",
       "      <td>0</td>\n",
       "      <td>0</td>\n",
       "      <td>0</td>\n",
       "      <td>0</td>\n",
       "      <td>...</td>\n",
       "      <td>0</td>\n",
       "      <td>0</td>\n",
       "      <td>0</td>\n",
       "      <td>0</td>\n",
       "      <td>0</td>\n",
       "      <td>0</td>\n",
       "      <td>0</td>\n",
       "      <td>0</td>\n",
       "      <td>0</td>\n",
       "      <td>0</td>\n",
       "    </tr>\n",
       "    <tr>\n",
       "      <th>1</th>\n",
       "      <td>0</td>\n",
       "      <td>1</td>\n",
       "      <td>0</td>\n",
       "      <td>0</td>\n",
       "      <td>0</td>\n",
       "      <td>0</td>\n",
       "      <td>0</td>\n",
       "      <td>0</td>\n",
       "      <td>0</td>\n",
       "      <td>0</td>\n",
       "      <td>...</td>\n",
       "      <td>0</td>\n",
       "      <td>0</td>\n",
       "      <td>0</td>\n",
       "      <td>0</td>\n",
       "      <td>0</td>\n",
       "      <td>0</td>\n",
       "      <td>0</td>\n",
       "      <td>0</td>\n",
       "      <td>0</td>\n",
       "      <td>0</td>\n",
       "    </tr>\n",
       "    <tr>\n",
       "      <th>2</th>\n",
       "      <td>0</td>\n",
       "      <td>0</td>\n",
       "      <td>0</td>\n",
       "      <td>0</td>\n",
       "      <td>0</td>\n",
       "      <td>0</td>\n",
       "      <td>0</td>\n",
       "      <td>0</td>\n",
       "      <td>0</td>\n",
       "      <td>0</td>\n",
       "      <td>...</td>\n",
       "      <td>0</td>\n",
       "      <td>0</td>\n",
       "      <td>0</td>\n",
       "      <td>0</td>\n",
       "      <td>0</td>\n",
       "      <td>0</td>\n",
       "      <td>0</td>\n",
       "      <td>0</td>\n",
       "      <td>0</td>\n",
       "      <td>0</td>\n",
       "    </tr>\n",
       "    <tr>\n",
       "      <th>3</th>\n",
       "      <td>0</td>\n",
       "      <td>0</td>\n",
       "      <td>0</td>\n",
       "      <td>0</td>\n",
       "      <td>0</td>\n",
       "      <td>0</td>\n",
       "      <td>0</td>\n",
       "      <td>0</td>\n",
       "      <td>0</td>\n",
       "      <td>0</td>\n",
       "      <td>...</td>\n",
       "      <td>0</td>\n",
       "      <td>0</td>\n",
       "      <td>0</td>\n",
       "      <td>0</td>\n",
       "      <td>0</td>\n",
       "      <td>0</td>\n",
       "      <td>0</td>\n",
       "      <td>0</td>\n",
       "      <td>0</td>\n",
       "      <td>0</td>\n",
       "    </tr>\n",
       "    <tr>\n",
       "      <th>4</th>\n",
       "      <td>0</td>\n",
       "      <td>0</td>\n",
       "      <td>0</td>\n",
       "      <td>0</td>\n",
       "      <td>0</td>\n",
       "      <td>0</td>\n",
       "      <td>0</td>\n",
       "      <td>0</td>\n",
       "      <td>0</td>\n",
       "      <td>0</td>\n",
       "      <td>...</td>\n",
       "      <td>0</td>\n",
       "      <td>0</td>\n",
       "      <td>0</td>\n",
       "      <td>0</td>\n",
       "      <td>0</td>\n",
       "      <td>0</td>\n",
       "      <td>0</td>\n",
       "      <td>0</td>\n",
       "      <td>0</td>\n",
       "      <td>0</td>\n",
       "    </tr>\n",
       "    <tr>\n",
       "      <th>...</th>\n",
       "      <td>...</td>\n",
       "      <td>...</td>\n",
       "      <td>...</td>\n",
       "      <td>...</td>\n",
       "      <td>...</td>\n",
       "      <td>...</td>\n",
       "      <td>...</td>\n",
       "      <td>...</td>\n",
       "      <td>...</td>\n",
       "      <td>...</td>\n",
       "      <td>...</td>\n",
       "      <td>...</td>\n",
       "      <td>...</td>\n",
       "      <td>...</td>\n",
       "      <td>...</td>\n",
       "      <td>...</td>\n",
       "      <td>...</td>\n",
       "      <td>...</td>\n",
       "      <td>...</td>\n",
       "      <td>...</td>\n",
       "      <td>...</td>\n",
       "    </tr>\n",
       "    <tr>\n",
       "      <th>14958</th>\n",
       "      <td>1</td>\n",
       "      <td>0</td>\n",
       "      <td>0</td>\n",
       "      <td>1</td>\n",
       "      <td>0</td>\n",
       "      <td>0</td>\n",
       "      <td>0</td>\n",
       "      <td>0</td>\n",
       "      <td>0</td>\n",
       "      <td>0</td>\n",
       "      <td>...</td>\n",
       "      <td>0</td>\n",
       "      <td>0</td>\n",
       "      <td>0</td>\n",
       "      <td>0</td>\n",
       "      <td>0</td>\n",
       "      <td>0</td>\n",
       "      <td>0</td>\n",
       "      <td>0</td>\n",
       "      <td>0</td>\n",
       "      <td>0</td>\n",
       "    </tr>\n",
       "    <tr>\n",
       "      <th>14959</th>\n",
       "      <td>0</td>\n",
       "      <td>0</td>\n",
       "      <td>0</td>\n",
       "      <td>0</td>\n",
       "      <td>0</td>\n",
       "      <td>0</td>\n",
       "      <td>0</td>\n",
       "      <td>0</td>\n",
       "      <td>0</td>\n",
       "      <td>0</td>\n",
       "      <td>...</td>\n",
       "      <td>0</td>\n",
       "      <td>0</td>\n",
       "      <td>0</td>\n",
       "      <td>0</td>\n",
       "      <td>0</td>\n",
       "      <td>0</td>\n",
       "      <td>0</td>\n",
       "      <td>0</td>\n",
       "      <td>0</td>\n",
       "      <td>0</td>\n",
       "    </tr>\n",
       "    <tr>\n",
       "      <th>14960</th>\n",
       "      <td>0</td>\n",
       "      <td>0</td>\n",
       "      <td>0</td>\n",
       "      <td>0</td>\n",
       "      <td>0</td>\n",
       "      <td>0</td>\n",
       "      <td>0</td>\n",
       "      <td>0</td>\n",
       "      <td>0</td>\n",
       "      <td>0</td>\n",
       "      <td>...</td>\n",
       "      <td>0</td>\n",
       "      <td>0</td>\n",
       "      <td>0</td>\n",
       "      <td>0</td>\n",
       "      <td>0</td>\n",
       "      <td>0</td>\n",
       "      <td>0</td>\n",
       "      <td>0</td>\n",
       "      <td>0</td>\n",
       "      <td>0</td>\n",
       "    </tr>\n",
       "    <tr>\n",
       "      <th>14961</th>\n",
       "      <td>0</td>\n",
       "      <td>0</td>\n",
       "      <td>0</td>\n",
       "      <td>0</td>\n",
       "      <td>0</td>\n",
       "      <td>0</td>\n",
       "      <td>0</td>\n",
       "      <td>0</td>\n",
       "      <td>0</td>\n",
       "      <td>0</td>\n",
       "      <td>...</td>\n",
       "      <td>0</td>\n",
       "      <td>0</td>\n",
       "      <td>0</td>\n",
       "      <td>0</td>\n",
       "      <td>0</td>\n",
       "      <td>0</td>\n",
       "      <td>0</td>\n",
       "      <td>0</td>\n",
       "      <td>0</td>\n",
       "      <td>0</td>\n",
       "    </tr>\n",
       "    <tr>\n",
       "      <th>14962</th>\n",
       "      <td>0</td>\n",
       "      <td>0</td>\n",
       "      <td>0</td>\n",
       "      <td>1</td>\n",
       "      <td>0</td>\n",
       "      <td>0</td>\n",
       "      <td>0</td>\n",
       "      <td>0</td>\n",
       "      <td>0</td>\n",
       "      <td>0</td>\n",
       "      <td>...</td>\n",
       "      <td>0</td>\n",
       "      <td>0</td>\n",
       "      <td>0</td>\n",
       "      <td>0</td>\n",
       "      <td>0</td>\n",
       "      <td>0</td>\n",
       "      <td>0</td>\n",
       "      <td>0</td>\n",
       "      <td>0</td>\n",
       "      <td>0</td>\n",
       "    </tr>\n",
       "  </tbody>\n",
       "</table>\n",
       "<p>14963 rows × 167 columns</p>\n",
       "</div>"
      ],
      "text/plain": [
       "       tropical fruit  whole milk  pip fruit  other vegetables  rolls/buns  \\\n",
       "0                   0           1          0                 0           0   \n",
       "1                   0           1          0                 0           0   \n",
       "2                   0           0          0                 0           0   \n",
       "3                   0           0          0                 0           0   \n",
       "4                   0           0          0                 0           0   \n",
       "...               ...         ...        ...               ...         ...   \n",
       "14958               1           0          0                 1           0   \n",
       "14959               0           0          0                 0           0   \n",
       "14960               0           0          0                 0           0   \n",
       "14961               0           0          0                 0           0   \n",
       "14962               0           0          0                 1           0   \n",
       "\n",
       "       pot plants  citrus fruit  beef  frankfurter  chicken  ...  \\\n",
       "0               0             0     0            0        0  ...   \n",
       "1               0             0     0            0        0  ...   \n",
       "2               0             0     0            0        0  ...   \n",
       "3               0             0     0            0        0  ...   \n",
       "4               0             0     0            0        0  ...   \n",
       "...           ...           ...   ...          ...      ...  ...   \n",
       "14958           0             0     0            0        0  ...   \n",
       "14959           0             0     0            0        0  ...   \n",
       "14960           0             0     0            0        0  ...   \n",
       "14961           0             0     0            0        0  ...   \n",
       "14962           0             0     0            0        0  ...   \n",
       "\n",
       "       flower (seeds)  rice  tea  salad dressing  specialty vegetables  \\\n",
       "0                   0     0    0               0                     0   \n",
       "1                   0     0    0               0                     0   \n",
       "2                   0     0    0               0                     0   \n",
       "3                   0     0    0               0                     0   \n",
       "4                   0     0    0               0                     0   \n",
       "...               ...   ...  ...             ...                   ...   \n",
       "14958               0     0    0               0                     0   \n",
       "14959               0     0    0               0                     0   \n",
       "14960               0     0    0               0                     0   \n",
       "14961               0     0    0               0                     0   \n",
       "14962               0     0    0               0                     0   \n",
       "\n",
       "       pudding powder  ready soups  make up remover  toilet cleaner  \\\n",
       "0                   0            0                0               0   \n",
       "1                   0            0                0               0   \n",
       "2                   0            0                0               0   \n",
       "3                   0            0                0               0   \n",
       "4                   0            0                0               0   \n",
       "...               ...          ...              ...             ...   \n",
       "14958               0            0                0               0   \n",
       "14959               0            0                0               0   \n",
       "14960               0            0                0               0   \n",
       "14961               0            0                0               0   \n",
       "14962               0            0                0               0   \n",
       "\n",
       "       preservation products  \n",
       "0                          0  \n",
       "1                          0  \n",
       "2                          0  \n",
       "3                          0  \n",
       "4                          0  \n",
       "...                      ...  \n",
       "14958                      0  \n",
       "14959                      0  \n",
       "14960                      0  \n",
       "14961                      0  \n",
       "14962                      0  \n",
       "\n",
       "[14963 rows x 167 columns]"
      ]
     },
     "execution_count": 40,
     "metadata": {},
     "output_type": "execute_result"
    }
   ],
   "source": [
    "data2"
   ]
  },
  {
   "cell_type": "code",
   "execution_count": 41,
   "metadata": {
    "colab": {
     "base_uri": "https://localhost:8080/"
    },
    "executionInfo": {
     "elapsed": 354,
     "status": "ok",
     "timestamp": 1631115964011,
     "user": {
      "displayName": "Sahil Rahman",
      "photoUrl": "https://lh3.googleusercontent.com/a-/AOh14GiJ8lzvw0EAvZyy3OveF6J53a3ecWuQmgHRsF6n6D4=s64",
      "userId": "17212050139887820689"
     },
     "user_tz": -330
    },
    "id": "EQuYM81OhOCw",
    "outputId": "965b7415-586a-4d87-9f53-03110bb0f582"
   },
   "outputs": [
    {
     "data": {
      "text/plain": [
       "array([[0, 1, 0, ..., 0, 0, 0],\n",
       "       [0, 1, 0, ..., 0, 0, 0],\n",
       "       [0, 0, 0, ..., 0, 0, 0],\n",
       "       ...,\n",
       "       [0, 0, 0, ..., 0, 0, 0],\n",
       "       [0, 0, 0, ..., 0, 0, 0],\n",
       "       [0, 0, 0, ..., 0, 0, 0]], dtype=int64)"
      ]
     },
     "execution_count": 41,
     "metadata": {},
     "output_type": "execute_result"
    }
   ],
   "source": [
    "data2.values"
   ]
  },
  {
   "cell_type": "code",
   "execution_count": 42,
   "metadata": {
    "colab": {
     "base_uri": "https://localhost:8080/"
    },
    "executionInfo": {
     "elapsed": 354,
     "status": "ok",
     "timestamp": 1631116175306,
     "user": {
      "displayName": "Sahil Rahman",
      "photoUrl": "https://lh3.googleusercontent.com/a-/AOh14GiJ8lzvw0EAvZyy3OveF6J53a3ecWuQmgHRsF6n6D4=s64",
      "userId": "17212050139887820689"
     },
     "user_tz": -330
    },
    "id": "Ssp7Pb4hGYVl",
    "outputId": "0c8c6c9f-b02b-44af-dea0-4d6ed724099e"
   },
   "outputs": [
    {
     "data": {
      "text/plain": [
       "0        0\n",
       "1        0\n",
       "2        0\n",
       "3        0\n",
       "4        0\n",
       "        ..\n",
       "14958    1\n",
       "14959    0\n",
       "14960    0\n",
       "14961    0\n",
       "14962    0\n",
       "Name: tropical fruit, Length: 14963, dtype: int64"
      ]
     },
     "execution_count": 42,
     "metadata": {},
     "output_type": "execute_result"
    }
   ],
   "source": [
    "data2['tropical fruit']"
   ]
  },
  {
   "cell_type": "code",
   "execution_count": 43,
   "metadata": {
    "executionInfo": {
     "elapsed": 535,
     "status": "ok",
     "timestamp": 1631116277643,
     "user": {
      "displayName": "Sahil Rahman",
      "photoUrl": "https://lh3.googleusercontent.com/a-/AOh14GiJ8lzvw0EAvZyy3OveF6J53a3ecWuQmgHRsF6n6D4=s64",
      "userId": "17212050139887820689"
     },
     "user_tz": -330
    },
    "id": "tGP0YyyghOF1"
   },
   "outputs": [],
   "source": [
    "def func(data):\n",
    "  for i in products:\n",
    "    if data[i] > 0:\n",
    "      data[i] = i\n",
    "  return data"
   ]
  },
  {
   "cell_type": "code",
   "execution_count": 44,
   "metadata": {
    "executionInfo": {
     "elapsed": 15918,
     "status": "ok",
     "timestamp": 1631116320892,
     "user": {
      "displayName": "Sahil Rahman",
      "photoUrl": "https://lh3.googleusercontent.com/a-/AOh14GiJ8lzvw0EAvZyy3OveF6J53a3ecWuQmgHRsF6n6D4=s64",
      "userId": "17212050139887820689"
     },
     "user_tz": -330
    },
    "id": "doHw4KM9hOIg"
   },
   "outputs": [],
   "source": [
    "data2 = data2.apply(func,axis=1)"
   ]
  },
  {
   "cell_type": "code",
   "execution_count": 45,
   "metadata": {
    "colab": {
     "base_uri": "https://localhost:8080/",
     "height": 341
    },
    "executionInfo": {
     "elapsed": 588,
     "status": "ok",
     "timestamp": 1631116332823,
     "user": {
      "displayName": "Sahil Rahman",
      "photoUrl": "https://lh3.googleusercontent.com/a-/AOh14GiJ8lzvw0EAvZyy3OveF6J53a3ecWuQmgHRsF6n6D4=s64",
      "userId": "17212050139887820689"
     },
     "user_tz": -330
    },
    "id": "P9trCB91hOLS",
    "outputId": "4aae981f-24aa-45dd-f13d-30d9be88631d"
   },
   "outputs": [
    {
     "data": {
      "text/html": [
       "<div>\n",
       "<style scoped>\n",
       "    .dataframe tbody tr th:only-of-type {\n",
       "        vertical-align: middle;\n",
       "    }\n",
       "\n",
       "    .dataframe tbody tr th {\n",
       "        vertical-align: top;\n",
       "    }\n",
       "\n",
       "    .dataframe thead th {\n",
       "        text-align: right;\n",
       "    }\n",
       "</style>\n",
       "<table border=\"1\" class=\"dataframe\">\n",
       "  <thead>\n",
       "    <tr style=\"text-align: right;\">\n",
       "      <th></th>\n",
       "      <th>tropical fruit</th>\n",
       "      <th>whole milk</th>\n",
       "      <th>pip fruit</th>\n",
       "      <th>other vegetables</th>\n",
       "      <th>rolls/buns</th>\n",
       "      <th>pot plants</th>\n",
       "      <th>citrus fruit</th>\n",
       "      <th>beef</th>\n",
       "      <th>frankfurter</th>\n",
       "      <th>chicken</th>\n",
       "      <th>...</th>\n",
       "      <th>flower (seeds)</th>\n",
       "      <th>rice</th>\n",
       "      <th>tea</th>\n",
       "      <th>salad dressing</th>\n",
       "      <th>specialty vegetables</th>\n",
       "      <th>pudding powder</th>\n",
       "      <th>ready soups</th>\n",
       "      <th>make up remover</th>\n",
       "      <th>toilet cleaner</th>\n",
       "      <th>preservation products</th>\n",
       "    </tr>\n",
       "  </thead>\n",
       "  <tbody>\n",
       "    <tr>\n",
       "      <th>0</th>\n",
       "      <td>0</td>\n",
       "      <td>whole milk</td>\n",
       "      <td>0</td>\n",
       "      <td>0</td>\n",
       "      <td>0</td>\n",
       "      <td>0</td>\n",
       "      <td>0</td>\n",
       "      <td>0</td>\n",
       "      <td>0</td>\n",
       "      <td>0</td>\n",
       "      <td>...</td>\n",
       "      <td>0</td>\n",
       "      <td>0</td>\n",
       "      <td>0</td>\n",
       "      <td>0</td>\n",
       "      <td>0</td>\n",
       "      <td>0</td>\n",
       "      <td>0</td>\n",
       "      <td>0</td>\n",
       "      <td>0</td>\n",
       "      <td>0</td>\n",
       "    </tr>\n",
       "    <tr>\n",
       "      <th>1</th>\n",
       "      <td>0</td>\n",
       "      <td>whole milk</td>\n",
       "      <td>0</td>\n",
       "      <td>0</td>\n",
       "      <td>0</td>\n",
       "      <td>0</td>\n",
       "      <td>0</td>\n",
       "      <td>0</td>\n",
       "      <td>0</td>\n",
       "      <td>0</td>\n",
       "      <td>...</td>\n",
       "      <td>0</td>\n",
       "      <td>0</td>\n",
       "      <td>0</td>\n",
       "      <td>0</td>\n",
       "      <td>0</td>\n",
       "      <td>0</td>\n",
       "      <td>0</td>\n",
       "      <td>0</td>\n",
       "      <td>0</td>\n",
       "      <td>0</td>\n",
       "    </tr>\n",
       "    <tr>\n",
       "      <th>2</th>\n",
       "      <td>0</td>\n",
       "      <td>0</td>\n",
       "      <td>0</td>\n",
       "      <td>0</td>\n",
       "      <td>0</td>\n",
       "      <td>0</td>\n",
       "      <td>0</td>\n",
       "      <td>0</td>\n",
       "      <td>0</td>\n",
       "      <td>0</td>\n",
       "      <td>...</td>\n",
       "      <td>0</td>\n",
       "      <td>0</td>\n",
       "      <td>0</td>\n",
       "      <td>0</td>\n",
       "      <td>0</td>\n",
       "      <td>0</td>\n",
       "      <td>0</td>\n",
       "      <td>0</td>\n",
       "      <td>0</td>\n",
       "      <td>0</td>\n",
       "    </tr>\n",
       "    <tr>\n",
       "      <th>3</th>\n",
       "      <td>0</td>\n",
       "      <td>0</td>\n",
       "      <td>0</td>\n",
       "      <td>0</td>\n",
       "      <td>0</td>\n",
       "      <td>0</td>\n",
       "      <td>0</td>\n",
       "      <td>0</td>\n",
       "      <td>0</td>\n",
       "      <td>0</td>\n",
       "      <td>...</td>\n",
       "      <td>0</td>\n",
       "      <td>0</td>\n",
       "      <td>0</td>\n",
       "      <td>0</td>\n",
       "      <td>0</td>\n",
       "      <td>0</td>\n",
       "      <td>0</td>\n",
       "      <td>0</td>\n",
       "      <td>0</td>\n",
       "      <td>0</td>\n",
       "    </tr>\n",
       "    <tr>\n",
       "      <th>4</th>\n",
       "      <td>0</td>\n",
       "      <td>0</td>\n",
       "      <td>0</td>\n",
       "      <td>0</td>\n",
       "      <td>0</td>\n",
       "      <td>0</td>\n",
       "      <td>0</td>\n",
       "      <td>0</td>\n",
       "      <td>0</td>\n",
       "      <td>0</td>\n",
       "      <td>...</td>\n",
       "      <td>0</td>\n",
       "      <td>0</td>\n",
       "      <td>0</td>\n",
       "      <td>0</td>\n",
       "      <td>0</td>\n",
       "      <td>0</td>\n",
       "      <td>0</td>\n",
       "      <td>0</td>\n",
       "      <td>0</td>\n",
       "      <td>0</td>\n",
       "    </tr>\n",
       "  </tbody>\n",
       "</table>\n",
       "<p>5 rows × 167 columns</p>\n",
       "</div>"
      ],
      "text/plain": [
       "  tropical fruit  whole milk pip fruit other vegetables rolls/buns pot plants  \\\n",
       "0              0  whole milk         0                0          0          0   \n",
       "1              0  whole milk         0                0          0          0   \n",
       "2              0           0         0                0          0          0   \n",
       "3              0           0         0                0          0          0   \n",
       "4              0           0         0                0          0          0   \n",
       "\n",
       "  citrus fruit beef frankfurter chicken  ... flower (seeds) rice tea  \\\n",
       "0            0    0           0       0  ...              0    0   0   \n",
       "1            0    0           0       0  ...              0    0   0   \n",
       "2            0    0           0       0  ...              0    0   0   \n",
       "3            0    0           0       0  ...              0    0   0   \n",
       "4            0    0           0       0  ...              0    0   0   \n",
       "\n",
       "  salad dressing specialty vegetables pudding powder ready soups  \\\n",
       "0              0                    0              0           0   \n",
       "1              0                    0              0           0   \n",
       "2              0                    0              0           0   \n",
       "3              0                    0              0           0   \n",
       "4              0                    0              0           0   \n",
       "\n",
       "  make up remover toilet cleaner preservation products  \n",
       "0               0              0                     0  \n",
       "1               0              0                     0  \n",
       "2               0              0                     0  \n",
       "3               0              0                     0  \n",
       "4               0              0                     0  \n",
       "\n",
       "[5 rows x 167 columns]"
      ]
     },
     "execution_count": 45,
     "metadata": {},
     "output_type": "execute_result"
    }
   ],
   "source": [
    "data2.head()"
   ]
  },
  {
   "cell_type": "code",
   "execution_count": 46,
   "metadata": {
    "executionInfo": {
     "elapsed": 486,
     "status": "ok",
     "timestamp": 1631116370370,
     "user": {
      "displayName": "Sahil Rahman",
      "photoUrl": "https://lh3.googleusercontent.com/a-/AOh14GiJ8lzvw0EAvZyy3OveF6J53a3ecWuQmgHRsF6n6D4=s64",
      "userId": "17212050139887820689"
     },
     "user_tz": -330
    },
    "id": "Lq7QvS9IhOOa"
   },
   "outputs": [],
   "source": [
    "newdata = data2.values"
   ]
  },
  {
   "cell_type": "code",
   "execution_count": 47,
   "metadata": {
    "colab": {
     "base_uri": "https://localhost:8080/"
    },
    "executionInfo": {
     "elapsed": 409,
     "status": "ok",
     "timestamp": 1631116382556,
     "user": {
      "displayName": "Sahil Rahman",
      "photoUrl": "https://lh3.googleusercontent.com/a-/AOh14GiJ8lzvw0EAvZyy3OveF6J53a3ecWuQmgHRsF6n6D4=s64",
      "userId": "17212050139887820689"
     },
     "user_tz": -330
    },
    "id": "AE5sMup8hORN",
    "outputId": "b2c45848-5d8d-4552-ed05-b94982354def"
   },
   "outputs": [
    {
     "data": {
      "text/plain": [
       "array([[0, 'whole milk', 0, ..., 0, 0, 0],\n",
       "       [0, 'whole milk', 0, ..., 0, 0, 0],\n",
       "       [0, 0, 0, ..., 0, 0, 0],\n",
       "       ...,\n",
       "       [0, 0, 0, ..., 0, 0, 0],\n",
       "       [0, 0, 0, ..., 0, 0, 0],\n",
       "       [0, 0, 0, ..., 0, 0, 0]], dtype=object)"
      ]
     },
     "execution_count": 47,
     "metadata": {},
     "output_type": "execute_result"
    }
   ],
   "source": [
    "newdata"
   ]
  },
  {
   "cell_type": "code",
   "execution_count": 48,
   "metadata": {
    "colab": {
     "base_uri": "https://localhost:8080/"
    },
    "executionInfo": {
     "elapsed": 648,
     "status": "ok",
     "timestamp": 1631116460115,
     "user": {
      "displayName": "Sahil Rahman",
      "photoUrl": "https://lh3.googleusercontent.com/a-/AOh14GiJ8lzvw0EAvZyy3OveF6J53a3ecWuQmgHRsF6n6D4=s64",
      "userId": "17212050139887820689"
     },
     "user_tz": -330
    },
    "id": "sODBPKqFHemT",
    "outputId": "102f4ae3-2270-4875-e2c0-b7cf0bf9dfa6"
   },
   "outputs": [
    {
     "data": {
      "text/plain": [
       "2"
      ]
     },
     "execution_count": 48,
     "metadata": {},
     "output_type": "execute_result"
    }
   ],
   "source": [
    "newdata.ndim"
   ]
  },
  {
   "cell_type": "code",
   "execution_count": 49,
   "metadata": {
    "executionInfo": {
     "elapsed": 358,
     "status": "ok",
     "timestamp": 1631116587151,
     "user": {
      "displayName": "Sahil Rahman",
      "photoUrl": "https://lh3.googleusercontent.com/a-/AOh14GiJ8lzvw0EAvZyy3OveF6J53a3ecWuQmgHRsF6n6D4=s64",
      "userId": "17212050139887820689"
     },
     "user_tz": -330
    },
    "id": "_wVlgWbAhOT8"
   },
   "outputs": [],
   "source": [
    "newdata = [i[i!=0].tolist() for i in newdata if i[i!=0].tolist()]"
   ]
  },
  {
   "cell_type": "code",
   "execution_count": 50,
   "metadata": {
    "colab": {
     "base_uri": "https://localhost:8080/"
    },
    "executionInfo": {
     "elapsed": 354,
     "status": "ok",
     "timestamp": 1631116602782,
     "user": {
      "displayName": "Sahil Rahman",
      "photoUrl": "https://lh3.googleusercontent.com/a-/AOh14GiJ8lzvw0EAvZyy3OveF6J53a3ecWuQmgHRsF6n6D4=s64",
      "userId": "17212050139887820689"
     },
     "user_tz": -330
    },
    "id": "oKL4IPsChOWu",
    "outputId": "fdccb6b2-8466-4b1e-b5d4-3c984d422cf5"
   },
   "outputs": [
    {
     "data": {
      "text/plain": [
       "[['whole milk', 'yogurt', 'sausage', 'semi-finished bread'],\n",
       " ['whole milk', 'pastry', 'salty snack'],\n",
       " ['canned beer', 'misc. beverages'],\n",
       " ['sausage', 'hygiene articles'],\n",
       " ['soda', 'pickled vegetables'],\n",
       " ['frankfurter', 'curd'],\n",
       " ['whole milk', 'rolls/buns', 'sausage'],\n",
       " ['whole milk', 'soda'],\n",
       " ['beef', 'white bread'],\n",
       " ['frankfurter', 'soda', 'whipped/sour cream']]"
      ]
     },
     "execution_count": 50,
     "metadata": {},
     "output_type": "execute_result"
    }
   ],
   "source": [
    "newdata[:10]"
   ]
  },
  {
   "cell_type": "code",
   "execution_count": 58,
   "metadata": {},
   "outputs": [
    {
     "data": {
      "text/plain": [
       "[['whole milk', 'yogurt', 'sausage', 'semi-finished bread'],\n",
       " ['whole milk', 'pastry', 'salty snack'],\n",
       " ['canned beer', 'misc. beverages'],\n",
       " ['sausage', 'hygiene articles'],\n",
       " ['soda', 'pickled vegetables'],\n",
       " ['frankfurter', 'curd'],\n",
       " ['whole milk', 'rolls/buns', 'sausage'],\n",
       " ['whole milk', 'soda'],\n",
       " ['beef', 'white bread'],\n",
       " ['frankfurter', 'soda', 'whipped/sour cream'],\n",
       " ['other vegetables', 'frozen vegetables'],\n",
       " ['whole milk', 'butter'],\n",
       " ['tropical fruit', 'sugar'],\n",
       " ['butter milk', 'specialty chocolate'],\n",
       " ['rolls/buns', 'sausage'],\n",
       " ['root vegetables', 'detergent'],\n",
       " ['frozen meals', 'dental care'],\n",
       " ['rolls/buns'],\n",
       " ['dish cleaner', 'cling film/bags'],\n",
       " ['canned beer', 'frozen fish'],\n",
       " ['other vegetables', 'hygiene articles'],\n",
       " ['tropical fruit', 'whole milk', 'pip fruit'],\n",
       " ['rolls/buns', 'chocolate', 'red/blush wine'],\n",
       " ['other vegetables', 'shopping bags'],\n",
       " ['whole milk', 'rolls/buns', 'packaged fruit/vegetables', 'chocolate'],\n",
       " ['whole milk', 'root vegetables', 'pastry'],\n",
       " ['rolls/buns'],\n",
       " ['margarine', 'whipped/sour cream'],\n",
       " ['rolls/buns', 'bottled water', 'softener'],\n",
       " ['whole milk', 'rice'],\n",
       " ['shopping bags', 'skin care'],\n",
       " ['whole milk',\n",
       "  'rolls/buns',\n",
       "  'frankfurter',\n",
       "  'chicken',\n",
       "  'chocolate',\n",
       "  'flour',\n",
       "  'bottled beer'],\n",
       " ['hamburger meat', 'dessert', 'liquor (appetizer)', 'liver loaf'],\n",
       " ['tropical fruit',\n",
       "  'yogurt',\n",
       "  'root vegetables',\n",
       "  'soda',\n",
       "  'white wine',\n",
       "  'photo/film',\n",
       "  'domestic eggs'],\n",
       " ['yogurt', 'herbs', 'newspapers'],\n",
       " ['tropical fruit', 'yogurt'],\n",
       " ['pastry', 'ketchup'],\n",
       " ['canned fish', 'cocoa drinks'],\n",
       " ['pip fruit', 'coffee', 'UHT-milk'],\n",
       " ['sliced cheese', 'kitchen towels'],\n",
       " ['specialty bar', 'bottled water'],\n",
       " ['frankfurter', 'bottled water'],\n",
       " ['pip fruit', 'rolls/buns', 'candles'],\n",
       " ['pastry', 'curd cheese'],\n",
       " ['whole milk',\n",
       "  'other vegetables',\n",
       "  'frankfurter',\n",
       "  'yogurt',\n",
       "  'herbs',\n",
       "  'grapes',\n",
       "  'candles'],\n",
       " ['rolls/buns', 'citrus fruit', 'bottled water', 'candy'],\n",
       " ['frankfurter', 'yogurt'],\n",
       " ['tropical fruit',\n",
       "  'rolls/buns',\n",
       "  'root vegetables',\n",
       "  'onions',\n",
       "  'shopping bags'],\n",
       " ['brown bread', 'frozen vegetables'],\n",
       " ['whole milk', 'processed cheese'],\n",
       " ['whole milk', 'frozen meals'],\n",
       " ['meat', 'domestic eggs', 'white bread', 'roll products '],\n",
       " ['root vegetables', 'mayonnaise'],\n",
       " ['other vegetables', 'mustard'],\n",
       " ['bottled water', 'hard cheese', 'napkins'],\n",
       " ['whole milk', 'candy'],\n",
       " ['tropical fruit', 'frozen vegetables'],\n",
       " ['whipped/sour cream', 'mustard'],\n",
       " ['whole milk', 'yogurt', 'sausage', 'bottled beer'],\n",
       " ['canned beer', 'cookware'],\n",
       " ['butter milk', 'hamburger meat'],\n",
       " ['whole milk', 'rolls/buns'],\n",
       " ['whole milk', 'citrus fruit'],\n",
       " ['beef', 'salty snack'],\n",
       " ['rolls/buns', 'fruit/vegetable juice', 'chocolate'],\n",
       " ['bottled beer', 'UHT-milk'],\n",
       " ['chicken', 'red/blush wine'],\n",
       " ['pip fruit', 'soft cheese'],\n",
       " ['pip fruit', 'rolls/buns', 'frankfurter', 'oil', 'mayonnaise'],\n",
       " ['brown bread', 'pet care'],\n",
       " ['other vegetables', 'rolls/buns'],\n",
       " ['beef', 'yogurt'],\n",
       " ['other vegetables', 'root vegetables'],\n",
       " ['soda', 'dessert', 'shopping bags'],\n",
       " ['curd', 'long life bakery product'],\n",
       " ['beverages', 'domestic eggs'],\n",
       " ['butter milk', 'root vegetables'],\n",
       " ['berries', 'cake bar'],\n",
       " ['hamburger meat', 'red/blush wine'],\n",
       " ['canned beer', 'shopping bags'],\n",
       " ['rolls/buns', 'canned beer', 'frozen fish', 'spices'],\n",
       " ['butter', 'yogurt', 'frozen meals', 'newspapers'],\n",
       " ['rolls/buns', 'baking powder'],\n",
       " ['tropical fruit', 'yogurt', 'curd', 'liquor'],\n",
       " ['butter', 'sliced cheese'],\n",
       " ['fruit/vegetable juice', 'sausage'],\n",
       " ['beef', 'napkins'],\n",
       " ['whole milk', 'whipped/sour cream'],\n",
       " ['rolls/buns',\n",
       "  'packaged fruit/vegetables',\n",
       "  'root vegetables',\n",
       "  'whipped/sour cream'],\n",
       " ['soda', 'domestic eggs'],\n",
       " ['chicken', 'frozen meals'],\n",
       " ['curd', 'male cosmetics'],\n",
       " ['yogurt', 'berries', 'bottled beer', 'white bread'],\n",
       " ['specialty bar', 'sausage', 'whipped/sour cream'],\n",
       " ['tropical fruit', 'other vegetables', 'root vegetables', 'fish'],\n",
       " ['coffee', 'shopping bags'],\n",
       " ['ham', 'cream cheese '],\n",
       " ['canned beer', 'UHT-milk'],\n",
       " ['rolls/buns', 'sausage', 'dessert', 'pickled vegetables'],\n",
       " ['butter', 'fruit/vegetable juice', 'candy', 'salty snack', 'dental care'],\n",
       " ['root vegetables', 'long life bakery product'],\n",
       " ['citrus fruit', 'yogurt'],\n",
       " ['root vegetables', 'canned beer', 'whipped/sour cream'],\n",
       " ['whole milk', 'salt', 'softener'],\n",
       " ['hamburger meat', 'pork'],\n",
       " ['rolls/buns', 'bottled water'],\n",
       " ['rolls/buns', 'red/blush wine'],\n",
       " ['canned beer', 'onions', 'flower (seeds)'],\n",
       " ['rolls/buns', 'sugar'],\n",
       " ['butter', 'soda'],\n",
       " ['root vegetables', 'specialty chocolate'],\n",
       " ['rolls/buns', 'bottled water', 'onions', 'baking powder'],\n",
       " ['ham', 'dessert'],\n",
       " ['pot plants', 'ice cream'],\n",
       " ['other vegetables', 'berries'],\n",
       " ['beverages', 'cream cheese '],\n",
       " ['ice cream', 'whipped/sour cream'],\n",
       " ['other vegetables',\n",
       "  'butter',\n",
       "  'berries',\n",
       "  'soda',\n",
       "  'cream cheese ',\n",
       "  'white bread'],\n",
       " ['yogurt', 'root vegetables'],\n",
       " ['whole milk', 'pastry', 'shopping bags', 'white bread'],\n",
       " ['newspapers', 'whipped/sour cream'],\n",
       " ['frankfurter', 'pastry'],\n",
       " ['chicken', 'waffles'],\n",
       " ['fruit/vegetable juice', 'dessert'],\n",
       " ['rolls/buns', 'sausage', 'snack products'],\n",
       " ['tropical fruit', 'rolls/buns', 'soda'],\n",
       " ['tropical fruit', 'newspapers'],\n",
       " ['pip fruit', 'yogurt', 'cling film/bags', 'cat food'],\n",
       " ['bottled water', 'frozen meals', 'domestic eggs'],\n",
       " ['whole milk', 'newspapers'],\n",
       " ['pip fruit', 'white wine', 'salt', 'white bread'],\n",
       " ['sausage', 'frozen vegetables'],\n",
       " ['whole milk', 'rolls/buns', 'yogurt'],\n",
       " ['whole milk', 'frozen vegetables'],\n",
       " ['fruit/vegetable juice', 'vinegar'],\n",
       " ['citrus fruit', 'shopping bags', 'chewing gum', 'cake bar'],\n",
       " ['frankfurter', 'yogurt', 'canned beer'],\n",
       " ['tropical fruit', 'rolls/buns', 'white bread'],\n",
       " ['whole milk', 'pip fruit', 'whipped/sour cream'],\n",
       " ['other vegetables', 'specialty chocolate'],\n",
       " ['butter', 'whipped/sour cream', 'Instant food products', 'cake bar'],\n",
       " ['whole milk', 'butter', 'fruit/vegetable juice', 'sausage', 'pork'],\n",
       " ['pip fruit', 'frozen meals', 'herbs'],\n",
       " ['margarine', 'napkins'],\n",
       " ['rolls/buns', 'salty snack'],\n",
       " ['whole milk', 'rolls/buns', 'pasta'],\n",
       " ['rolls/buns', 'yogurt'],\n",
       " ['root vegetables', 'white bread'],\n",
       " ['tropical fruit', 'chicken', 'packaged fruit/vegetables', 'onions'],\n",
       " ['yogurt', 'hamburger meat'],\n",
       " ['dessert', 'prosecco'],\n",
       " ['chicken', 'candy', 'frozen vegetables'],\n",
       " ['tropical fruit', 'whole milk', 'brown bread'],\n",
       " ['beef', 'dessert'],\n",
       " ['whole milk', 'other vegetables'],\n",
       " ['citrus fruit', 'bottled water'],\n",
       " ['whole milk', 'rolls/buns', 'citrus fruit'],\n",
       " ['tropical fruit', 'sliced cheese'],\n",
       " ['whole milk', 'napkins', 'chocolate marshmallow'],\n",
       " ['tropical fruit', 'other vegetables'],\n",
       " ['root vegetables', 'curd'],\n",
       " ['fruit/vegetable juice', 'specialty chocolate', 'Instant food products'],\n",
       " ['butter', 'yogurt', 'root vegetables'],\n",
       " ['chicken', 'onions'],\n",
       " ['whole milk', 'pastry'],\n",
       " ['bottled water', 'pork'],\n",
       " ['soda', 'curd'],\n",
       " ['butter', 'sweet spreads'],\n",
       " ['pip fruit', 'soda'],\n",
       " ['whole milk', 'rolls/buns', 'soda', 'condensed milk'],\n",
       " ['tropical fruit', 'rolls/buns'],\n",
       " ['whole milk', 'butter'],\n",
       " ['candy', 'white bread'],\n",
       " ['frankfurter', 'herbs'],\n",
       " ['specialty bar', 'margarine'],\n",
       " ['whole milk', 'meat'],\n",
       " ['yogurt', 'house keeping products'],\n",
       " ['whipped/sour cream', 'hygiene articles'],\n",
       " ['other vegetables', 'UHT-milk', 'dishes'],\n",
       " ['beverages', 'waffles'],\n",
       " ['yogurt', 'pasta', 'cat food'],\n",
       " ['tropical fruit', 'red/blush wine', 'fish', 'cream cheese '],\n",
       " ['other vegetables', 'rolls/buns', 'soda', 'dishes'],\n",
       " ['tropical fruit',\n",
       "  'other vegetables',\n",
       "  'hamburger meat',\n",
       "  'popcorn',\n",
       "  'female sanitary products'],\n",
       " ['hamburger meat', 'bottled beer'],\n",
       " ['pork', 'coffee', 'frozen vegetables'],\n",
       " ['shopping bags'],\n",
       " ['beef', 'shopping bags'],\n",
       " ['hamburger meat', 'soda'],\n",
       " ['butter milk', 'yogurt', 'margarine'],\n",
       " ['whole milk', 'soda'],\n",
       " ['root vegetables', 'grapes'],\n",
       " ['frankfurter', 'whipped/sour cream'],\n",
       " ['bottled water', 'chewing gum'],\n",
       " ['chicken', 'coffee', 'beverages'],\n",
       " ['other vegetables',\n",
       "  'yogurt',\n",
       "  'pork',\n",
       "  'detergent',\n",
       "  'shopping bags',\n",
       "  'soft cheese'],\n",
       " ['butter', 'dog food'],\n",
       " ['chicken', 'frozen vegetables'],\n",
       " ['hamburger meat', 'pastry'],\n",
       " ['whole milk', 'other vegetables'],\n",
       " ['rolls/buns', 'waffles'],\n",
       " ['whole milk', 'sugar'],\n",
       " ['soda'],\n",
       " ['bottled beer', 'oil'],\n",
       " ['citrus fruit', 'frankfurter', 'margarine'],\n",
       " ['fruit/vegetable juice', 'soda'],\n",
       " ['other vegetables', 'photo/film'],\n",
       " ['pork', 'white wine'],\n",
       " ['bottled water', 'yogurt', 'soda', 'newspapers'],\n",
       " ['whipped/sour cream', 'meat spreads'],\n",
       " ['pip fruit', 'other vegetables'],\n",
       " ['whole milk', 'ham'],\n",
       " ['pickled vegetables', 'salty snack'],\n",
       " ['soda', 'domestic eggs', 'sliced cheese'],\n",
       " ['tropical fruit', 'UHT-milk'],\n",
       " ['bottled water', 'sausage'],\n",
       " ['yogurt', 'root vegetables'],\n",
       " ['other vegetables', 'root vegetables'],\n",
       " ['other vegetables', 'chicken'],\n",
       " ['dessert', 'spread cheese'],\n",
       " ['sausage', 'salty snack', 'cling film/bags'],\n",
       " ['tropical fruit',\n",
       "  'whole milk',\n",
       "  'root vegetables',\n",
       "  'margarine',\n",
       "  'Instant food products'],\n",
       " ['fruit/vegetable juice', 'soda', 'bottled beer'],\n",
       " ['beef', 'chocolate'],\n",
       " ['beverages', 'dessert'],\n",
       " ['hard cheese', 'whipped/sour cream'],\n",
       " ['ham', 'whipped/sour cream', 'ketchup'],\n",
       " ['white bread', 'frozen fruits'],\n",
       " ['tropical fruit',\n",
       "  'whole milk',\n",
       "  'other vegetables',\n",
       "  'long life bakery product'],\n",
       " ['whole milk', 'other vegetables', 'butter', 'yogurt', 'shopping bags'],\n",
       " ['whole milk', 'sauces'],\n",
       " ['whole milk', 'citrus fruit'],\n",
       " ['rolls/buns', 'candy'],\n",
       " ['whole milk', 'root vegetables'],\n",
       " ['rolls/buns', 'cream cheese '],\n",
       " ['other vegetables', 'root vegetables', 'long life bakery product'],\n",
       " ['tropical fruit', 'rolls/buns'],\n",
       " ['tropical fruit', 'frankfurter'],\n",
       " ['tropical fruit', 'whole milk', 'rum', 'long life bakery product'],\n",
       " ['hamburger meat', 'soda'],\n",
       " ['red/blush wine', 'frozen fish'],\n",
       " ['beef', 'dessert'],\n",
       " ['root vegetables', 'bottled beer'],\n",
       " ['shopping bags', 'oil'],\n",
       " ['whole milk', 'other vegetables'],\n",
       " ['tropical fruit', 'whole milk'],\n",
       " ['hamburger meat', 'pork'],\n",
       " ['tropical fruit', 'rolls/buns', 'chocolate', 'coffee'],\n",
       " ['pork', 'spread cheese'],\n",
       " ['yogurt', 'soda'],\n",
       " ['domestic eggs', 'salt'],\n",
       " ['rolls/buns', 'pork'],\n",
       " ['fruit/vegetable juice', 'brown bread'],\n",
       " ['tropical fruit', 'bottled beer', 'sliced cheese', 'dishes'],\n",
       " ['newspapers', 'cream cheese '],\n",
       " ['citrus fruit', 'red/blush wine'],\n",
       " ['fruit/vegetable juice', 'yogurt', 'roll products '],\n",
       " ['other vegetables', 'ham'],\n",
       " ['frankfurter', 'canned beer'],\n",
       " ['brown bread', 'finished products', 'dishes'],\n",
       " ['bottled water', 'yogurt', 'domestic eggs'],\n",
       " ['pip fruit', 'curd', 'prosecco'],\n",
       " ['brown bread', 'salt'],\n",
       " ['semi-finished bread', 'ketchup'],\n",
       " ['shopping bags', 'oil'],\n",
       " ['fruit/vegetable juice', 'flower (seeds)'],\n",
       " ['misc. beverages', 'instant coffee'],\n",
       " ['detergent', 'candy'],\n",
       " ['UHT-milk', 'canned fish'],\n",
       " ['citrus fruit', 'frankfurter', 'fruit/vegetable juice', 'bottled water'],\n",
       " ['frankfurter', 'frozen meals', 'dishes'],\n",
       " ['pip fruit', 'rolls/buns'],\n",
       " ['butter', 'bottled water', 'sausage'],\n",
       " ['frankfurter', 'chicken', 'butter', 'bottled water'],\n",
       " ['whole milk', 'coffee', 'ham'],\n",
       " ['sausage', 'brown bread'],\n",
       " ['other vegetables', 'butter'],\n",
       " ['tropical fruit', 'soda'],\n",
       " ['pastry', 'pasta'],\n",
       " ['brown bread', 'white bread'],\n",
       " ['rolls/buns', 'canned beer', 'soda', 'artif. sweetener'],\n",
       " ['rolls/buns', 'root vegetables'],\n",
       " ['chicken', 'soda'],\n",
       " ['rolls/buns', 'frankfurter', 'coffee', 'curd', 'white bread'],\n",
       " ['bottled water', 'red/blush wine', 'sweet spreads'],\n",
       " ['rolls/buns', 'onions', 'napkins'],\n",
       " ['canned beer', 'soda'],\n",
       " ['root vegetables', 'frozen vegetables', 'pet care'],\n",
       " ['tropical fruit',\n",
       "  'specialty bar',\n",
       "  'yogurt',\n",
       "  'bottled beer',\n",
       "  'baking powder'],\n",
       " ['whole milk', 'other vegetables', 'frankfurter', 'pastry', 'newspapers'],\n",
       " ['yogurt', 'beverages'],\n",
       " ['tropical fruit', 'whole milk'],\n",
       " ['butter milk', 'coffee'],\n",
       " ['other vegetables', 'beef', 'margarine'],\n",
       " ['bottled water', 'hygiene articles'],\n",
       " ['pork', 'sliced cheese'],\n",
       " ['soda', 'specialty chocolate', 'bathroom cleaner'],\n",
       " ['whole milk', 'hamburger meat'],\n",
       " ['pip fruit', 'other vegetables'],\n",
       " ['citrus fruit', 'root vegetables'],\n",
       " ['other vegetables', 'soda', 'shopping bags'],\n",
       " ['yogurt', 'newspapers'],\n",
       " ['ice cream', 'whipped/sour cream'],\n",
       " ['other vegetables', 'beef', 'butter', 'soda', 'curd'],\n",
       " ['canned beer', 'herbs', 'margarine'],\n",
       " ['rolls/buns', 'soda'],\n",
       " ['rolls/buns', 'citrus fruit'],\n",
       " ['berries', 'coffee'],\n",
       " ['ham', 'white bread'],\n",
       " ['pot plants', 'herbs', 'cake bar'],\n",
       " ['soda', 'jam', 'flower (seeds)'],\n",
       " ['pip fruit', 'chocolate', 'sausage'],\n",
       " ['specialty chocolate', 'white bread'],\n",
       " ['whole milk'],\n",
       " ['whole milk', 'other vegetables'],\n",
       " ['sausage', 'beverages'],\n",
       " ['whole milk', 'hard cheese'],\n",
       " ['yogurt', 'berries'],\n",
       " ['tropical fruit',\n",
       "  'other vegetables',\n",
       "  'meat',\n",
       "  'domestic eggs',\n",
       "  'baking powder'],\n",
       " ['yogurt', 'sauces'],\n",
       " ['beef', 'yogurt'],\n",
       " ['whole milk', 'ice cream'],\n",
       " ['yogurt',\n",
       "  'sausage',\n",
       "  'pastry',\n",
       "  'detergent',\n",
       "  'specialty chocolate',\n",
       "  'napkins',\n",
       "  'dishes',\n",
       "  'whisky'],\n",
       " ['photo/film', 'shopping bags'],\n",
       " ['other vegetables', 'frankfurter', 'bottled beer'],\n",
       " ['yogurt', 'newspapers'],\n",
       " ['other vegetables',\n",
       "  'specialty bar',\n",
       "  'root vegetables',\n",
       "  'soda',\n",
       "  'frozen vegetables'],\n",
       " ['rolls/buns',\n",
       "  'bottled water',\n",
       "  'sausage',\n",
       "  'grapes',\n",
       "  'bottled beer',\n",
       "  'domestic eggs',\n",
       "  'salty snack',\n",
       "  'Instant food products'],\n",
       " ['dessert', 'domestic eggs'],\n",
       " ['tropical fruit', 'sausage', 'root vegetables', 'misc. beverages'],\n",
       " ['whole milk', 'sausage'],\n",
       " ['whole milk', 'brown bread'],\n",
       " ['hamburger meat', 'flour', 'detergent'],\n",
       " ['tropical fruit', 'soda'],\n",
       " ['newspapers', 'salty snack'],\n",
       " ['whole milk', 'pasta', 'waffles'],\n",
       " ['other vegetables', 'chocolate marshmallow'],\n",
       " ['flour', 'pickled vegetables'],\n",
       " ['yogurt', 'shopping bags'],\n",
       " ['packaged fruit/vegetables', 'bottled water', 'pork', 'domestic eggs'],\n",
       " ['pip fruit', 'fruit/vegetable juice'],\n",
       " ['tropical fruit', 'whole milk', 'soda', 'curd'],\n",
       " ['root vegetables', 'shopping bags'],\n",
       " ['curd', 'shopping bags', 'whipped/sour cream'],\n",
       " ['whole milk', 'sausage', 'cake bar'],\n",
       " ['frankfurter', 'bottled water', 'whipped/sour cream'],\n",
       " ['whole milk', 'hard cheese'],\n",
       " ['tropical fruit',\n",
       "  'whole milk',\n",
       "  'citrus fruit',\n",
       "  'frankfurter',\n",
       "  'yogurt',\n",
       "  'canned beer',\n",
       "  'specialty chocolate',\n",
       "  'hard cheese'],\n",
       " ['rolls/buns', 'canned beer', 'napkins'],\n",
       " ['other vegetables', 'grapes'],\n",
       " ['rolls/buns', 'shopping bags', 'cat food'],\n",
       " ['tropical fruit', 'candy'],\n",
       " ['citrus fruit', 'dessert'],\n",
       " ['bottled water', 'root vegetables', 'frozen vegetables', 'cat food'],\n",
       " ['pork', 'spread cheese'],\n",
       " ['pip fruit', 'brown bread'],\n",
       " ['root vegetables', 'instant coffee'],\n",
       " ['butter',\n",
       "  'butter milk',\n",
       "  'soda',\n",
       "  'grapes',\n",
       "  'hygiene articles',\n",
       "  'pudding powder'],\n",
       " ['whole milk', 'yogurt'],\n",
       " ['hamburger meat', 'pasta'],\n",
       " ['whole milk', 'processed cheese'],\n",
       " ['brown bread', 'sparkling wine'],\n",
       " ['other vegetables', 'rolls/buns', 'whipped/sour cream'],\n",
       " ['white wine', 'candy'],\n",
       " ['root vegetables', 'frozen vegetables'],\n",
       " ['other vegetables', 'detergent', 'white bread'],\n",
       " ['yogurt', 'brown bread', 'beverages'],\n",
       " ['herbs', 'ice cream'],\n",
       " ['yogurt', 'cream'],\n",
       " ['chicken', 'pastry', 'candles'],\n",
       " ['hygiene articles', 'waffles', 'tea'],\n",
       " ['other vegetables', 'rolls/buns', 'yogurt', 'herbs'],\n",
       " ['yogurt', 'root vegetables'],\n",
       " ['yogurt', 'domestic eggs'],\n",
       " ['whole milk', 'pork'],\n",
       " ['other vegetables', 'white bread'],\n",
       " ['tropical fruit', 'whole milk', 'bottled water', 'yogurt'],\n",
       " ['citrus fruit', 'misc. beverages'],\n",
       " ['rolls/buns', 'chicken', 'shopping bags', 'spread cheese', 'liver loaf'],\n",
       " ['citrus fruit', 'misc. beverages'],\n",
       " ['whole milk', 'pastry'],\n",
       " ['newspapers', 'onions'],\n",
       " ['beef', 'newspapers', 'specialty fat'],\n",
       " ['rolls/buns', 'semi-finished bread'],\n",
       " ['rolls/buns', 'shopping bags'],\n",
       " ['pastry', 'canned beer', 'grapes', 'whipped/sour cream'],\n",
       " ['pastry', 'oil', 'salty snack'],\n",
       " ['frozen potato products', 'specialty cheese'],\n",
       " ['whole milk', 'brown bread', 'shopping bags'],\n",
       " ['citrus fruit', 'margarine', 'frozen vegetables'],\n",
       " ['sugar', 'curd'],\n",
       " ['whole milk', 'chocolate'],\n",
       " ['pip fruit', 'pastry', 'salty snack'],\n",
       " ['pip fruit', 'margarine'],\n",
       " ['yogurt', 'ham'],\n",
       " ['soda', 'salty snack'],\n",
       " ['chocolate', 'bottled water'],\n",
       " ['butter', 'pastry', 'curd', 'margarine', 'baking powder', 'dishes'],\n",
       " ['whole milk', 'soda'],\n",
       " ['liquor', 'pickled vegetables'],\n",
       " ['yogurt', 'margarine'],\n",
       " ['whole milk', 'soda', 'UHT-milk', 'frozen vegetables'],\n",
       " ['other vegetables', 'whipped/sour cream'],\n",
       " ['beef', 'semi-finished bread'],\n",
       " ['bottled water', 'flour', 'sugar'],\n",
       " ['newspapers', 'ice cream', 'dish cleaner', 'jam'],\n",
       " ['canned beer', 'curd'],\n",
       " ['specialty bar', 'bottled beer', 'baking powder'],\n",
       " ['whole milk', 'yogurt', 'newspapers'],\n",
       " ['pork', 'domestic eggs', 'pudding powder'],\n",
       " ['root vegetables', 'shopping bags'],\n",
       " ['misc. beverages', 'UHT-milk', 'white bread'],\n",
       " ['sausage', 'dessert', 'dog food', 'shopping bags'],\n",
       " ['citrus fruit', 'root vegetables'],\n",
       " ['chocolate', 'brown bread', 'salty snack'],\n",
       " ['chicken', 'shopping bags'],\n",
       " ['other vegetables', 'butter'],\n",
       " ['yogurt', 'whipped/sour cream'],\n",
       " ['other vegetables', 'yogurt'],\n",
       " ['root vegetables', 'turkey'],\n",
       " ['other vegetables', 'napkins'],\n",
       " ['rolls/buns', 'newspapers', 'beverages', 'white bread'],\n",
       " ['other vegetables', 'zwieback'],\n",
       " ['butter milk', 'brown bread', 'soda', 'canned vegetables'],\n",
       " ['chicken', 'bottled water'],\n",
       " ['brown bread', 'soda'],\n",
       " ['other vegetables',\n",
       "  'root vegetables',\n",
       "  'newspapers',\n",
       "  'hard cheese',\n",
       "  'cream cheese ',\n",
       "  'liquor'],\n",
       " ['rolls/buns', 'frankfurter'],\n",
       " ['whole milk', 'meat', 'whipped/sour cream'],\n",
       " ['bottled beer', 'frozen vegetables', 'sliced cheese'],\n",
       " ['pip fruit', 'canned beer', 'processed cheese'],\n",
       " ['berries', 'condensed milk'],\n",
       " ['rolls/buns', 'curd', 'pickled vegetables', 'house keeping products'],\n",
       " ['whole milk', 'butter', 'pastry', 'hair spray'],\n",
       " ['yogurt', 'ham'],\n",
       " ['whole milk', 'grapes'],\n",
       " ['other vegetables', 'meat'],\n",
       " ['other vegetables', 'specialty bar'],\n",
       " ['soda', 'newspapers', 'UHT-milk', 'white bread'],\n",
       " ['citrus fruit', 'brown bread'],\n",
       " ['tropical fruit', 'sugar'],\n",
       " ['tropical fruit',\n",
       "  'pastry',\n",
       "  'condensed milk',\n",
       "  'chocolate marshmallow',\n",
       "  'rice'],\n",
       " ['coffee', 'shopping bags'],\n",
       " ['citrus fruit', 'bottled water'],\n",
       " ['root vegetables', 'frozen vegetables'],\n",
       " ['chicken', 'dishes'],\n",
       " ['rolls/buns', 'yogurt', 'oil'],\n",
       " ['pork', 'soda', 'canned vegetables'],\n",
       " ['whole milk', 'pip fruit'],\n",
       " ['rolls/buns', 'frozen vegetables', 'cling film/bags'],\n",
       " ['bottled beer', 'hygiene articles'],\n",
       " ['yogurt', 'soda'],\n",
       " ['rolls/buns', 'margarine'],\n",
       " ['condensed milk', 'shopping bags'],\n",
       " ['citrus fruit', 'popcorn'],\n",
       " ['sausage', 'pastry'],\n",
       " ['rolls/buns', 'root vegetables', 'margarine'],\n",
       " ['rolls/buns', 'whipped/sour cream'],\n",
       " ['root vegetables', 'pork', 'newspapers', 'napkins'],\n",
       " ['whole milk', 'misc. beverages', 'long life bakery product'],\n",
       " ['citrus fruit', 'soda'],\n",
       " ['soda', 'roll products '],\n",
       " ['rolls/buns', 'frankfurter', 'margarine', 'shopping bags'],\n",
       " ['other vegetables', 'butter', 'pastry', 'UHT-milk'],\n",
       " ['coffee', 'meat'],\n",
       " ['frankfurter', 'white bread'],\n",
       " ['liquor', 'domestic eggs'],\n",
       " ['specialty bar', 'soda', 'frozen vegetables'],\n",
       " ['frozen meals', 'grapes', 'flower (seeds)'],\n",
       " ['yogurt', 'brown bread', 'shopping bags', 'tea'],\n",
       " ['white wine', 'flower (seeds)'],\n",
       " ['specialty chocolate', 'cream cheese '],\n",
       " ['whole milk', 'baking powder'],\n",
       " ['soda', 'margarine'],\n",
       " ['tropical fruit', 'cream cheese '],\n",
       " ['yogurt', 'softener'],\n",
       " ['frankfurter', 'bottled water', 'root vegetables', 'dessert'],\n",
       " ['other vegetables',\n",
       "  'rolls/buns',\n",
       "  'shopping bags',\n",
       "  'salty snack',\n",
       "  'semi-finished bread'],\n",
       " ['whole milk', 'soda'],\n",
       " ['whole milk', 'bottled beer'],\n",
       " ['yogurt', 'pastry'],\n",
       " ['curd', 'domestic eggs'],\n",
       " ['coffee', 'shopping bags'],\n",
       " ['rolls/buns', 'sausage', 'rice'],\n",
       " ['whole milk', 'pork', 'napkins'],\n",
       " ['other vegetables', 'oil'],\n",
       " ['yogurt', 'brown bread', 'pastry'],\n",
       " ['newspapers', 'cream cheese '],\n",
       " ['butter', 'sausage', 'soda', 'dessert', 'shopping bags'],\n",
       " ['butter', 'hard cheese'],\n",
       " ['whole milk', 'other vegetables'],\n",
       " ['citrus fruit', 'flower (seeds)'],\n",
       " ['tropical fruit', 'butter milk', 'brown bread'],\n",
       " ['tropical fruit', 'whole milk'],\n",
       " ['rolls/buns', 'fruit/vegetable juice'],\n",
       " ['citrus fruit', 'herbs'],\n",
       " ['butter milk', 'root vegetables'],\n",
       " ['shopping bags', 'instant coffee'],\n",
       " ['tropical fruit', 'other vegetables'],\n",
       " ['other vegetables', 'beef'],\n",
       " ['canned beer', 'nut snack'],\n",
       " ['whole milk', 'other vegetables', 'sugar'],\n",
       " ['whole milk', 'root vegetables'],\n",
       " ['citrus fruit', 'napkins'],\n",
       " ['rolls/buns', 'butter milk'],\n",
       " ['rolls/buns', 'brown bread', 'canned beer'],\n",
       " ['tropical fruit', 'soft cheese'],\n",
       " ['tropical fruit', 'misc. beverages'],\n",
       " ['pork', 'pickled vegetables'],\n",
       " ['other vegetables', 'frankfurter', 'curd', 'photo/film', 'waffles'],\n",
       " ['pip fruit', 'other vegetables', 'cling film/bags'],\n",
       " ['whole milk', 'rolls/buns', 'soda'],\n",
       " ['tropical fruit', 'yogurt'],\n",
       " ['rolls/buns', 'cat food'],\n",
       " ['berries', 'white bread'],\n",
       " ['rolls/buns', 'soda'],\n",
       " ['chicken', 'brown bread'],\n",
       " ['other vegetables', 'napkins'],\n",
       " ['newspapers', 'soups'],\n",
       " ['soda', 'UHT-milk'],\n",
       " ['pork', 'soda'],\n",
       " ['pickled vegetables', 'oil'],\n",
       " ['whole milk', 'sugar', 'soda'],\n",
       " ['misc. beverages', 'spread cheese'],\n",
       " ['whole milk', 'meat'],\n",
       " ['pork', 'domestic eggs'],\n",
       " ['root vegetables', 'coffee'],\n",
       " ['canned beer', 'fish'],\n",
       " ['root vegetables', 'hard cheese', 'white bread'],\n",
       " ['chicken', 'domestic eggs', 'white bread'],\n",
       " ['soda', 'whipped/sour cream'],\n",
       " ['other vegetables', 'brown bread'],\n",
       " ['tropical fruit', 'root vegetables'],\n",
       " ['soda', 'bottled beer'],\n",
       " ['whole milk', 'bottled beer'],\n",
       " ['bottled water', 'shopping bags', 'waffles'],\n",
       " ['pork', 'margarine'],\n",
       " ['pip fruit', 'root vegetables', 'frozen vegetables', 'cereals'],\n",
       " ['yogurt', 'soda'],\n",
       " ['other vegetables', 'berries', 'candy', 'sliced cheese'],\n",
       " ['curd', 'soft cheese'],\n",
       " ['whole milk', 'soda'],\n",
       " ['frozen meals', 'detergent'],\n",
       " ['specialty chocolate', 'canned fish'],\n",
       " ['other vegetables', 'soda'],\n",
       " ['tropical fruit', 'pork'],\n",
       " ['yogurt', 'pork'],\n",
       " ['whole milk',\n",
       "  'yogurt',\n",
       "  'sausage',\n",
       "  'dog food',\n",
       "  'shopping bags',\n",
       "  'sliced cheese',\n",
       "  'baking powder',\n",
       "  'white bread'],\n",
       " ['other vegetables', 'soda'],\n",
       " ['root vegetables', 'soda', 'long life bakery product'],\n",
       " ['chicken', 'yogurt', 'soda', 'bottled beer'],\n",
       " ['yogurt', 'frozen vegetables', 'seasonal products'],\n",
       " ['other vegetables', 'fruit/vegetable juice'],\n",
       " ['rolls/buns', 'bottled water', 'UHT-milk', 'long life bakery product'],\n",
       " ['canned beer', 'sugar'],\n",
       " ['pip fruit', 'berries'],\n",
       " ['curd', 'soft cheese'],\n",
       " ['pip fruit', 'pastry', 'berries'],\n",
       " ['whole milk', 'rolls/buns'],\n",
       " ['pork', 'domestic eggs'],\n",
       " ['frozen meals', 'soda'],\n",
       " ['curd cheese', 'soda'],\n",
       " ['whole milk', 'grapes'],\n",
       " ['whole milk', 'bottled beer', 'chewing gum', 'ready soups'],\n",
       " ['butter', 'ice cream'],\n",
       " ['chicken', 'cake bar'],\n",
       " ['frankfurter', 'mustard', 'soft cheese'],\n",
       " ['tropical fruit', 'rolls/buns', 'canned beer', 'dish cleaner'],\n",
       " ['other vegetables', 'root vegetables', 'frozen vegetables'],\n",
       " ['rolls/buns', 'female sanitary products'],\n",
       " ['whole milk', 'citrus fruit', 'sausage', 'canned beer'],\n",
       " ['whole milk', 'yogurt', 'sausage', 'pet care'],\n",
       " ['whole milk', 'house keeping products'],\n",
       " ['frankfurter', 'brandy'],\n",
       " ['other vegetables', 'berries'],\n",
       " ['tropical fruit', 'whole milk', 'UHT-milk', 'napkins'],\n",
       " ['beef', 'frozen meals', 'curd'],\n",
       " ['other vegetables', 'rolls/buns', 'butter', 'root vegetables'],\n",
       " ['whole milk', 'bottled water'],\n",
       " ['citrus fruit', 'yogurt'],\n",
       " ['whole milk', 'cream cheese '],\n",
       " ['domestic eggs', 'frozen vegetables'],\n",
       " ['citrus fruit', 'soda'],\n",
       " ['citrus fruit', 'light bulbs'],\n",
       " ['whole milk', 'yogurt'],\n",
       " ['butter', 'chewing gum'],\n",
       " ['whole milk', 'root vegetables'],\n",
       " ['tropical fruit', 'pip fruit', 'mustard'],\n",
       " ['beef', 'coffee', 'bottled beer', 'domestic eggs'],\n",
       " ['frozen meals', 'shopping bags'],\n",
       " ['whole milk', 'other vegetables', 'yogurt', 'spread cheese'],\n",
       " ['beef', 'newspapers', 'bottled beer'],\n",
       " ['coffee', 'misc. beverages'],\n",
       " ['citrus fruit', 'canned beer'],\n",
       " ['yogurt', 'white bread'],\n",
       " ['red/blush wine', 'salty snack'],\n",
       " ['fruit/vegetable juice', 'canned beer', 'berries', 'male cosmetics'],\n",
       " ['bottled water', 'sausage'],\n",
       " ['whole milk', 'citrus fruit', 'beef', 'bottled water', 'newspapers'],\n",
       " ['frozen vegetables', 'white bread'],\n",
       " ['other vegetables', 'sliced cheese'],\n",
       " ['whole milk', 'root vegetables', 'canned vegetables'],\n",
       " ['beef', 'house keeping products'],\n",
       " ['whole milk', 'frozen vegetables'],\n",
       " ['packaged fruit/vegetables', 'chocolate', 'pork'],\n",
       " ['curd', 'spices'],\n",
       " ['tropical fruit', 'bottled water'],\n",
       " ['brown bread', 'root vegetables'],\n",
       " ['other vegetables', 'rolls/buns'],\n",
       " ['coffee', 'domestic eggs'],\n",
       " ['frankfurter', 'frozen vegetables'],\n",
       " ['whole milk', 'chocolate', 'bottled beer', 'UHT-milk'],\n",
       " ['herbs', 'long life bakery product', 'sweet spreads'],\n",
       " ['soda', 'detergent'],\n",
       " ['soda', 'margarine'],\n",
       " ['bottled water', 'liquor'],\n",
       " ['cleaner', 'napkins'],\n",
       " ['other vegetables', 'rolls/buns'],\n",
       " ['napkins'],\n",
       " ['bottled beer', 'cake bar'],\n",
       " ['whole milk', 'other vegetables', 'white bread', 'waffles'],\n",
       " ['newspapers', 'finished products', 'whipped/sour cream'],\n",
       " ['pip fruit', 'chicken'],\n",
       " ['chocolate', 'shopping bags'],\n",
       " ['citrus fruit', 'whipped/sour cream'],\n",
       " ['whole milk',\n",
       "  'rolls/buns',\n",
       "  'bottled water',\n",
       "  'pork',\n",
       "  'turkey',\n",
       "  'soda',\n",
       "  'dog food'],\n",
       " ['pip fruit', 'whipped/sour cream'],\n",
       " ['whole milk', 'sparkling wine'],\n",
       " ['whole milk', 'canned beer'],\n",
       " ['soda', 'whipped/sour cream'],\n",
       " ['other vegetables', 'soda'],\n",
       " ['brown bread', 'pasta'],\n",
       " ['bottled water', 'onions'],\n",
       " ['beverages', 'specialty chocolate'],\n",
       " ['rolls/buns', 'fruit/vegetable juice', 'bottled beer'],\n",
       " ['specialty bar', 'newspapers'],\n",
       " ['rolls/buns', 'margarine'],\n",
       " ['rolls/buns', 'hard cheese'],\n",
       " ['rolls/buns', 'fruit/vegetable juice', 'soft cheese'],\n",
       " ['pickled vegetables', 'baking powder'],\n",
       " ['pip fruit', 'whipped/sour cream'],\n",
       " ['citrus fruit', 'syrup'],\n",
       " ['root vegetables', 'cling film/bags'],\n",
       " ['other vegetables', 'hamburger meat'],\n",
       " ['whole milk',\n",
       "  'citrus fruit',\n",
       "  'yogurt',\n",
       "  'soda',\n",
       "  'white wine',\n",
       "  'shopping bags'],\n",
       " ['pasta', 'oil'],\n",
       " ['citrus fruit', 'brown bread', 'specialty chocolate'],\n",
       " ['beef', 'butter', 'chocolate', 'bottled water', 'yogurt', 'berries'],\n",
       " ['bottled water', 'sugar', 'hard cheese'],\n",
       " ['whole milk', 'soda'],\n",
       " ['tropical fruit', 'other vegetables'],\n",
       " ['other vegetables', 'pastry'],\n",
       " ['curd cheese', 'frozen potato products', 'domestic eggs'],\n",
       " ['tropical fruit', 'whole milk'],\n",
       " ['rolls/buns', 'brown bread', 'canned beer', 'dessert'],\n",
       " ['tropical fruit', 'shopping bags'],\n",
       " ['chocolate', 'bottled water', 'jam'],\n",
       " ['other vegetables', 'pork', 'ice cream', 'salt'],\n",
       " ['coffee', 'oil'],\n",
       " ['soda', 'cereals'],\n",
       " ['chicken', 'frozen meals', 'napkins'],\n",
       " ['whole milk', 'frozen potato products'],\n",
       " ['citrus fruit', 'white bread'],\n",
       " ['whole milk', 'bottled beer', 'oil', 'dishes'],\n",
       " ['sausage', 'root vegetables'],\n",
       " ['white bread', 'mayonnaise'],\n",
       " ['whole milk', 'hamburger meat', 'ice cream', 'shopping bags', 'soft cheese'],\n",
       " ['candy', 'baking powder', 'canned fish'],\n",
       " ['butter', 'mustard'],\n",
       " ['beef', 'butter milk'],\n",
       " ['pip fruit', 'hamburger meat'],\n",
       " ['rolls/buns', 'red/blush wine'],\n",
       " ['sausage', 'domestic eggs'],\n",
       " ['other vegetables',\n",
       "  'butter',\n",
       "  'sausage',\n",
       "  'brown bread',\n",
       "  'canned beer',\n",
       "  'bottled beer',\n",
       "  'dessert',\n",
       "  'cream cheese '],\n",
       " ['butter',\n",
       "  'brown bread',\n",
       "  'root vegetables',\n",
       "  'pastry',\n",
       "  'ham',\n",
       "  'spread cheese'],\n",
       " ['root vegetables', 'sweet spreads'],\n",
       " ['whole milk', 'beef', 'newspapers'],\n",
       " ['whole milk', 'beef', 'frozen meals'],\n",
       " ['pip fruit', 'chocolate', 'specialty bar'],\n",
       " ['frankfurter', 'canned beer'],\n",
       " ['ice cream', 'chewing gum'],\n",
       " ['butter', 'soda'],\n",
       " ['soda', 'detergent'],\n",
       " ['domestic eggs', 'white bread'],\n",
       " ['whole milk', 'other vegetables', 'canned fruit'],\n",
       " ['soda'],\n",
       " ['citrus fruit', 'domestic eggs'],\n",
       " ['other vegetables', 'onions', 'shopping bags'],\n",
       " ['butter milk', 'bottled water', 'cleaner'],\n",
       " ['whole milk', 'rolls/buns', 'soda'],\n",
       " ['other vegetables', 'bottled beer'],\n",
       " ['bottled beer', 'sliced cheese'],\n",
       " ['tropical fruit', 'dessert'],\n",
       " ['specialty chocolate', 'whipped/sour cream'],\n",
       " ['root vegetables'],\n",
       " ['pip fruit', 'rolls/buns', 'soda'],\n",
       " ['bottled water', 'soda'],\n",
       " ['hamburger meat', 'bottled beer'],\n",
       " ['other vegetables', 'meat spreads'],\n",
       " ['root vegetables', 'canned beer'],\n",
       " ['sparkling wine', 'waffles'],\n",
       " ['other vegetables', 'citrus fruit', 'hamburger meat', 'specialty chocolate'],\n",
       " ['berries', 'white bread'],\n",
       " ['butter', 'fruit/vegetable juice', 'seasonal products'],\n",
       " ['brown bread', 'pastry'],\n",
       " ['citrus fruit', 'root vegetables'],\n",
       " ['soda', 'shopping bags'],\n",
       " ['butter', 'pastry', 'coffee', 'soda'],\n",
       " ['whole milk', 'bottled water', 'honey'],\n",
       " ['pip fruit', 'napkins'],\n",
       " ['finished products', 'liquor'],\n",
       " ['butter', 'shopping bags'],\n",
       " ['whole milk', 'soft cheese'],\n",
       " ['newspapers', 'domestic eggs'],\n",
       " ['pip fruit', 'shopping bags'],\n",
       " ['rolls/buns', 'bottled beer', 'candy', 'mayonnaise'],\n",
       " ['whole milk', 'brown bread'],\n",
       " ['beef', 'whipped/sour cream'],\n",
       " ['chocolate', 'sausage'],\n",
       " ['pip fruit', 'waffles'],\n",
       " ['citrus fruit',\n",
       "  'packaged fruit/vegetables',\n",
       "  'yogurt',\n",
       "  'root vegetables',\n",
       "  'misc. beverages',\n",
       "  'whipped/sour cream',\n",
       "  'sliced cheese'],\n",
       " ['citrus fruit', 'yogurt'],\n",
       " ['citrus fruit', 'napkins'],\n",
       " ['specialty chocolate', 'frozen fish'],\n",
       " ['other vegetables', 'newspapers', 'specialty chocolate'],\n",
       " ['sausage', 'beverages'],\n",
       " ['bottled water', 'flour', 'sugar', 'salty snack', 'canned vegetables'],\n",
       " ['whole milk', 'rolls/buns', 'popcorn', 'white bread'],\n",
       " ['rolls/buns', 'grapes'],\n",
       " ['citrus fruit', 'root vegetables'],\n",
       " ['rolls/buns', 'dessert', 'candy', 'canned fish'],\n",
       " ['brown bread', 'detergent'],\n",
       " ['whole milk', 'candles'],\n",
       " ['coffee', 'misc. beverages'],\n",
       " ['coffee', 'oil'],\n",
       " ['rolls/buns', 'yogurt'],\n",
       " ['root vegetables', 'curd cheese', 'soda', 'semi-finished bread'],\n",
       " ['yogurt', 'roll products '],\n",
       " ['chicken', 'root vegetables', 'grapes', 'bottled beer'],\n",
       " ['chocolate', 'softener'],\n",
       " ['soda', 'beverages'],\n",
       " ['yogurt', 'root vegetables'],\n",
       " ['rolls/buns', 'pastry'],\n",
       " ['pip fruit', 'sliced cheese'],\n",
       " ['whole milk', 'waffles'],\n",
       " ['bottled water', 'curd', 'white bread', 'ready soups'],\n",
       " ['whole milk', 'yogurt', 'chewing gum'],\n",
       " ['whole milk', 'oil'],\n",
       " ['sausage', 'cat food'],\n",
       " ['tropical fruit', 'hygiene articles', 'candles'],\n",
       " ['whole milk',\n",
       "  'other vegetables',\n",
       "  'rolls/buns',\n",
       "  'sausage',\n",
       "  'pastry',\n",
       "  'sugar',\n",
       "  'soda',\n",
       "  'softener'],\n",
       " ['whole milk', 'yogurt', 'semi-finished bread'],\n",
       " ['whole milk', 'frankfurter'],\n",
       " ['ham', 'pickled vegetables', 'shopping bags'],\n",
       " ['bottled water', 'soft cheese'],\n",
       " ['tropical fruit', 'butter milk'],\n",
       " ['rolls/buns', 'frozen meals'],\n",
       " ['misc. beverages', 'shopping bags'],\n",
       " ['beef', 'yogurt', 'pork'],\n",
       " ['sausage', 'dessert'],\n",
       " ['yogurt', 'shopping bags'],\n",
       " ['fruit/vegetable juice', 'specialty cheese', 'long life bakery product'],\n",
       " ['brown bread', 'ham'],\n",
       " ['butter', 'margarine'],\n",
       " ['frankfurter', 'butter', 'specialty bar', 'yogurt'],\n",
       " ['finished products', 'domestic eggs'],\n",
       " ['whole milk', 'specialty bar'],\n",
       " ['other vegetables', 'UHT-milk'],\n",
       " ['tropical fruit', 'rolls/buns', 'specialty bar', 'salty snack'],\n",
       " ['tropical fruit', 'salt'],\n",
       " ['tropical fruit', 'cat food'],\n",
       " ['beef', 'domestic eggs'],\n",
       " ['other vegetables', 'root vegetables'],\n",
       " ['beef',\n",
       "  'chicken',\n",
       "  'brown bread',\n",
       "  'pork',\n",
       "  'newspapers',\n",
       "  'dessert',\n",
       "  'margarine'],\n",
       " ['fruit/vegetable juice', 'domestic eggs'],\n",
       " ['citrus fruit', 'bottled beer'],\n",
       " ['waffles', 'syrup'],\n",
       " ['pip fruit', 'chicken', 'yogurt', 'meat'],\n",
       " ['pip fruit', 'other vegetables', 'sliced cheese', 'semi-finished bread'],\n",
       " ['yogurt', 'sauces'],\n",
       " ['root vegetables', 'grapes', 'shopping bags'],\n",
       " ['turkey', 'onions'],\n",
       " ['citrus fruit', 'long life bakery product'],\n",
       " ['brown bread', 'canned beer'],\n",
       " ['tropical fruit',\n",
       "  'whole milk',\n",
       "  'bottled water',\n",
       "  'root vegetables',\n",
       "  'pastry',\n",
       "  'soda',\n",
       "  'napkins',\n",
       "  'specialty fat'],\n",
       " ['citrus fruit', 'bottled water', 'grapes'],\n",
       " ['whole milk', 'pastry', 'dog food'],\n",
       " ['whole milk', 'sugar'],\n",
       " ['whole milk', 'butter', 'yogurt', 'sausage'],\n",
       " ['pork', 'frozen meals'],\n",
       " ['citrus fruit'],\n",
       " ['other vegetables', 'fruit/vegetable juice'],\n",
       " ['tropical fruit', 'rolls/buns', 'frozen fish'],\n",
       " ['curd', 'meat', 'cling film/bags'],\n",
       " ['tropical fruit', 'whole milk', 'meat', 'candles'],\n",
       " ['brown bread', 'canned beer'],\n",
       " ['red/blush wine', 'instant coffee'],\n",
       " ['chocolate', 'canned beer', 'margarine'],\n",
       " ['pastry', 'waffles'],\n",
       " ['rolls/buns',\n",
       "  'butter milk',\n",
       "  'specialty chocolate',\n",
       "  'onions',\n",
       "  'napkins',\n",
       "  'dental care',\n",
       "  'rice'],\n",
       " ['sausage', 'pasta'],\n",
       " ['frankfurter', 'ice cream'],\n",
       " ['bottled water', 'sugar'],\n",
       " ['canned beer', 'coffee'],\n",
       " ['condensed milk', 'onions'],\n",
       " ['citrus fruit', 'butter', 'UHT-milk'],\n",
       " ['citrus fruit', 'yogurt', 'semi-finished bread'],\n",
       " ['packaged fruit/vegetables', 'flour'],\n",
       " ['ham', 'rum'],\n",
       " ['sausage', 'specialty chocolate'],\n",
       " ['UHT-milk', 'cooking chocolate'],\n",
       " ['rolls/buns', 'pastry'],\n",
       " ['whole milk', 'curd'],\n",
       " ['white bread', 'jam'],\n",
       " ['brown bread', 'photo/film'],\n",
       " ['whole milk', 'flour', 'detergent', 'shopping bags'],\n",
       " ['other vegetables', 'bottled beer', 'dessert', 'sliced cheese'],\n",
       " ['butter milk', 'soda', 'seasonal products'],\n",
       " ['citrus fruit',\n",
       "  'beef',\n",
       "  'specialty bar',\n",
       "  'soda',\n",
       "  'domestic eggs',\n",
       "  'white bread',\n",
       "  'vinegar',\n",
       "  'long life bakery product'],\n",
       " ['pastry', 'hard cheese'],\n",
       " ['yogurt', 'whipped/sour cream'],\n",
       " ['beverages', 'bottled beer', 'photo/film'],\n",
       " ['beef', 'frozen potato products', 'white bread'],\n",
       " ['ham', 'newspapers', 'whipped/sour cream'],\n",
       " ['brown bread', 'mustard'],\n",
       " ['whole milk', 'other vegetables'],\n",
       " ['canned beer', 'sliced cheese'],\n",
       " ['canned beer', 'soda'],\n",
       " ['ham', 'domestic eggs'],\n",
       " ['frankfurter', 'pastry', 'misc. beverages'],\n",
       " ['butter milk', 'soda'],\n",
       " ['sausage', 'root vegetables'],\n",
       " ['white wine', 'photo/film', 'whipped/sour cream'],\n",
       " ['soda', 'hard cheese'],\n",
       " ['ice cream', 'onions'],\n",
       " ['pork', 'flour', 'sliced cheese'],\n",
       " ['detergent', 'grapes'],\n",
       " ['yogurt', 'margarine'],\n",
       " ['butter', 'bottled water', 'grapes'],\n",
       " ['canned beer', 'pasta'],\n",
       " ['rolls/buns', 'bottled beer'],\n",
       " ['curd', 'UHT-milk'],\n",
       " ['shopping bags', 'whipped/sour cream'],\n",
       " ['other vegetables', 'butter milk'],\n",
       " ['rolls/buns',\n",
       "  'canned beer',\n",
       "  'soda',\n",
       "  'margarine',\n",
       "  'whipped/sour cream',\n",
       "  'salty snack',\n",
       "  'waffles'],\n",
       " ['other vegetables', 'rolls/buns'],\n",
       " ['whole milk', 'chicken'],\n",
       " ['pastry', 'curd'],\n",
       " ['yogurt', 'coffee', 'shopping bags'],\n",
       " ['bottled water', 'root vegetables', 'margarine'],\n",
       " ['root vegetables', 'salty snack'],\n",
       " ['sausage', 'bottled beer', 'spread cheese'],\n",
       " ['bottled water', 'soda'],\n",
       " ['other vegetables', 'condensed milk'],\n",
       " ['processed cheese', 'dog food'],\n",
       " ['canned beer', 'bottled beer'],\n",
       " ['other vegetables', 'curd', 'abrasive cleaner'],\n",
       " ['butter', 'roll products '],\n",
       " ['shopping bags', 'waffles'],\n",
       " ['whole milk', 'cling film/bags'],\n",
       " ['pip fruit', 'newspapers', 'dishes'],\n",
       " ['rolls/buns', 'hard cheese'],\n",
       " ['tropical fruit',\n",
       "  'whole milk',\n",
       "  'other vegetables',\n",
       "  'ham',\n",
       "  'sugar',\n",
       "  'soda',\n",
       "  'white bread'],\n",
       " ['other vegetables', 'citrus fruit'],\n",
       " ['sugar', 'beverages'],\n",
       " ['misc. beverages', 'cleaner'],\n",
       " ['other vegetables', 'pork', 'cream cheese '],\n",
       " ['butter milk', 'hard cheese'],\n",
       " ['frankfurter', 'margarine'],\n",
       " ['yogurt', 'whipped/sour cream'],\n",
       " ['waffles', 'roll products '],\n",
       " ['soda', 'meat'],\n",
       " ['sausage', 'processed cheese'],\n",
       " ['whole milk', 'condensed milk'],\n",
       " ['bottled water', 'yogurt', 'finished products', 'bottled beer'],\n",
       " ['tropical fruit', 'brown bread'],\n",
       " ['whole milk',\n",
       "  'other vegetables',\n",
       "  'rolls/buns',\n",
       "  'sausage',\n",
       "  'oil',\n",
       "  'frozen vegetables',\n",
       "  'baking powder',\n",
       "  'frozen fish'],\n",
       " ['hard cheese', 'onions'],\n",
       " ['soda', 'shopping bags'],\n",
       " ['margarine', 'oil'],\n",
       " ['whole milk', 'specialty cheese'],\n",
       " ['soda', 'pasta', 'specialty chocolate', 'long life bakery product'],\n",
       " ['other vegetables', 'pasta', 'meat'],\n",
       " ['other vegetables', 'citrus fruit'],\n",
       " ['bottled water', 'sausage', 'bottled beer', 'dog food'],\n",
       " ['sugar', 'pasta', 'beverages', 'domestic eggs'],\n",
       " ['tropical fruit', 'shopping bags'],\n",
       " ['butter', 'chocolate'],\n",
       " ['sausage', 'frozen meals'],\n",
       " ['soda', 'cling film/bags'],\n",
       " ['UHT-milk', 'soft cheese'],\n",
       " ['soda', 'candy'],\n",
       " ['rolls/buns', 'bottled water', 'shopping bags', 'salty snack'],\n",
       " ['rolls/buns', 'dessert', 'condensed milk', 'shopping bags'],\n",
       " ['turkey', 'shopping bags'],\n",
       " ['tropical fruit', 'rolls/buns'],\n",
       " ['onions', 'soft cheese'],\n",
       " ['other vegetables', 'grapes'],\n",
       " ['soda', 'processed cheese', 'shopping bags', 'canned fruit'],\n",
       " ['coffee', 'white bread'],\n",
       " ['yogurt', 'canned beer'],\n",
       " ['yogurt', 'whipped/sour cream'],\n",
       " ['tropical fruit', 'berries'],\n",
       " ['other vegetables', 'UHT-milk'],\n",
       " ['other vegetables', 'frozen vegetables'],\n",
       " ['butter', 'candy'],\n",
       " ['chicken', 'butter'],\n",
       " ['citrus fruit', 'skin care'],\n",
       " ['root vegetables', 'frozen vegetables'],\n",
       " ['tropical fruit', 'pip fruit'],\n",
       " ['whole milk', 'frankfurter'],\n",
       " ['packaged fruit/vegetables', 'dessert'],\n",
       " ['margarine'],\n",
       " ['beef', 'curd'],\n",
       " ['citrus fruit', 'coffee'],\n",
       " ['frozen meals', 'soda', 'bottled beer'],\n",
       " ['other vegetables', 'chewing gum'],\n",
       " ['fruit/vegetable juice', 'canned beer', 'dessert'],\n",
       " ['chicken', 'pastry'],\n",
       " ['whole milk', 'pot plants', 'pork', 'turkey', 'soda', 'dishes'],\n",
       " ['other vegetables', 'grapes'],\n",
       " ['pastry', 'liqueur'],\n",
       " ['sausage', 'processed cheese', 'baking powder', 'specialty cheese'],\n",
       " ['ham', 'napkins'],\n",
       " ['specialty bar', 'specialty chocolate', 'white wine'],\n",
       " ['red/blush wine', 'soda'],\n",
       " ['sausage', 'coffee'],\n",
       " ['berries', 'domestic eggs'],\n",
       " ['other vegetables', 'sugar'],\n",
       " ['coffee', 'tea'],\n",
       " ['butter', 'herbs', 'UHT-milk', 'oil'],\n",
       " ['rolls/buns', 'yogurt'],\n",
       " ['cream cheese ', 'frozen dessert'],\n",
       " ['yogurt', 'coffee'],\n",
       " ['rolls/buns',\n",
       "  'fruit/vegetable juice',\n",
       "  'whipped/sour cream',\n",
       "  'frozen vegetables'],\n",
       " ['hamburger meat', 'coffee'],\n",
       " ['whole milk', 'shopping bags'],\n",
       " ['whole milk', 'ice cream'],\n",
       " ['sausage', 'grapes', 'sliced cheese', 'napkins'],\n",
       " ['fruit/vegetable juice', 'berries'],\n",
       " ['root vegetables', 'pork'],\n",
       " ['pip fruit', 'shopping bags'],\n",
       " ['sausage', 'curd'],\n",
       " ['whole milk', 'domestic eggs', 'canned vegetables', 'flower (seeds)'],\n",
       " ['rolls/buns', 'flour', 'hard cheese'],\n",
       " ['sugar', 'frozen meals', 'organic sausage'],\n",
       " ['whole milk', 'pickled vegetables', 'onions'],\n",
       " ['other vegetables', 'citrus fruit'],\n",
       " ['frozen meals', 'bottled beer'],\n",
       " ['tropical fruit', 'yogurt', 'soda', 'semi-finished bread'],\n",
       " ['tropical fruit', 'butter', 'white bread'],\n",
       " ['tropical fruit', 'specialty bar'],\n",
       " ['bottled water', 'pastry'],\n",
       " ['sugar', 'curd'],\n",
       " ['tropical fruit', 'other vegetables', 'sausage', 'mayonnaise'],\n",
       " ['whole milk', 'other vegetables', 'soda'],\n",
       " ['brown bread', 'pork'],\n",
       " ['root vegetables', 'UHT-milk', 'canned fish', 'waffles'],\n",
       " ['pip fruit',\n",
       "  'other vegetables',\n",
       "  'citrus fruit',\n",
       "  'chicken',\n",
       "  'pastry',\n",
       "  'curd',\n",
       "  'specialty chocolate',\n",
       "  'cream cheese '],\n",
       " ['yogurt', 'pork'],\n",
       " ['other vegetables', 'hamburger meat', 'domestic eggs'],\n",
       " ['tropical fruit', 'red/blush wine', 'shopping bags'],\n",
       " ['other vegetables', 'sliced cheese'],\n",
       " ['whole milk', 'butter'],\n",
       " ['oil', 'canned fish'],\n",
       " ['whole milk', 'misc. beverages'],\n",
       " ['white wine', 'sauces'],\n",
       " ['other vegetables', 'brown bread', 'margarine'],\n",
       " ['red/blush wine', 'frozen meals', 'canned fruit'],\n",
       " ['whole milk', 'other vegetables', 'butter milk', 'liquor'],\n",
       " ['rolls/buns', 'seasonal products'],\n",
       " ['tropical fruit', 'root vegetables'],\n",
       " ['whole milk', 'other vegetables', 'softener'],\n",
       " ['citrus fruit', 'cereals'],\n",
       " ['flower soil/fertilizer', 'cake bar'],\n",
       " ['pork', 'napkins'],\n",
       " ['specialty bar', 'cleaner'],\n",
       " ['whole milk', 'artif. sweetener'],\n",
       " ['pork', 'pastry'],\n",
       " ['other vegetables', 'coffee', 'specialty cheese'],\n",
       " ['rolls/buns', 'dessert'],\n",
       " ['cream cheese ', 'tidbits'],\n",
       " ['curd', 'hygiene articles'],\n",
       " ['rolls/buns', 'dental care'],\n",
       " ['butter', 'root vegetables', 'dessert'],\n",
       " ['citrus fruit', 'pastry'],\n",
       " ['citrus fruit', 'salt'],\n",
       " ['whole milk', 'other vegetables'],\n",
       " ['sausage', 'onions', 'mustard'],\n",
       " ['butter milk', 'frozen potato products', 'domestic eggs', 'shopping bags'],\n",
       " ['specialty chocolate', 'white bread'],\n",
       " ['butter', 'ice cream'],\n",
       " ['dessert', 'house keeping products'],\n",
       " ['condensed milk', 'hard cheese'],\n",
       " ['yogurt', 'hard cheese'],\n",
       " ['whole milk', 'rolls/buns', 'sausage', 'bottled beer'],\n",
       " ['whole milk', 'cream cheese ', 'semi-finished bread'],\n",
       " ['rolls/buns', 'sausage'],\n",
       " ['frankfurter', 'shopping bags'],\n",
       " ['whole milk',\n",
       "  'pot plants',\n",
       "  'yogurt',\n",
       "  'dessert',\n",
       "  'photo/film',\n",
       "  'white bread'],\n",
       " ...]"
      ]
     },
     "execution_count": 58,
     "metadata": {},
     "output_type": "execute_result"
    }
   ],
   "source": [
    "newdata"
   ]
  },
  {
   "cell_type": "markdown",
   "metadata": {
    "id": "l1aSIaL2IWZw"
   },
   "source": [
    "# Aproiori Implementation"
   ]
  },
  {
   "cell_type": "code",
   "execution_count": 51,
   "metadata": {
    "executionInfo": {
     "elapsed": 362,
     "status": "ok",
     "timestamp": 1631116919922,
     "user": {
      "displayName": "Sahil Rahman",
      "photoUrl": "https://lh3.googleusercontent.com/a-/AOh14GiJ8lzvw0EAvZyy3OveF6J53a3ecWuQmgHRsF6n6D4=s64",
      "userId": "17212050139887820689"
     },
     "user_tz": -330
    },
    "id": "sk9j6vtchOfY"
   },
   "outputs": [],
   "source": [
    "association = apriori(newdata, \n",
    "                      min_support=0.0003,\n",
    "                      min_confidence=0.05,\n",
    "                      min_lift=3,\n",
    "                      max_length=2)\n",
    "\n",
    "result = list(association)"
   ]
  },
  {
   "cell_type": "code",
   "execution_count": 52,
   "metadata": {
    "colab": {
     "base_uri": "https://localhost:8080/"
    },
    "executionInfo": {
     "elapsed": 380,
     "status": "ok",
     "timestamp": 1631117085907,
     "user": {
      "displayName": "Sahil Rahman",
      "photoUrl": "https://lh3.googleusercontent.com/a-/AOh14GiJ8lzvw0EAvZyy3OveF6J53a3ecWuQmgHRsF6n6D4=s64",
      "userId": "17212050139887820689"
     },
     "user_tz": -330
    },
    "id": "U8aqrGfPhOjI",
    "outputId": "0cbf3e2e-ec0e-442c-ab2a-934ba5b63c0a"
   },
   "outputs": [
    {
     "data": {
      "text/plain": [
       "RelationRecord(items=frozenset({'seasonal products', 'soups'}), support=0.0003341575887188398, ordered_statistics=[OrderedStatistic(items_base=frozenset({'soups'}), items_add=frozenset({'seasonal products'}), confidence=0.10416666666666667, lift=14.704205974842768)])"
      ]
     },
     "execution_count": 52,
     "metadata": {},
     "output_type": "execute_result"
    }
   ],
   "source": [
    "result[5]"
   ]
  },
  {
   "cell_type": "code",
   "execution_count": 53,
   "metadata": {
    "colab": {
     "base_uri": "https://localhost:8080/"
    },
    "executionInfo": {
     "elapsed": 577,
     "status": "ok",
     "timestamp": 1631117395021,
     "user": {
      "displayName": "Sahil Rahman",
      "photoUrl": "https://lh3.googleusercontent.com/a-/AOh14GiJ8lzvw0EAvZyy3OveF6J53a3ecWuQmgHRsF6n6D4=s64",
      "userId": "17212050139887820689"
     },
     "user_tz": -330
    },
    "id": "2d0DAftYhOlr",
    "outputId": "8aa2df99-5c04-452f-fbb3-22fadbc38cf0"
   },
   "outputs": [
    {
     "name": "stdout",
     "output_type": "stream",
     "text": [
      "frozenset({'seasonal products', 'soups'})\n",
      "0.0003341575887188398\n",
      "[OrderedStatistic(items_base=frozenset({'soups'}), items_add=frozenset({'seasonal products'}), confidence=0.10416666666666667, lift=14.704205974842768)]\n"
     ]
    }
   ],
   "source": [
    "for i in result[5]:\n",
    "  print(i)"
   ]
  },
  {
   "cell_type": "markdown",
   "metadata": {},
   "source": [
    "- Items: soups -> seasonal products\n",
    "- Support: 0.0003341575887188398 (indicating the proportion of transactions that contain both soups and seasonal products)\n",
    "- Confidence: 0.10416666666666667 (indicating the probability of purchasing seasonal products given that soups are purchased)\n",
    "- Lift: 14.704205974842768 (indicating how much more likely seasonal products are purchased when soups are purchased, compared to when they are purchased independently)"
   ]
  },
  {
   "cell_type": "code",
   "execution_count": 54,
   "metadata": {
    "colab": {
     "base_uri": "https://localhost:8080/"
    },
    "executionInfo": {
     "elapsed": 595,
     "status": "ok",
     "timestamp": 1631117404810,
     "user": {
      "displayName": "Sahil Rahman",
      "photoUrl": "https://lh3.googleusercontent.com/a-/AOh14GiJ8lzvw0EAvZyy3OveF6J53a3ecWuQmgHRsF6n6D4=s64",
      "userId": "17212050139887820689"
     },
     "user_tz": -330
    },
    "id": "lWycqaEEhOoJ",
    "outputId": "1252ff62-3fa1-4cac-9228-499e58e97289"
   },
   "outputs": [
    {
     "data": {
      "text/plain": [
       "apyori.RelationRecord"
      ]
     },
     "execution_count": 54,
     "metadata": {},
     "output_type": "execute_result"
    }
   ],
   "source": [
    "type(result[5])"
   ]
  },
  {
   "cell_type": "code",
   "execution_count": 61,
   "metadata": {},
   "outputs": [
    {
     "name": "stdout",
     "output_type": "stream",
     "text": [
      "[('soups', 'seasonal products')]\n",
      "[0.10416666666666667]\n",
      "[14.704205974842768]\n"
     ]
    },
    {
     "data": {
      "image/png": "[encoded data removed]",
      "text/plain": [
       "<Figure size 800x600 with 1 Axes>"
      ]
     },
     "metadata": {},
     "output_type": "display_data"
    }
   ],
   "source": [
    "import matplotlib.pyplot as plt\n",
    "\n",
    "# Sample association rule\n",
    "association_rule = [('soups', 'seasonal products', 0.10416666666666667, 14.704205974842768)]\n",
    "\n",
    "# Extracting support and confidence values\n",
    "items = [(rule[0], rule[1]) for rule in association_rule]\n",
    "support = [rule[2] for rule in association_rule]\n",
    "confidence = [rule[3] for rule in association_rule]\n",
    "\n",
    "print(items)\n",
    "print(support)\n",
    "print(confidence)\n",
    "# Plotting\n",
    "plt.figure(figsize=(8, 6))\n",
    "plt.scatter(support, confidence, alpha=0.5)\n",
    "plt.xlabel('Support')\n",
    "plt.ylabel('Confidence')\n",
    "plt.title('Association Rule: soups -> seasonal products')\n",
    "plt.grid(True)\n",
    "plt.show()\n"
   ]
  },
  {
   "cell_type": "markdown",
   "metadata": {},
   "source": [
    "* The conclusion from this association rule is that there is a strong positive association between purchasing soups and purchasing seasonal products. \n",
    "\n",
    "* Specifically, when customers buy soups, they are 10.42% likely to also purchase seasonal products, and this likelihood is 14.70 times higher than what would be expected if the purchase of soups and seasonal products were independent of each other."
   ]
  },
  {
   "cell_type": "code",
   "execution_count": 63,
   "metadata": {},
   "outputs": [
    {
     "data": {
      "image/png": "[encoded data removed]",
      "text/plain": [
       "<Figure size 1000x600 with 1 Axes>"
      ]
     },
     "metadata": {},
     "output_type": "display_data"
    }
   ],
   "source": [
    "import matplotlib.pyplot as plt\n",
    "\n",
    "# Sample association rules\n",
    "association_rules = [\n",
    "    ('soups -> seasonal products', 0.10416666666666667),\n",
    "    ('beef -> napkins', 0.00027392739273927394),\n",
    "    ('whole milk -> yogurt', 0.00041967871485943775)\n",
    "]\n",
    "\n",
    "# Extracting items and support values\n",
    "items = [rule.split(' -> ')[0] for rule, _ in association_rules]\n",
    "support = [support for _, support in association_rules]\n",
    "\n",
    "# Plotting\n",
    "plt.figure(figsize=(10, 6))\n",
    "plt.bar(items, support, color='skyblue')\n",
    "plt.xlabel('Association Rule')\n",
    "plt.ylabel('Support')\n",
    "plt.title('Support for Association Rules')\n",
    "plt.xticks(rotation=45)\n",
    "plt.grid(axis='y', linestyle='--', alpha=0.7)\n",
    "plt.show()\n",
    "\n"
   ]
  },
  {
   "cell_type": "code",
   "execution_count": 64,
   "metadata": {},
   "outputs": [
    {
     "name": "stdout",
     "output_type": "stream",
     "text": [
      "Association Rule: whole milk -> yogurt\n",
      "Support: 0.00041967871485943775\n",
      "Confidence: 0.10416666666666667\n",
      "Lift: 3.12741967871486\n",
      "\n",
      "\n",
      "Association Rule: beef -> napkins\n",
      "Support: 0.0002739273927392739\n",
      "Confidence: 0.08333333333333333\n",
      "Lift: 3.255767443611353\n",
      "\n",
      "\n",
      "Association Rule: pip fruit -> rolls/buns\n",
      "Support: 0.00017523407028288557\n",
      "Confidence: 0.1388888888888889\n",
      "Lift: 4.177667079906591\n",
      "\n",
      "\n"
     ]
    }
   ],
   "source": [
    "association_rules = [\n",
    "    ('whole milk -> yogurt', 0.00041967871485943775, 0.10416666666666667, 3.12741967871486),\n",
    "    ('beef -> napkins', 0.00027392739273927394, 0.08333333333333333, 3.255767443611353),\n",
    "    ('pip fruit -> rolls/buns', 0.00017523407028288558, 0.1388888888888889, 4.177667079906591)\n",
    "]\n",
    "\n",
    "for rule in association_rules:\n",
    "    items, support, confidence, lift = rule\n",
    "    print(f\"Association Rule: {items}\")\n",
    "    print(f\"Support: {support}\")\n",
    "    print(f\"Confidence: {confidence}\")\n",
    "    print(f\"Lift: {lift}\")\n",
    "    print(\"\\n\")\n"
   ]
  },
  {
   "cell_type": "code",
   "execution_count": 65,
   "metadata": {},
   "outputs": [
    {
     "data": {
      "image/png": "[encoded data removed]",
      "text/plain": [
       "<Figure size 1000x600 with 1 Axes>"
      ]
     },
     "metadata": {},
     "output_type": "display_data"
    }
   ],
   "source": [
    "# Association rules\n",
    "rules = ['whole milk -> yogurt', 'beef -> napkins', 'pip fruit -> rolls/buns']\n",
    "support = [0.00041967871485943775, 0.0002739273927392739, 0.00017523407028288557]\n",
    "confidence = [0.10416666666666667, 0.08333333333333333, 0.1388888888888889]\n",
    "lift = [3.12741967871486, 3.255767443611353, 4.177667079906591]\n",
    "\n",
    "# Plotting\n",
    "plt.figure(figsize=(10, 6))\n",
    "plt.barh(rules, support, color='skyblue', label='Support')\n",
    "plt.barh(rules, confidence, color='lightgreen', left=support, label='Confidence')\n",
    "plt.barh(rules, lift, color='lightcoral', left=[sup + conf for sup, conf in zip(support, confidence)], label='Lift')\n",
    "plt.xlabel('Metric Value')\n",
    "plt.title('Association Rules Metrics')\n",
    "plt.legend()\n",
    "plt.grid(axis='x', linestyle='--', alpha=0.7)\n",
    "plt.show()"
   ]
  },
  {
   "cell_type": "markdown",
   "metadata": {},
   "source": [
    " *  Customers who purchase whole milk are 10.42% likely to also purchase yogurt, with a lift of 3.13. This indicates a moderate positive association between whole milk and yogurt purchases.\n",
    "\n",
    " * Customers who purchase beef are 8.33% likely to also purchase napkins, with a lift of 3.26. This suggests a moderate positive association between beef and napkins purchases.\n",
    "\n",
    "* Customers who purchase pip fruit are 13.89% likely to also purchase rolls/buns, with a lift of 4.18. This indicates a strong positive association between pip fruit and rolls/buns purchases."
   ]
  },
  {
   "cell_type": "code",
   "execution_count": null,
   "metadata": {},
   "outputs": [],
   "source": []
  }
 ],
 "metadata": {
  "colab": {
   "authorship_tag": "ABX9TyMj09kQdRXV3X06XEaaGtqX",
   "collapsed_sections": [],
   "name": "Apriori Algorithm - Project on Market Basket Analysis.ipynb",
   "provenance": []
  },
  "kernelspec": {
   "display_name": "Python 3 (ipykernel)",
   "language": "python",
   "name": "python3"
  },
  "language_info": {
   "codemirror_mode": {
    "name": "ipython",
    "version": 3
   },
   "file_extension": ".py",
   "mimetype": "text/x-python",
   "name": "python",
   "nbconvert_exporter": "python",
   "pygments_lexer": "ipython3",
   "version": "3.8.8"
  }
 },
 "nbformat": 4,
 "nbformat_minor": 1
}
